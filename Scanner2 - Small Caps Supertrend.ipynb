{
 "cells": [
  {
   "cell_type": "code",
   "execution_count": null,
   "id": "a700c8a3-f901-4b97-91da-810296841e69",
   "metadata": {},
   "outputs": [],
   "source": []
  },
  {
   "cell_type": "code",
   "execution_count": 39,
   "id": "6d621b14-9fa3-42d2-a269-01504752b57c",
   "metadata": {
    "scrolled": true
   },
   "outputs": [
    {
     "name": "stderr",
     "output_type": "stream",
     "text": [
      "/var/folders/9b/ckc59bc918g30hv5rlmd9yv00000gn/T/ipykernel_20614/1373407624.py:14: FutureWarning: Passing literal html to 'read_html' is deprecated and will be removed in a future version. To read from a literal string, wrap it in a 'StringIO' object.\n",
      "  tables = pd.read_html(response.text)\n"
     ]
    }
   ],
   "source": [
    "import requests\n",
    "import pandas as pd\n",
    "\n",
    "def fetch_mega_cap_tickers():\n",
    "    url = \"https://stockanalysis.com/list/small-cap-stocks/\" #\"https://stockanalysis.com/list/mid-cap-stocks/\" #\"https://stockanalysis.com/list/small-cap-stocks/\"  #\"https://stockanalysis.com/list/mega-cap-stocks/\"\n",
    "    #https://stockanalysis.com/list/ \"https://stockanalysis.com/list/micro-cap-stocks/\"\n",
    "    \n",
    "    try:\n",
    "        # Fetch the HTML content\n",
    "        response = requests.get(url)\n",
    "        response.raise_for_status()\n",
    "        \n",
    "        # Parse the HTML table\n",
    "        tables = pd.read_html(response.text)\n",
    "        \n",
    "        # The table we want is typically the first one\n",
    "        mega_cap_df = tables[0]\n",
    "        \n",
    "        # Extract the 'Symbol' column\n",
    "        tickers = mega_cap_df['Symbol'].tolist()\n",
    "        \n",
    "        return tickers\n",
    "    \n",
    "    except Exception as e:\n",
    "        print(f\"An error occurred: {str(e)}\")\n",
    "        return []\n",
    "\n",
    "# Fetch and print the ticker symbols\n",
    "tickers = fetch_mega_cap_tickers()"
   ]
  },
  {
   "cell_type": "code",
   "execution_count": 6,
   "id": "c5748536-9119-4d6e-829b-1e082f1e39b2",
   "metadata": {},
   "outputs": [
    {
     "name": "stdout",
     "output_type": "stream",
     "text": [
      "Mega-cap stock tickers:\n",
      "['WNS', 'IIPR', 'NGD', 'FIHL', 'AKRO', 'CDLR', 'HURN', 'PAGS', 'TSLX', 'TRIP', 'OFG', 'CRI', 'IRON', 'PLUS', 'GBX', 'HG', 'UFPT', 'HRMY', 'SUPN', 'GTX', 'BLTE', 'SLNO', 'ENLT', 'HLMN', 'IBTA', 'DRH', 'PRM', 'STC', 'CGON', 'BTE', 'AGX', 'CHEF', 'SID', 'MNKD', 'KMT', 'SIMO', 'ROG', 'QBTS', 'LGF.A', 'JAMF', 'HTH', 'AMPH', 'CIFR', 'BKV', 'CMPR', 'INTR', 'ENVX', 'HDL', 'CMBT', 'PSEC', 'HPK', 'EXPI', 'IBRX', 'GENI', 'MQ', 'MSDL', 'LC', 'PCT', 'SEMR', 'FBNC', 'SPT', 'CNXN', 'ROCK', 'WMK', 'CVI', 'MBC', 'WWW', 'OBDE', 'TRMD', 'AMBP', 'DAVA', 'MESO', 'INSW', 'HEES', 'LZB', 'CTRI', 'CASH', 'LOB', 'GOGL', 'CHCO', 'TXG', 'NABL', 'NEXT', 'SONO', 'FINV', 'ORLA', 'SBLK', 'GLPG', 'PAX', 'DFIN', 'LKFN', 'CENX', 'THS', 'STGW', 'ARQT', 'CODI', 'PRDO', 'KN', 'APLD', 'CLMT', 'SEI', 'PRG', 'DNN', 'VITL', 'HE', 'BBUC', 'CERT', 'FCF', 'GDYN', 'VRNT', 'HSAI', 'NHC', 'NMRA', 'GDRX', 'OPRA', 'IART', 'XNCR', 'NWBI', 'AAOI', 'DAN', 'BHE', 'MXL', 'VRE', 'DVAX', 'WBTN', 'IAS', 'GTY', 'REVG', 'GLP', 'CLBK', 'PD', 'GNL', 'AG', 'FTRE', 'EPC', 'UCTT', 'SVV', 'CLDX', 'NEP', 'SJW', 'MBIN', 'DNUT', 'NBHC', 'TALO', 'DSGR', 'MNR', 'UPBD', 'NAPA', 'NTB', 'PEB', 'TROX', 'DBD', 'ASTH', 'HMN', 'GPCR', 'MLNK', 'TWFG', 'BCRX', 'NIC', 'MSGE', 'CTS', 'ULCC', 'SAND', 'CLOV', 'NWN', 'OI', 'FDP', 'WS', 'BAK', 'ARCO', 'APOG', 'VECO', 'KSS', 'ALGT', 'WKC', 'TDOC', 'GB', 'LTC', 'HLIT', 'UNFI', 'INFN', 'DAC', 'KEN', 'SUPV', 'EVO', 'NTCT', 'RLJ', 'EVEX', 'KLG', 'VRTS', 'LUCK', 'CMRE', 'SPNS', 'SASR', 'XHR', 'STEL', 'INDV', 'AMC', 'ZUO', 'MLKN', 'PLAB', 'MTTR', 'DMLP', 'BWLP', 'KRNT', 'VBTX', 'BV', 'HLIO', 'TNC', 'SCL', 'GO', 'CSTM', 'VVX', 'JBGS', 'VRDN', 'WTTR', 'DESP', 'DHT', 'KRP', 'GSBD', 'CUBI', 'NGVT', 'ADEA', 'WT', 'PLYA', 'STBA', 'UMH', 'TVTX', 'HOPE', 'GRDN', 'ATRC', 'MMI', 'KOS', 'ARIS', 'TCBK', 'TILE', 'PHR', 'GIII', 'SRCE', 'KARO', 'ADNT', 'TASK', 'LADR', 'DX', 'SABR', 'SSRM', 'SDGR', 'MAG', 'INMD', 'KNSA', 'ATSG', 'PX', 'MCRI', 'SEZL', 'TGI', 'CSGS', 'NAVI', 'RCUS', 'JKS', 'PRAX', 'AFYA', 'MODG', 'FSLY', 'WINA', 'CMPO', 'IMCR', 'AMPL', 'SDHC', 'RXST', 'WABC', 'UTI', 'FORTY', 'HLX', 'KW', 'RBCAA', 'SHCO', 'HIMX', 'HELE', 'TIGR', 'DCBO', 'LOMA', 'NRP', 'ERO', 'BUSE', 'QCRH', 'VET', 'DNOW', 'ATEN', 'NRIX', 'ANDE', 'SILV', 'NVAX', 'FSM', 'WGO', 'WLFC', 'NMM', 'DCOM', 'SPHR', 'SYRE', 'USPH', 'MDXG', 'SILA', 'ENFN', 'LZ', 'XPRO', 'TNK', 'SFL', 'SAFE', 'UNIT', 'UVV', 'IMAX', 'SCS', 'NSSC', 'ELME', 'AHCO', 'FOR', 'COUR', 'LNN', 'PBI', 'CDRE', 'MRVI', 'ARHS', 'OCUL', 'BLX', 'DEA', 'ATEC', 'BFS', 'CET', 'LEG', 'DOLE', 'EVH', 'PZZA', 'BY', 'TBLA', 'EVGO', 'AUPH', 'MFIC', 'QNST', 'ALEX', 'MOMO', 'TLRY', 'BLBD', 'ASAI', 'TPC', 'DAWN', 'MRTN', 'IRS', 'SGML', 'GEL', 'OLO', 'AIV', 'EIG', 'DQ', 'INOD', 'CRAI', 'CNNE', 'OXM', 'DXPE', 'ARVN', 'OCSL', 'CRCT', 'RC', 'COHU', 'DSP', 'ARI', 'HCI', 'PGNY', 'IMKTA', 'MYGN', 'NVEE', 'NTLA', 'ULH', 'TWO', 'BLFS', 'AMWD', 'COMM', 'GABC', 'NMFC', 'DAVE', 'IDT', 'LILAK', 'FOXF', 'SMWB', 'SAFT', 'RES', 'SEPN', 'BHLB', 'CGAU', 'AMRC', 'BMBL', 'EFXT', 'ESTA', 'THRM', 'STAA', 'AORT', 'PL', 'KBDC', 'EMBC', 'HROW', 'OLPX', 'NX', 'OPEN', 'FLNG', 'UP', 'CBRL', 'MSC', 'EVRI', 'WEAV', 'BELFA', 'XRX', 'VSAT', 'UDMY', 'CIM', 'NTST', 'CSR', 'SCSC', 'ARLO', 'FWRG', 'AOSL', 'FBYD', 'BLND', 'PFBC', 'SBH', 'ACDC', 'ATUS', 'MD', 'PGRE', 'FVRR', 'VMEO', 'PMT', 'BCSF', 'SPH', 'KALU', 'SNDX', 'CTOS', 'PEBO', 'CDNA', 'BOW', 'CARS', 'PLAY', 'DGII', 'EFC', 'ARDX', 'BBSI', 'INVA', 'LEU', 'CCB', 'ELVN', 'PLSE', 'GEAR', 'PDFS', 'NEXA', 'XPEL', 'FSUN', 'ECPG', 'KRO', 'ROOT', 'NG', 'PDM', 'MRC', 'KRUS', 'SPRY', 'MFA', 'VTEX', 'FBMS', 'IGIC', 'NXRT', 'PRO', 'CCEC', 'WOOF', 'SII', 'SA', 'JBI', 'HEPS', 'UUUU', 'CMCO', 'BRKL', 'ANIP', 'SBGI', 'BELFB', 'HTZ', 'VTLE', 'SSTK', 'DK', 'NVGS', 'PSFE', 'RCKT', 'ARR', 'AVXL', 'FBRT', 'OBK', 'ICHR', 'OCFC', 'EXOD', 'TPB', 'AHH', 'BRDG', 'AMAL', 'PENG', 'LPG']\n"
     ]
    },
    {
     "name": "stderr",
     "output_type": "stream",
     "text": [
      "/var/folders/9b/ckc59bc918g30hv5rlmd9yv00000gn/T/ipykernel_28396/3353400209.py:13: FutureWarning: Passing literal html to 'read_html' is deprecated and will be removed in a future version. To read from a literal string, wrap it in a 'StringIO' object.\n",
      "  tables = pd.read_html(response.text)\n"
     ]
    }
   ],
   "source": [
    "import requests\n",
    "import pandas as pd\n",
    "\n",
    "def fetch_mega_cap_tickers():\n",
    "    url = \"https://stockanalysis.com/list/small-cap-stocks/\"  #\"https://stockanalysis.com/list/mega-cap-stocks/\"\n",
    "    #https://stockanalysis.com/list/\n",
    "    \n",
    "    try:\n",
    "        # Fetch the HTML content\n",
    "        response = requests.get(url)\n",
    "        response.raise_for_status()\n",
    "        \n",
    "        # Parse the HTML table\n",
    "        tables = pd.read_html(response.text)\n",
    "        \n",
    "        # The table we want is typically the first one\n",
    "        mega_cap_df = tables[0]\n",
    "        \n",
    "        # Extract the 'Symbol' column\n",
    "        tickers = mega_cap_df['Symbol'].tolist()\n",
    "        \n",
    "        return tickers\n",
    "    \n",
    "    except Exception as e:\n",
    "        print(f\"An error occurred: {str(e)}\")\n",
    "        return []\n",
    "\n",
    "# Fetch and print the ticker symbols\n",
    "tickers = fetch_mega_cap_tickers()\n",
    "print(\"Mega-cap stock tickers:\")\n",
    "print(tickers)"
   ]
  },
  {
   "cell_type": "code",
   "execution_count": 41,
   "id": "76ad5e4f-7f28-4b12-aec1-58e3ae930e96",
   "metadata": {},
   "outputs": [
    {
     "name": "stderr",
     "output_type": "stream",
     "text": [
      "[*********************100%***********************]  1 of 1 completed\n",
      "[*********************100%***********************]  1 of 1 completed\n"
     ]
    },
    {
     "name": "stdout",
     "output_type": "stream",
     "text": [
      "Index(['Open', 'High', 'Low', 'Close', 'Adj Close', 'Volume'], dtype='object')\n",
      "Index(['Open', 'High', 'Low', 'Close', 'Adj Close', 'Volume', 'TR1', 'TR2',\n",
      "       'TR3', 'TR', 'ATR', 'SuperTrend_Up', 'SuperTrend_Down', 'Trend',\n",
      "       'Buy_Signal', 'Sell_Signal'],\n",
      "      dtype='object')\n",
      "Index(['Open', 'High', 'Low', 'Close', 'Adj Close', 'Volume'], dtype='object')\n"
     ]
    },
    {
     "name": "stderr",
     "output_type": "stream",
     "text": [
      "[*********************100%***********************]  1 of 1 completed\n"
     ]
    },
    {
     "name": "stdout",
     "output_type": "stream",
     "text": [
      "Index(['Open', 'High', 'Low', 'Close', 'Adj Close', 'Volume', 'TR1', 'TR2',\n",
      "       'TR3', 'TR', 'ATR', 'SuperTrend_Up', 'SuperTrend_Down', 'Trend',\n",
      "       'Buy_Signal', 'Sell_Signal'],\n",
      "      dtype='object')\n",
      "Index(['Open', 'High', 'Low', 'Close', 'Adj Close', 'Volume'], dtype='object')\n",
      "Index(['Open', 'High', 'Low', 'Close', 'Adj Close', 'Volume', 'TR1', 'TR2',\n",
      "       'TR3', 'TR', 'ATR', 'SuperTrend_Up', 'SuperTrend_Down', 'Trend',\n",
      "       'Buy_Signal', 'Sell_Signal'],\n",
      "      dtype='object')\n"
     ]
    },
    {
     "name": "stderr",
     "output_type": "stream",
     "text": [
      "[*********************100%***********************]  1 of 1 completed\n"
     ]
    },
    {
     "name": "stdout",
     "output_type": "stream",
     "text": [
      "Index(['Open', 'High', 'Low', 'Close', 'Adj Close', 'Volume'], dtype='object')\n",
      "Index(['Open', 'High', 'Low', 'Close', 'Adj Close', 'Volume', 'TR1', 'TR2',\n",
      "       'TR3', 'TR', 'ATR', 'SuperTrend_Up', 'SuperTrend_Down', 'Trend',\n",
      "       'Buy_Signal', 'Sell_Signal'],\n",
      "      dtype='object')\n"
     ]
    },
    {
     "name": "stderr",
     "output_type": "stream",
     "text": [
      "[*********************100%***********************]  1 of 1 completed\n"
     ]
    },
    {
     "name": "stdout",
     "output_type": "stream",
     "text": [
      "Index(['Open', 'High', 'Low', 'Close', 'Adj Close', 'Volume'], dtype='object')\n",
      "Index(['Open', 'High', 'Low', 'Close', 'Adj Close', 'Volume', 'TR1', 'TR2',\n",
      "       'TR3', 'TR', 'ATR', 'SuperTrend_Up', 'SuperTrend_Down', 'Trend',\n",
      "       'Buy_Signal', 'Sell_Signal'],\n",
      "      dtype='object')\n"
     ]
    },
    {
     "name": "stderr",
     "output_type": "stream",
     "text": [
      "[*********************100%***********************]  1 of 1 completed\n",
      "[*********************100%***********************]  1 of 1 completed\n"
     ]
    },
    {
     "name": "stdout",
     "output_type": "stream",
     "text": [
      "Index(['Open', 'High', 'Low', 'Close', 'Adj Close', 'Volume'], dtype='object')\n",
      "Index(['Open', 'High', 'Low', 'Close', 'Adj Close', 'Volume', 'TR1', 'TR2',\n",
      "       'TR3', 'TR', 'ATR', 'SuperTrend_Up', 'SuperTrend_Down', 'Trend',\n",
      "       'Buy_Signal', 'Sell_Signal'],\n",
      "      dtype='object')\n",
      "Index(['Open', 'High', 'Low', 'Close', 'Adj Close', 'Volume'], dtype='object')\n",
      "Index(['Open', 'High', 'Low', 'Close', 'Adj Close', 'Volume', 'TR1', 'TR2',\n",
      "       'TR3', 'TR', 'ATR', 'SuperTrend_Up', 'SuperTrend_Down', 'Trend',\n",
      "       'Buy_Signal', 'Sell_Signal'],\n",
      "      dtype='object')\n"
     ]
    },
    {
     "name": "stderr",
     "output_type": "stream",
     "text": [
      "[*********************100%***********************]  1 of 1 completed\n"
     ]
    },
    {
     "name": "stdout",
     "output_type": "stream",
     "text": [
      "Index(['Open', 'High', 'Low', 'Close', 'Adj Close', 'Volume'], dtype='object')\n",
      "Index(['Open', 'High', 'Low', 'Close', 'Adj Close', 'Volume', 'TR1', 'TR2',\n",
      "       'TR3', 'TR', 'ATR', 'SuperTrend_Up', 'SuperTrend_Down', 'Trend',\n",
      "       'Buy_Signal', 'Sell_Signal'],\n",
      "      dtype='object')\n"
     ]
    },
    {
     "name": "stderr",
     "output_type": "stream",
     "text": [
      "[*********************100%***********************]  1 of 1 completed\n",
      "[*********************100%***********************]  1 of 1 completed\n"
     ]
    },
    {
     "name": "stdout",
     "output_type": "stream",
     "text": [
      "Index(['Open', 'High', 'Low', 'Close', 'Adj Close', 'Volume'], dtype='object')\n",
      "Index(['Open', 'High', 'Low', 'Close', 'Adj Close', 'Volume', 'TR1', 'TR2',\n",
      "       'TR3', 'TR', 'ATR', 'SuperTrend_Up', 'SuperTrend_Down', 'Trend',\n",
      "       'Buy_Signal', 'Sell_Signal'],\n",
      "      dtype='object')\n",
      "Index(['Open', 'High', 'Low', 'Close', 'Adj Close', 'Volume'], dtype='object')\n"
     ]
    },
    {
     "name": "stderr",
     "output_type": "stream",
     "text": [
      "[*********************100%***********************]  1 of 1 completed"
     ]
    },
    {
     "name": "stdout",
     "output_type": "stream",
     "text": [
      "Index(['Open', 'High', 'Low', 'Close', 'Adj Close', 'Volume', 'TR1', 'TR2',\n",
      "       'TR3', 'TR', 'ATR', 'SuperTrend_Up', 'SuperTrend_Down', 'Trend',\n",
      "       'Buy_Signal', 'Sell_Signal'],\n",
      "      dtype='object')\n",
      "Index(['Open', 'High', 'Low', 'Close', 'Adj Close', 'Volume'], dtype='object')\n",
      "Index(['Open', 'High', 'Low', 'Close', 'Adj Close', 'Volume', 'TR1', 'TR2',\n",
      "       'TR3', 'TR', 'ATR', 'SuperTrend_Up', 'SuperTrend_Down', 'Trend',\n",
      "       'Buy_Signal', 'Sell_Signal'],\n",
      "      dtype='object')\n"
     ]
    },
    {
     "name": "stderr",
     "output_type": "stream",
     "text": [
      "\n",
      "[*********************100%***********************]  1 of 1 completed\n",
      "[*********************100%***********************]  1 of 1 completed\n"
     ]
    },
    {
     "name": "stdout",
     "output_type": "stream",
     "text": [
      "Index(['Open', 'High', 'Low', 'Close', 'Adj Close', 'Volume'], dtype='object')\n",
      "Index(['Open', 'High', 'Low', 'Close', 'Adj Close', 'Volume', 'TR1', 'TR2',\n",
      "       'TR3', 'TR', 'ATR', 'SuperTrend_Up', 'SuperTrend_Down', 'Trend',\n",
      "       'Buy_Signal', 'Sell_Signal'],\n",
      "      dtype='object')\n",
      "Index(['Open', 'High', 'Low', 'Close', 'Adj Close', 'Volume'], dtype='object')\n"
     ]
    },
    {
     "name": "stderr",
     "output_type": "stream",
     "text": [
      "[*********************100%***********************]  1 of 1 completed\n"
     ]
    },
    {
     "name": "stdout",
     "output_type": "stream",
     "text": [
      "Index(['Open', 'High', 'Low', 'Close', 'Adj Close', 'Volume', 'TR1', 'TR2',\n",
      "       'TR3', 'TR', 'ATR', 'SuperTrend_Up', 'SuperTrend_Down', 'Trend',\n",
      "       'Buy_Signal', 'Sell_Signal'],\n",
      "      dtype='object')\n",
      "Index(['Open', 'High', 'Low', 'Close', 'Adj Close', 'Volume'], dtype='object')\n",
      "Index(['Open', 'High', 'Low', 'Close', 'Adj Close', 'Volume', 'TR1', 'TR2',\n",
      "       'TR3', 'TR', 'ATR', 'SuperTrend_Up', 'SuperTrend_Down', 'Trend',\n",
      "       'Buy_Signal', 'Sell_Signal'],\n",
      "      dtype='object')\n"
     ]
    },
    {
     "name": "stderr",
     "output_type": "stream",
     "text": [
      "[*********************100%***********************]  1 of 1 completed\n",
      "[*********************100%***********************]  1 of 1 completed"
     ]
    },
    {
     "name": "stdout",
     "output_type": "stream",
     "text": [
      "Index(['Open', 'High', 'Low', 'Close', 'Adj Close', 'Volume'], dtype='object')\n",
      "Index(['Open', 'High', 'Low', 'Close', 'Adj Close', 'Volume', 'TR1', 'TR2',\n",
      "       'TR3', 'TR', 'ATR', 'SuperTrend_Up', 'SuperTrend_Down', 'Trend',\n",
      "       'Buy_Signal', 'Sell_Signal'],\n",
      "      dtype='object')\n"
     ]
    },
    {
     "name": "stderr",
     "output_type": "stream",
     "text": [
      "\n"
     ]
    },
    {
     "name": "stdout",
     "output_type": "stream",
     "text": [
      "Index(['Open', 'High', 'Low', 'Close', 'Adj Close', 'Volume'], dtype='object')\n",
      "Index(['Open', 'High', 'Low', 'Close', 'Adj Close', 'Volume', 'TR1', 'TR2',\n",
      "       'TR3', 'TR', 'ATR', 'SuperTrend_Up', 'SuperTrend_Down', 'Trend',\n",
      "       'Buy_Signal', 'Sell_Signal'],\n",
      "      dtype='object')\n"
     ]
    },
    {
     "name": "stderr",
     "output_type": "stream",
     "text": [
      "[*********************100%***********************]  1 of 1 completed\n",
      "[*********************100%***********************]  1 of 1 completed\n"
     ]
    },
    {
     "name": "stdout",
     "output_type": "stream",
     "text": [
      "Index(['Open', 'High', 'Low', 'Close', 'Adj Close', 'Volume'], dtype='object')\n",
      "Index(['Open', 'High', 'Low', 'Close', 'Adj Close', 'Volume', 'TR1', 'TR2',\n",
      "       'TR3', 'TR', 'ATR', 'SuperTrend_Up', 'SuperTrend_Down', 'Trend',\n",
      "       'Buy_Signal', 'Sell_Signal'],\n",
      "      dtype='object')\n",
      "Index(['Open', 'High', 'Low', 'Close', 'Adj Close', 'Volume'], dtype='object')\n"
     ]
    },
    {
     "name": "stderr",
     "output_type": "stream",
     "text": [
      "[*********************100%***********************]  1 of 1 completed\n"
     ]
    },
    {
     "name": "stdout",
     "output_type": "stream",
     "text": [
      "Index(['Open', 'High', 'Low', 'Close', 'Adj Close', 'Volume', 'TR1', 'TR2',\n",
      "       'TR3', 'TR', 'ATR', 'SuperTrend_Up', 'SuperTrend_Down', 'Trend',\n",
      "       'Buy_Signal', 'Sell_Signal'],\n",
      "      dtype='object')\n",
      "Index(['Open', 'High', 'Low', 'Close', 'Adj Close', 'Volume'], dtype='object')\n"
     ]
    },
    {
     "name": "stderr",
     "output_type": "stream",
     "text": [
      "[*********************100%***********************]  1 of 1 completed"
     ]
    },
    {
     "name": "stdout",
     "output_type": "stream",
     "text": [
      "Index(['Open', 'High', 'Low', 'Close', 'Adj Close', 'Volume', 'TR1', 'TR2',\n",
      "       'TR3', 'TR', 'ATR', 'SuperTrend_Up', 'SuperTrend_Down', 'Trend',\n",
      "       'Buy_Signal', 'Sell_Signal'],\n",
      "      dtype='object')\n",
      "Index(['Open', 'High', 'Low', 'Close', 'Adj Close', 'Volume'], dtype='object')\n"
     ]
    },
    {
     "name": "stderr",
     "output_type": "stream",
     "text": [
      "\n",
      "[*********************100%***********************]  1 of 1 completed"
     ]
    },
    {
     "name": "stdout",
     "output_type": "stream",
     "text": [
      "Index(['Open', 'High', 'Low', 'Close', 'Adj Close', 'Volume', 'TR1', 'TR2',\n",
      "       'TR3', 'TR', 'ATR', 'SuperTrend_Up', 'SuperTrend_Down', 'Trend',\n",
      "       'Buy_Signal', 'Sell_Signal'],\n",
      "      dtype='object')\n",
      "Index(['Open', 'High', 'Low', 'Close', 'Adj Close', 'Volume'], dtype='object')\n"
     ]
    },
    {
     "name": "stderr",
     "output_type": "stream",
     "text": [
      "\n",
      "[*********************100%***********************]  1 of 1 completed"
     ]
    },
    {
     "name": "stdout",
     "output_type": "stream",
     "text": [
      "Index(['Open', 'High', 'Low', 'Close', 'Adj Close', 'Volume', 'TR1', 'TR2',\n",
      "       'TR3', 'TR', 'ATR', 'SuperTrend_Up', 'SuperTrend_Down', 'Trend',\n",
      "       'Buy_Signal', 'Sell_Signal'],\n",
      "      dtype='object')\n",
      "Index(['Open', 'High', 'Low', 'Close', 'Adj Close', 'Volume'], dtype='object')\n"
     ]
    },
    {
     "name": "stderr",
     "output_type": "stream",
     "text": [
      "\n",
      "[*********************100%***********************]  1 of 1 completed"
     ]
    },
    {
     "name": "stdout",
     "output_type": "stream",
     "text": [
      "Index(['Open', 'High', 'Low', 'Close', 'Adj Close', 'Volume', 'TR1', 'TR2',\n",
      "       'TR3', 'TR', 'ATR', 'SuperTrend_Up', 'SuperTrend_Down', 'Trend',\n",
      "       'Buy_Signal', 'Sell_Signal'],\n",
      "      dtype='object')\n",
      "Index(['Open', 'High', 'Low', 'Close', 'Adj Close', 'Volume'], dtype='object')\n"
     ]
    },
    {
     "name": "stderr",
     "output_type": "stream",
     "text": [
      "\n",
      "[*********************100%***********************]  1 of 1 completed"
     ]
    },
    {
     "name": "stdout",
     "output_type": "stream",
     "text": [
      "Index(['Open', 'High', 'Low', 'Close', 'Adj Close', 'Volume', 'TR1', 'TR2',\n",
      "       'TR3', 'TR', 'ATR', 'SuperTrend_Up', 'SuperTrend_Down', 'Trend',\n",
      "       'Buy_Signal', 'Sell_Signal'],\n",
      "      dtype='object')\n",
      "Index(['Open', 'High', 'Low', 'Close', 'Adj Close', 'Volume'], dtype='object')\n"
     ]
    },
    {
     "name": "stderr",
     "output_type": "stream",
     "text": [
      "\n",
      "[*********************100%***********************]  1 of 1 completed"
     ]
    },
    {
     "name": "stdout",
     "output_type": "stream",
     "text": [
      "Index(['Open', 'High', 'Low', 'Close', 'Adj Close', 'Volume', 'TR1', 'TR2',\n",
      "       'TR3', 'TR', 'ATR', 'SuperTrend_Up', 'SuperTrend_Down', 'Trend',\n",
      "       'Buy_Signal', 'Sell_Signal'],\n",
      "      dtype='object')\n",
      "Index(['Open', 'High', 'Low', 'Close', 'Adj Close', 'Volume'], dtype='object')\n"
     ]
    },
    {
     "name": "stderr",
     "output_type": "stream",
     "text": [
      "\n",
      "[*********************100%***********************]  1 of 1 completed\n"
     ]
    },
    {
     "name": "stdout",
     "output_type": "stream",
     "text": [
      "Index(['Open', 'High', 'Low', 'Close', 'Adj Close', 'Volume', 'TR1', 'TR2',\n",
      "       'TR3', 'TR', 'ATR', 'SuperTrend_Up', 'SuperTrend_Down', 'Trend',\n",
      "       'Buy_Signal', 'Sell_Signal'],\n",
      "      dtype='object')\n",
      "Index(['Open', 'High', 'Low', 'Close', 'Adj Close', 'Volume'], dtype='object')\n",
      "Index(['Open', 'High', 'Low', 'Close', 'Adj Close', 'Volume', 'TR1', 'TR2',\n",
      "       'TR3', 'TR', 'ATR', 'SuperTrend_Up', 'SuperTrend_Down', 'Trend',\n",
      "       'Buy_Signal', 'Sell_Signal'],\n",
      "      dtype='object')\n"
     ]
    },
    {
     "name": "stderr",
     "output_type": "stream",
     "text": [
      "[*********************100%***********************]  1 of 1 completed\n"
     ]
    },
    {
     "name": "stdout",
     "output_type": "stream",
     "text": [
      "Index(['Open', 'High', 'Low', 'Close', 'Adj Close', 'Volume'], dtype='object')\n",
      "Index(['Open', 'High', 'Low', 'Close', 'Adj Close', 'Volume', 'TR1', 'TR2',\n",
      "       'TR3', 'TR', 'ATR', 'SuperTrend_Up', 'SuperTrend_Down', 'Trend',\n",
      "       'Buy_Signal', 'Sell_Signal'],\n",
      "      dtype='object')\n"
     ]
    },
    {
     "name": "stderr",
     "output_type": "stream",
     "text": [
      "[*********************100%***********************]  1 of 1 completed\n"
     ]
    },
    {
     "name": "stdout",
     "output_type": "stream",
     "text": [
      "Index(['Open', 'High', 'Low', 'Close', 'Adj Close', 'Volume'], dtype='object')\n",
      "Index(['Open', 'High', 'Low', 'Close', 'Adj Close', 'Volume', 'TR1', 'TR2',\n",
      "       'TR3', 'TR', 'ATR', 'SuperTrend_Up', 'SuperTrend_Down', 'Trend',\n",
      "       'Buy_Signal', 'Sell_Signal'],\n",
      "      dtype='object')\n"
     ]
    },
    {
     "name": "stderr",
     "output_type": "stream",
     "text": [
      "[*********************100%***********************]  1 of 1 completed\n",
      "[*********************100%***********************]  1 of 1 completed\n"
     ]
    },
    {
     "name": "stdout",
     "output_type": "stream",
     "text": [
      "Index(['Open', 'High', 'Low', 'Close', 'Adj Close', 'Volume'], dtype='object')\n",
      "Index(['Open', 'High', 'Low', 'Close', 'Adj Close', 'Volume', 'TR1', 'TR2',\n",
      "       'TR3', 'TR', 'ATR', 'SuperTrend_Up', 'SuperTrend_Down', 'Trend',\n",
      "       'Buy_Signal', 'Sell_Signal'],\n",
      "      dtype='object')\n",
      "Index(['Open', 'High', 'Low', 'Close', 'Adj Close', 'Volume'], dtype='object')\n"
     ]
    },
    {
     "name": "stderr",
     "output_type": "stream",
     "text": [
      "[*********************100%***********************]  1 of 1 completed\n"
     ]
    },
    {
     "name": "stdout",
     "output_type": "stream",
     "text": [
      "Index(['Open', 'High', 'Low', 'Close', 'Adj Close', 'Volume', 'TR1', 'TR2',\n",
      "       'TR3', 'TR', 'ATR', 'SuperTrend_Up', 'SuperTrend_Down', 'Trend',\n",
      "       'Buy_Signal', 'Sell_Signal'],\n",
      "      dtype='object')\n",
      "Index(['Open', 'High', 'Low', 'Close', 'Adj Close', 'Volume'], dtype='object')\n",
      "Index(['Open', 'High', 'Low', 'Close', 'Adj Close', 'Volume', 'TR1', 'TR2',\n",
      "       'TR3', 'TR', 'ATR', 'SuperTrend_Up', 'SuperTrend_Down', 'Trend',\n",
      "       'Buy_Signal', 'Sell_Signal'],\n",
      "      dtype='object')\n"
     ]
    },
    {
     "name": "stderr",
     "output_type": "stream",
     "text": [
      "[*********************100%***********************]  1 of 1 completed\n",
      "\n",
      "1 Failed download:\n",
      "['LGF.A']: YFPricesMissingError('$%ticker%: possibly delisted; no price data found  (period=1y) (Yahoo error = \"No data found, symbol may be delisted\")')\n",
      "[*********************100%***********************]  1 of 1 completed\n"
     ]
    },
    {
     "name": "stdout",
     "output_type": "stream",
     "text": [
      "Index(['Open', 'High', 'Low', 'Close', 'Adj Close', 'Volume'], dtype='object')\n",
      "Error processing LGF.A: iloc cannot enlarge its target object\n",
      "Index(['Open', 'High', 'Low', 'Close', 'Adj Close', 'Volume'], dtype='object')\n",
      "Index(['Open', 'High', 'Low', 'Close', 'Adj Close', 'Volume', 'TR1', 'TR2',\n",
      "       'TR3', 'TR', 'ATR', 'SuperTrend_Up', 'SuperTrend_Down', 'Trend',\n",
      "       'Buy_Signal', 'Sell_Signal'],\n",
      "      dtype='object')\n"
     ]
    },
    {
     "name": "stderr",
     "output_type": "stream",
     "text": [
      "[*********************100%***********************]  1 of 1 completed\n"
     ]
    },
    {
     "name": "stdout",
     "output_type": "stream",
     "text": [
      "Index(['Open', 'High', 'Low', 'Close', 'Adj Close', 'Volume'], dtype='object')\n",
      "Index(['Open', 'High', 'Low', 'Close', 'Adj Close', 'Volume', 'TR1', 'TR2',\n",
      "       'TR3', 'TR', 'ATR', 'SuperTrend_Up', 'SuperTrend_Down', 'Trend',\n",
      "       'Buy_Signal', 'Sell_Signal'],\n",
      "      dtype='object')\n"
     ]
    },
    {
     "name": "stderr",
     "output_type": "stream",
     "text": [
      "[*********************100%***********************]  1 of 1 completed\n"
     ]
    },
    {
     "name": "stdout",
     "output_type": "stream",
     "text": [
      "Index(['Open', 'High', 'Low', 'Close', 'Adj Close', 'Volume'], dtype='object')\n",
      "Index(['Open', 'High', 'Low', 'Close', 'Adj Close', 'Volume', 'TR1', 'TR2',\n",
      "       'TR3', 'TR', 'ATR', 'SuperTrend_Up', 'SuperTrend_Down', 'Trend',\n",
      "       'Buy_Signal', 'Sell_Signal'],\n",
      "      dtype='object')\n"
     ]
    },
    {
     "name": "stderr",
     "output_type": "stream",
     "text": [
      "[*********************100%***********************]  1 of 1 completed\n",
      "[*********************100%***********************]  1 of 1 completed\n"
     ]
    },
    {
     "name": "stdout",
     "output_type": "stream",
     "text": [
      "Index(['Open', 'High', 'Low', 'Close', 'Adj Close', 'Volume'], dtype='object')\n",
      "Index(['Open', 'High', 'Low', 'Close', 'Adj Close', 'Volume', 'TR1', 'TR2',\n",
      "       'TR3', 'TR', 'ATR', 'SuperTrend_Up', 'SuperTrend_Down', 'Trend',\n",
      "       'Buy_Signal', 'Sell_Signal'],\n",
      "      dtype='object')\n",
      "Index(['Open', 'High', 'Low', 'Close', 'Adj Close', 'Volume'], dtype='object')\n"
     ]
    },
    {
     "name": "stderr",
     "output_type": "stream",
     "text": [
      "[*********************100%***********************]  1 of 1 completed\n"
     ]
    },
    {
     "name": "stdout",
     "output_type": "stream",
     "text": [
      "Index(['Open', 'High', 'Low', 'Close', 'Adj Close', 'Volume', 'TR1', 'TR2',\n",
      "       'TR3', 'TR', 'ATR', 'SuperTrend_Up', 'SuperTrend_Down', 'Trend',\n",
      "       'Buy_Signal', 'Sell_Signal'],\n",
      "      dtype='object')\n",
      "Index(['Open', 'High', 'Low', 'Close', 'Adj Close', 'Volume'], dtype='object')\n",
      "Index(['Open', 'High', 'Low', 'Close', 'Adj Close', 'Volume', 'TR1', 'TR2',\n",
      "       'TR3', 'TR', 'ATR', 'SuperTrend_Up', 'SuperTrend_Down', 'Trend',\n",
      "       'Buy_Signal', 'Sell_Signal'],\n",
      "      dtype='object')\n"
     ]
    },
    {
     "name": "stderr",
     "output_type": "stream",
     "text": [
      "[*********************100%***********************]  1 of 1 completed\n",
      "[*********************100%***********************]  1 of 1 completed\n"
     ]
    },
    {
     "name": "stdout",
     "output_type": "stream",
     "text": [
      "Index(['Open', 'High', 'Low', 'Close', 'Adj Close', 'Volume'], dtype='object')\n",
      "Index(['Open', 'High', 'Low', 'Close', 'Adj Close', 'Volume', 'TR1', 'TR2',\n",
      "       'TR3', 'TR', 'ATR', 'SuperTrend_Up', 'SuperTrend_Down', 'Trend',\n",
      "       'Buy_Signal', 'Sell_Signal'],\n",
      "      dtype='object')\n",
      "Index(['Open', 'High', 'Low', 'Close', 'Adj Close', 'Volume'], dtype='object')\n"
     ]
    },
    {
     "name": "stderr",
     "output_type": "stream",
     "text": [
      "[*********************100%***********************]  1 of 1 completed\n",
      "\n",
      "1 Failed download:\n",
      "['BKV']: YFInvalidPeriodError(\"%ticker%: Period '1y' is invalid, must be one of ['1d', '5d', '1mo', '3mo', 'ytd', 'max']\")\n"
     ]
    },
    {
     "name": "stdout",
     "output_type": "stream",
     "text": [
      "Index(['Open', 'High', 'Low', 'Close', 'Adj Close', 'Volume', 'TR1', 'TR2',\n",
      "       'TR3', 'TR', 'ATR', 'SuperTrend_Up', 'SuperTrend_Down', 'Trend',\n",
      "       'Buy_Signal', 'Sell_Signal'],\n",
      "      dtype='object')\n",
      "Index(['Open', 'High', 'Low', 'Close', 'Adj Close', 'Volume'], dtype='object')\n",
      "Error processing BKV: iloc cannot enlarge its target object\n"
     ]
    },
    {
     "name": "stderr",
     "output_type": "stream",
     "text": [
      "[*********************100%***********************]  1 of 1 completed\n",
      "[*********************100%***********************]  1 of 1 completed\n"
     ]
    },
    {
     "name": "stdout",
     "output_type": "stream",
     "text": [
      "Index(['Open', 'High', 'Low', 'Close', 'Adj Close', 'Volume'], dtype='object')\n",
      "Index(['Open', 'High', 'Low', 'Close', 'Adj Close', 'Volume', 'TR1', 'TR2',\n",
      "       'TR3', 'TR', 'ATR', 'SuperTrend_Up', 'SuperTrend_Down', 'Trend',\n",
      "       'Buy_Signal', 'Sell_Signal'],\n",
      "      dtype='object')\n",
      "Index(['Open', 'High', 'Low', 'Close', 'Adj Close', 'Volume'], dtype='object')\n"
     ]
    },
    {
     "name": "stderr",
     "output_type": "stream",
     "text": [
      "[*********************100%***********************]  1 of 1 completed"
     ]
    },
    {
     "name": "stdout",
     "output_type": "stream",
     "text": [
      "Index(['Open', 'High', 'Low', 'Close', 'Adj Close', 'Volume', 'TR1', 'TR2',\n",
      "       'TR3', 'TR', 'ATR', 'SuperTrend_Up', 'SuperTrend_Down', 'Trend',\n",
      "       'Buy_Signal', 'Sell_Signal'],\n",
      "      dtype='object')\n",
      "Index(['Open', 'High', 'Low', 'Close', 'Adj Close', 'Volume'], dtype='object')\n"
     ]
    },
    {
     "name": "stderr",
     "output_type": "stream",
     "text": [
      "\n",
      "[*********************100%***********************]  1 of 1 completed\n"
     ]
    },
    {
     "name": "stdout",
     "output_type": "stream",
     "text": [
      "Index(['Open', 'High', 'Low', 'Close', 'Adj Close', 'Volume', 'TR1', 'TR2',\n",
      "       'TR3', 'TR', 'ATR', 'SuperTrend_Up', 'SuperTrend_Down', 'Trend',\n",
      "       'Buy_Signal', 'Sell_Signal'],\n",
      "      dtype='object')\n",
      "Index(['Open', 'High', 'Low', 'Close', 'Adj Close', 'Volume'], dtype='object')\n",
      "Index(['Open', 'High', 'Low', 'Close', 'Adj Close', 'Volume', 'TR1', 'TR2',\n",
      "       'TR3', 'TR', 'ATR', 'SuperTrend_Up', 'SuperTrend_Down', 'Trend',\n",
      "       'Buy_Signal', 'Sell_Signal'],\n",
      "      dtype='object')\n"
     ]
    },
    {
     "name": "stderr",
     "output_type": "stream",
     "text": [
      "[*********************100%***********************]  1 of 1 completed\n",
      "[*********************100%***********************]  1 of 1 completed\n"
     ]
    },
    {
     "name": "stdout",
     "output_type": "stream",
     "text": [
      "Index(['Open', 'High', 'Low', 'Close', 'Adj Close', 'Volume'], dtype='object')\n",
      "Index(['Open', 'High', 'Low', 'Close', 'Adj Close', 'Volume', 'TR1', 'TR2',\n",
      "       'TR3', 'TR', 'ATR', 'SuperTrend_Up', 'SuperTrend_Down', 'Trend',\n",
      "       'Buy_Signal', 'Sell_Signal'],\n",
      "      dtype='object')\n",
      "Index(['Open', 'High', 'Low', 'Close', 'Adj Close', 'Volume'], dtype='object')\n"
     ]
    },
    {
     "name": "stderr",
     "output_type": "stream",
     "text": [
      "[*********************100%***********************]  1 of 1 completed\n"
     ]
    },
    {
     "name": "stdout",
     "output_type": "stream",
     "text": [
      "Index(['Open', 'High', 'Low', 'Close', 'Adj Close', 'Volume', 'TR1', 'TR2',\n",
      "       'TR3', 'TR', 'ATR', 'SuperTrend_Up', 'SuperTrend_Down', 'Trend',\n",
      "       'Buy_Signal', 'Sell_Signal'],\n",
      "      dtype='object')\n",
      "Index(['Open', 'High', 'Low', 'Close', 'Adj Close', 'Volume'], dtype='object')\n"
     ]
    },
    {
     "name": "stderr",
     "output_type": "stream",
     "text": [
      "[*********************100%***********************]  1 of 1 completed"
     ]
    },
    {
     "name": "stdout",
     "output_type": "stream",
     "text": [
      "Index(['Open', 'High', 'Low', 'Close', 'Adj Close', 'Volume', 'TR1', 'TR2',\n",
      "       'TR3', 'TR', 'ATR', 'SuperTrend_Up', 'SuperTrend_Down', 'Trend',\n",
      "       'Buy_Signal', 'Sell_Signal'],\n",
      "      dtype='object')\n",
      "Index(['Open', 'High', 'Low', 'Close', 'Adj Close', 'Volume'], dtype='object')\n"
     ]
    },
    {
     "name": "stderr",
     "output_type": "stream",
     "text": [
      "\n",
      "[*********************100%***********************]  1 of 1 completed\n"
     ]
    },
    {
     "name": "stdout",
     "output_type": "stream",
     "text": [
      "Index(['Open', 'High', 'Low', 'Close', 'Adj Close', 'Volume', 'TR1', 'TR2',\n",
      "       'TR3', 'TR', 'ATR', 'SuperTrend_Up', 'SuperTrend_Down', 'Trend',\n",
      "       'Buy_Signal', 'Sell_Signal'],\n",
      "      dtype='object')\n",
      "Index(['Open', 'High', 'Low', 'Close', 'Adj Close', 'Volume'], dtype='object')\n",
      "Index(['Open', 'High', 'Low', 'Close', 'Adj Close', 'Volume', 'TR1', 'TR2',\n",
      "       'TR3', 'TR', 'ATR', 'SuperTrend_Up', 'SuperTrend_Down', 'Trend',\n",
      "       'Buy_Signal', 'Sell_Signal'],\n",
      "      dtype='object')\n"
     ]
    },
    {
     "name": "stderr",
     "output_type": "stream",
     "text": [
      "[*********************100%***********************]  1 of 1 completed\n"
     ]
    },
    {
     "name": "stdout",
     "output_type": "stream",
     "text": [
      "Index(['Open', 'High', 'Low', 'Close', 'Adj Close', 'Volume'], dtype='object')\n",
      "Index(['Open', 'High', 'Low', 'Close', 'Adj Close', 'Volume', 'TR1', 'TR2',\n",
      "       'TR3', 'TR', 'ATR', 'SuperTrend_Up', 'SuperTrend_Down', 'Trend',\n",
      "       'Buy_Signal', 'Sell_Signal'],\n",
      "      dtype='object')\n"
     ]
    },
    {
     "name": "stderr",
     "output_type": "stream",
     "text": [
      "[*********************100%***********************]  1 of 1 completed\n"
     ]
    },
    {
     "name": "stdout",
     "output_type": "stream",
     "text": [
      "Index(['Open', 'High', 'Low', 'Close', 'Adj Close', 'Volume'], dtype='object')\n",
      "Index(['Open', 'High', 'Low', 'Close', 'Adj Close', 'Volume', 'TR1', 'TR2',\n",
      "       'TR3', 'TR', 'ATR', 'SuperTrend_Up', 'SuperTrend_Down', 'Trend',\n",
      "       'Buy_Signal', 'Sell_Signal'],\n",
      "      dtype='object')\n"
     ]
    },
    {
     "name": "stderr",
     "output_type": "stream",
     "text": [
      "[*********************100%***********************]  1 of 1 completed\n",
      "[*********************100%***********************]  1 of 1 completed\n"
     ]
    },
    {
     "name": "stdout",
     "output_type": "stream",
     "text": [
      "Index(['Open', 'High', 'Low', 'Close', 'Adj Close', 'Volume'], dtype='object')\n",
      "Index(['Open', 'High', 'Low', 'Close', 'Adj Close', 'Volume', 'TR1', 'TR2',\n",
      "       'TR3', 'TR', 'ATR', 'SuperTrend_Up', 'SuperTrend_Down', 'Trend',\n",
      "       'Buy_Signal', 'Sell_Signal'],\n",
      "      dtype='object')\n",
      "Index(['Open', 'High', 'Low', 'Close', 'Adj Close', 'Volume'], dtype='object')\n"
     ]
    },
    {
     "name": "stderr",
     "output_type": "stream",
     "text": [
      "[*********************100%***********************]  1 of 1 completed\n"
     ]
    },
    {
     "name": "stdout",
     "output_type": "stream",
     "text": [
      "Index(['Open', 'High', 'Low', 'Close', 'Adj Close', 'Volume', 'TR1', 'TR2',\n",
      "       'TR3', 'TR', 'ATR', 'SuperTrend_Up', 'SuperTrend_Down', 'Trend',\n",
      "       'Buy_Signal', 'Sell_Signal'],\n",
      "      dtype='object')\n",
      "Index(['Open', 'High', 'Low', 'Close', 'Adj Close', 'Volume'], dtype='object')\n"
     ]
    },
    {
     "name": "stderr",
     "output_type": "stream",
     "text": [
      "[*********************100%***********************]  1 of 1 completed\n"
     ]
    },
    {
     "name": "stdout",
     "output_type": "stream",
     "text": [
      "Index(['Open', 'High', 'Low', 'Close', 'Adj Close', 'Volume', 'TR1', 'TR2',\n",
      "       'TR3', 'TR', 'ATR', 'SuperTrend_Up', 'SuperTrend_Down', 'Trend',\n",
      "       'Buy_Signal', 'Sell_Signal'],\n",
      "      dtype='object')\n",
      "Index(['Open', 'High', 'Low', 'Close', 'Adj Close', 'Volume'], dtype='object')\n"
     ]
    },
    {
     "name": "stderr",
     "output_type": "stream",
     "text": [
      "[*********************100%***********************]  1 of 1 completed"
     ]
    },
    {
     "name": "stdout",
     "output_type": "stream",
     "text": [
      "Index(['Open', 'High', 'Low', 'Close', 'Adj Close', 'Volume', 'TR1', 'TR2',\n",
      "       'TR3', 'TR', 'ATR', 'SuperTrend_Up', 'SuperTrend_Down', 'Trend',\n",
      "       'Buy_Signal', 'Sell_Signal'],\n",
      "      dtype='object')\n",
      "Index(['Open', 'High', 'Low', 'Close', 'Adj Close', 'Volume'], dtype='object')\n"
     ]
    },
    {
     "name": "stderr",
     "output_type": "stream",
     "text": [
      "\n",
      "[*********************100%***********************]  1 of 1 completed\n"
     ]
    },
    {
     "name": "stdout",
     "output_type": "stream",
     "text": [
      "Index(['Open', 'High', 'Low', 'Close', 'Adj Close', 'Volume', 'TR1', 'TR2',\n",
      "       'TR3', 'TR', 'ATR', 'SuperTrend_Up', 'SuperTrend_Down', 'Trend',\n",
      "       'Buy_Signal', 'Sell_Signal'],\n",
      "      dtype='object')\n",
      "Index(['Open', 'High', 'Low', 'Close', 'Adj Close', 'Volume'], dtype='object')\n",
      "Index(['Open', 'High', 'Low', 'Close', 'Adj Close', 'Volume', 'TR1', 'TR2',\n",
      "       'TR3', 'TR', 'ATR', 'SuperTrend_Up', 'SuperTrend_Down', 'Trend',\n",
      "       'Buy_Signal', 'Sell_Signal'],\n",
      "      dtype='object')\n"
     ]
    },
    {
     "name": "stderr",
     "output_type": "stream",
     "text": [
      "[*********************100%***********************]  1 of 1 completed\n",
      "[*********************100%***********************]  1 of 1 completed\n"
     ]
    },
    {
     "name": "stdout",
     "output_type": "stream",
     "text": [
      "Index(['Open', 'High', 'Low', 'Close', 'Adj Close', 'Volume'], dtype='object')\n",
      "Index(['Open', 'High', 'Low', 'Close', 'Adj Close', 'Volume', 'TR1', 'TR2',\n",
      "       'TR3', 'TR', 'ATR', 'SuperTrend_Up', 'SuperTrend_Down', 'Trend',\n",
      "       'Buy_Signal', 'Sell_Signal'],\n",
      "      dtype='object')\n",
      "Index(['Open', 'High', 'Low', 'Close', 'Adj Close', 'Volume'], dtype='object')\n"
     ]
    },
    {
     "name": "stderr",
     "output_type": "stream",
     "text": [
      "[*********************100%***********************]  1 of 1 completed\n"
     ]
    },
    {
     "name": "stdout",
     "output_type": "stream",
     "text": [
      "Index(['Open', 'High', 'Low', 'Close', 'Adj Close', 'Volume', 'TR1', 'TR2',\n",
      "       'TR3', 'TR', 'ATR', 'SuperTrend_Up', 'SuperTrend_Down', 'Trend',\n",
      "       'Buy_Signal', 'Sell_Signal'],\n",
      "      dtype='object')\n",
      "Index(['Open', 'High', 'Low', 'Close', 'Adj Close', 'Volume'], dtype='object')\n",
      "Index(['Open', 'High', 'Low', 'Close', 'Adj Close', 'Volume', 'TR1', 'TR2',\n",
      "       'TR3', 'TR', 'ATR', 'SuperTrend_Up', 'SuperTrend_Down', 'Trend',\n",
      "       'Buy_Signal', 'Sell_Signal'],\n",
      "      dtype='object')\n"
     ]
    },
    {
     "name": "stderr",
     "output_type": "stream",
     "text": [
      "[*********************100%***********************]  1 of 1 completed\n",
      "[*********************100%***********************]  1 of 1 completed\n"
     ]
    },
    {
     "name": "stdout",
     "output_type": "stream",
     "text": [
      "Index(['Open', 'High', 'Low', 'Close', 'Adj Close', 'Volume'], dtype='object')\n",
      "Index(['Open', 'High', 'Low', 'Close', 'Adj Close', 'Volume', 'TR1', 'TR2',\n",
      "       'TR3', 'TR', 'ATR', 'SuperTrend_Up', 'SuperTrend_Down', 'Trend',\n",
      "       'Buy_Signal', 'Sell_Signal'],\n",
      "      dtype='object')\n",
      "Index(['Open', 'High', 'Low', 'Close', 'Adj Close', 'Volume'], dtype='object')\n"
     ]
    },
    {
     "name": "stderr",
     "output_type": "stream",
     "text": [
      "[*********************100%***********************]  1 of 1 completed\n"
     ]
    },
    {
     "name": "stdout",
     "output_type": "stream",
     "text": [
      "Index(['Open', 'High', 'Low', 'Close', 'Adj Close', 'Volume', 'TR1', 'TR2',\n",
      "       'TR3', 'TR', 'ATR', 'SuperTrend_Up', 'SuperTrend_Down', 'Trend',\n",
      "       'Buy_Signal', 'Sell_Signal'],\n",
      "      dtype='object')\n",
      "Index(['Open', 'High', 'Low', 'Close', 'Adj Close', 'Volume'], dtype='object')\n",
      "Index(['Open', 'High', 'Low', 'Close', 'Adj Close', 'Volume', 'TR1', 'TR2',\n",
      "       'TR3', 'TR', 'ATR', 'SuperTrend_Up', 'SuperTrend_Down', 'Trend',\n",
      "       'Buy_Signal', 'Sell_Signal'],\n",
      "      dtype='object')\n"
     ]
    },
    {
     "name": "stderr",
     "output_type": "stream",
     "text": [
      "[*********************100%***********************]  1 of 1 completed\n"
     ]
    },
    {
     "name": "stdout",
     "output_type": "stream",
     "text": [
      "Index(['Open', 'High', 'Low', 'Close', 'Adj Close', 'Volume'], dtype='object')\n",
      "Index(['Open', 'High', 'Low', 'Close', 'Adj Close', 'Volume', 'TR1', 'TR2',\n",
      "       'TR3', 'TR', 'ATR', 'SuperTrend_Up', 'SuperTrend_Down', 'Trend',\n",
      "       'Buy_Signal', 'Sell_Signal'],\n",
      "      dtype='object')\n"
     ]
    },
    {
     "name": "stderr",
     "output_type": "stream",
     "text": [
      "[*********************100%***********************]  1 of 1 completed\n",
      "[*********************100%***********************]  1 of 1 completed\n"
     ]
    },
    {
     "name": "stdout",
     "output_type": "stream",
     "text": [
      "Index(['Open', 'High', 'Low', 'Close', 'Adj Close', 'Volume'], dtype='object')\n",
      "Index(['Open', 'High', 'Low', 'Close', 'Adj Close', 'Volume', 'TR1', 'TR2',\n",
      "       'TR3', 'TR', 'ATR', 'SuperTrend_Up', 'SuperTrend_Down', 'Trend',\n",
      "       'Buy_Signal', 'Sell_Signal'],\n",
      "      dtype='object')\n",
      "Index(['Open', 'High', 'Low', 'Close', 'Adj Close', 'Volume'], dtype='object')\n"
     ]
    },
    {
     "name": "stderr",
     "output_type": "stream",
     "text": [
      "[*********************100%***********************]  1 of 1 completed\n"
     ]
    },
    {
     "name": "stdout",
     "output_type": "stream",
     "text": [
      "Index(['Open', 'High', 'Low', 'Close', 'Adj Close', 'Volume', 'TR1', 'TR2',\n",
      "       'TR3', 'TR', 'ATR', 'SuperTrend_Up', 'SuperTrend_Down', 'Trend',\n",
      "       'Buy_Signal', 'Sell_Signal'],\n",
      "      dtype='object')\n",
      "Index(['Open', 'High', 'Low', 'Close', 'Adj Close', 'Volume'], dtype='object')\n",
      "Index(['Open', 'High', 'Low', 'Close', 'Adj Close', 'Volume', 'TR1', 'TR2',\n",
      "       'TR3', 'TR', 'ATR', 'SuperTrend_Up', 'SuperTrend_Down', 'Trend',\n",
      "       'Buy_Signal', 'Sell_Signal'],\n",
      "      dtype='object')\n"
     ]
    },
    {
     "name": "stderr",
     "output_type": "stream",
     "text": [
      "[*********************100%***********************]  1 of 1 completed\n",
      "[*********************100%***********************]  1 of 1 completed\n"
     ]
    },
    {
     "name": "stdout",
     "output_type": "stream",
     "text": [
      "Index(['Open', 'High', 'Low', 'Close', 'Adj Close', 'Volume'], dtype='object')\n",
      "Index(['Open', 'High', 'Low', 'Close', 'Adj Close', 'Volume', 'TR1', 'TR2',\n",
      "       'TR3', 'TR', 'ATR', 'SuperTrend_Up', 'SuperTrend_Down', 'Trend',\n",
      "       'Buy_Signal', 'Sell_Signal'],\n",
      "      dtype='object')\n",
      "Index(['Open', 'High', 'Low', 'Close', 'Adj Close', 'Volume'], dtype='object')\n",
      "Index(['Open', 'High', 'Low', 'Close', 'Adj Close', 'Volume', 'TR1', 'TR2',\n",
      "       'TR3', 'TR', 'ATR', 'SuperTrend_Up', 'SuperTrend_Down', 'Trend',\n",
      "       'Buy_Signal', 'Sell_Signal'],\n",
      "      dtype='object')\n"
     ]
    },
    {
     "name": "stderr",
     "output_type": "stream",
     "text": [
      "[*********************100%***********************]  1 of 1 completed\n",
      "[*********************100%***********************]  1 of 1 completed\n"
     ]
    },
    {
     "name": "stdout",
     "output_type": "stream",
     "text": [
      "Index(['Open', 'High', 'Low', 'Close', 'Adj Close', 'Volume'], dtype='object')\n",
      "Index(['Open', 'High', 'Low', 'Close', 'Adj Close', 'Volume', 'TR1', 'TR2',\n",
      "       'TR3', 'TR', 'ATR', 'SuperTrend_Up', 'SuperTrend_Down', 'Trend',\n",
      "       'Buy_Signal', 'Sell_Signal'],\n",
      "      dtype='object')\n",
      "Index(['Open', 'High', 'Low', 'Close', 'Adj Close', 'Volume'], dtype='object')\n"
     ]
    },
    {
     "name": "stderr",
     "output_type": "stream",
     "text": [
      "[*********************100%***********************]  1 of 1 completed\n"
     ]
    },
    {
     "name": "stdout",
     "output_type": "stream",
     "text": [
      "Index(['Open', 'High', 'Low', 'Close', 'Adj Close', 'Volume', 'TR1', 'TR2',\n",
      "       'TR3', 'TR', 'ATR', 'SuperTrend_Up', 'SuperTrend_Down', 'Trend',\n",
      "       'Buy_Signal', 'Sell_Signal'],\n",
      "      dtype='object')\n",
      "Index(['Open', 'High', 'Low', 'Close', 'Adj Close', 'Volume'], dtype='object')\n",
      "Index(['Open', 'High', 'Low', 'Close', 'Adj Close', 'Volume', 'TR1', 'TR2',\n",
      "       'TR3', 'TR', 'ATR', 'SuperTrend_Up', 'SuperTrend_Down', 'Trend',\n",
      "       'Buy_Signal', 'Sell_Signal'],\n",
      "      dtype='object')\n"
     ]
    },
    {
     "name": "stderr",
     "output_type": "stream",
     "text": [
      "[*********************100%***********************]  1 of 1 completed\n",
      "[*********************100%***********************]  1 of 1 completed\n"
     ]
    },
    {
     "name": "stdout",
     "output_type": "stream",
     "text": [
      "Index(['Open', 'High', 'Low', 'Close', 'Adj Close', 'Volume'], dtype='object')\n",
      "Index(['Open', 'High', 'Low', 'Close', 'Adj Close', 'Volume', 'TR1', 'TR2',\n",
      "       'TR3', 'TR', 'ATR', 'SuperTrend_Up', 'SuperTrend_Down', 'Trend',\n",
      "       'Buy_Signal', 'Sell_Signal'],\n",
      "      dtype='object')\n",
      "Index(['Open', 'High', 'Low', 'Close', 'Adj Close', 'Volume'], dtype='object')\n"
     ]
    },
    {
     "name": "stderr",
     "output_type": "stream",
     "text": [
      "[*********************100%***********************]  1 of 1 completed\n"
     ]
    },
    {
     "name": "stdout",
     "output_type": "stream",
     "text": [
      "Index(['Open', 'High', 'Low', 'Close', 'Adj Close', 'Volume', 'TR1', 'TR2',\n",
      "       'TR3', 'TR', 'ATR', 'SuperTrend_Up', 'SuperTrend_Down', 'Trend',\n",
      "       'Buy_Signal', 'Sell_Signal'],\n",
      "      dtype='object')\n",
      "Index(['Open', 'High', 'Low', 'Close', 'Adj Close', 'Volume'], dtype='object')\n",
      "Index(['Open', 'High', 'Low', 'Close', 'Adj Close', 'Volume', 'TR1', 'TR2',\n",
      "       'TR3', 'TR', 'ATR', 'SuperTrend_Up', 'SuperTrend_Down', 'Trend',\n",
      "       'Buy_Signal', 'Sell_Signal'],\n",
      "      dtype='object')\n"
     ]
    },
    {
     "name": "stderr",
     "output_type": "stream",
     "text": [
      "[*********************100%***********************]  1 of 1 completed\n"
     ]
    },
    {
     "name": "stdout",
     "output_type": "stream",
     "text": [
      "Index(['Open', 'High', 'Low', 'Close', 'Adj Close', 'Volume'], dtype='object')\n",
      "Index(['Open', 'High', 'Low', 'Close', 'Adj Close', 'Volume', 'TR1', 'TR2',\n",
      "       'TR3', 'TR', 'ATR', 'SuperTrend_Up', 'SuperTrend_Down', 'Trend',\n",
      "       'Buy_Signal', 'Sell_Signal'],\n",
      "      dtype='object')\n"
     ]
    },
    {
     "name": "stderr",
     "output_type": "stream",
     "text": [
      "[*********************100%***********************]  1 of 1 completed\n"
     ]
    },
    {
     "name": "stdout",
     "output_type": "stream",
     "text": [
      "Index(['Open', 'High', 'Low', 'Close', 'Adj Close', 'Volume'], dtype='object')\n",
      "Index(['Open', 'High', 'Low', 'Close', 'Adj Close', 'Volume', 'TR1', 'TR2',\n",
      "       'TR3', 'TR', 'ATR', 'SuperTrend_Up', 'SuperTrend_Down', 'Trend',\n",
      "       'Buy_Signal', 'Sell_Signal'],\n",
      "      dtype='object')\n"
     ]
    },
    {
     "name": "stderr",
     "output_type": "stream",
     "text": [
      "[*********************100%***********************]  1 of 1 completed\n",
      "[*********************100%***********************]  1 of 1 completed\n"
     ]
    },
    {
     "name": "stdout",
     "output_type": "stream",
     "text": [
      "Index(['Open', 'High', 'Low', 'Close', 'Adj Close', 'Volume'], dtype='object')\n",
      "Index(['Open', 'High', 'Low', 'Close', 'Adj Close', 'Volume', 'TR1', 'TR2',\n",
      "       'TR3', 'TR', 'ATR', 'SuperTrend_Up', 'SuperTrend_Down', 'Trend',\n",
      "       'Buy_Signal', 'Sell_Signal'],\n",
      "      dtype='object')\n",
      "Index(['Open', 'High', 'Low', 'Close', 'Adj Close', 'Volume'], dtype='object')\n"
     ]
    },
    {
     "name": "stderr",
     "output_type": "stream",
     "text": [
      "[*********************100%***********************]  1 of 1 completed\n"
     ]
    },
    {
     "name": "stdout",
     "output_type": "stream",
     "text": [
      "Index(['Open', 'High', 'Low', 'Close', 'Adj Close', 'Volume', 'TR1', 'TR2',\n",
      "       'TR3', 'TR', 'ATR', 'SuperTrend_Up', 'SuperTrend_Down', 'Trend',\n",
      "       'Buy_Signal', 'Sell_Signal'],\n",
      "      dtype='object')\n",
      "Index(['Open', 'High', 'Low', 'Close', 'Adj Close', 'Volume'], dtype='object')\n",
      "Index(['Open', 'High', 'Low', 'Close', 'Adj Close', 'Volume', 'TR1', 'TR2',\n",
      "       'TR3', 'TR', 'ATR', 'SuperTrend_Up', 'SuperTrend_Down', 'Trend',\n",
      "       'Buy_Signal', 'Sell_Signal'],\n",
      "      dtype='object')\n"
     ]
    },
    {
     "name": "stderr",
     "output_type": "stream",
     "text": [
      "[*********************100%***********************]  1 of 1 completed\n",
      "[*********************100%***********************]  1 of 1 completed\n"
     ]
    },
    {
     "name": "stdout",
     "output_type": "stream",
     "text": [
      "Index(['Open', 'High', 'Low', 'Close', 'Adj Close', 'Volume'], dtype='object')\n",
      "Index(['Open', 'High', 'Low', 'Close', 'Adj Close', 'Volume', 'TR1', 'TR2',\n",
      "       'TR3', 'TR', 'ATR', 'SuperTrend_Up', 'SuperTrend_Down', 'Trend',\n",
      "       'Buy_Signal', 'Sell_Signal'],\n",
      "      dtype='object')\n",
      "Index(['Open', 'High', 'Low', 'Close', 'Adj Close', 'Volume'], dtype='object')\n"
     ]
    },
    {
     "name": "stderr",
     "output_type": "stream",
     "text": [
      "[*********************100%***********************]  1 of 1 completed"
     ]
    },
    {
     "name": "stdout",
     "output_type": "stream",
     "text": [
      "Index(['Open', 'High', 'Low', 'Close', 'Adj Close', 'Volume', 'TR1', 'TR2',\n",
      "       'TR3', 'TR', 'ATR', 'SuperTrend_Up', 'SuperTrend_Down', 'Trend',\n",
      "       'Buy_Signal', 'Sell_Signal'],\n",
      "      dtype='object')\n",
      "Index(['Open', 'High', 'Low', 'Close', 'Adj Close', 'Volume'], dtype='object')\n"
     ]
    },
    {
     "name": "stderr",
     "output_type": "stream",
     "text": [
      "\n",
      "[*********************100%***********************]  1 of 1 completed"
     ]
    },
    {
     "name": "stdout",
     "output_type": "stream",
     "text": [
      "Index(['Open', 'High', 'Low', 'Close', 'Adj Close', 'Volume', 'TR1', 'TR2',\n",
      "       'TR3', 'TR', 'ATR', 'SuperTrend_Up', 'SuperTrend_Down', 'Trend',\n",
      "       'Buy_Signal', 'Sell_Signal'],\n",
      "      dtype='object')\n",
      "Index(['Open', 'High', 'Low', 'Close', 'Adj Close', 'Volume'], dtype='object')\n"
     ]
    },
    {
     "name": "stderr",
     "output_type": "stream",
     "text": [
      "\n",
      "[*********************100%***********************]  1 of 1 completed"
     ]
    },
    {
     "name": "stdout",
     "output_type": "stream",
     "text": [
      "Index(['Open', 'High', 'Low', 'Close', 'Adj Close', 'Volume', 'TR1', 'TR2',\n",
      "       'TR3', 'TR', 'ATR', 'SuperTrend_Up', 'SuperTrend_Down', 'Trend',\n",
      "       'Buy_Signal', 'Sell_Signal'],\n",
      "      dtype='object')\n",
      "Index(['Open', 'High', 'Low', 'Close', 'Adj Close', 'Volume'], dtype='object')\n"
     ]
    },
    {
     "name": "stderr",
     "output_type": "stream",
     "text": [
      "\n",
      "[*********************100%***********************]  1 of 1 completed\n"
     ]
    },
    {
     "name": "stdout",
     "output_type": "stream",
     "text": [
      "Index(['Open', 'High', 'Low', 'Close', 'Adj Close', 'Volume', 'TR1', 'TR2',\n",
      "       'TR3', 'TR', 'ATR', 'SuperTrend_Up', 'SuperTrend_Down', 'Trend',\n",
      "       'Buy_Signal', 'Sell_Signal'],\n",
      "      dtype='object')\n",
      "Index(['Open', 'High', 'Low', 'Close', 'Adj Close', 'Volume'], dtype='object')\n",
      "Index(['Open', 'High', 'Low', 'Close', 'Adj Close', 'Volume', 'TR1', 'TR2',\n",
      "       'TR3', 'TR', 'ATR', 'SuperTrend_Up', 'SuperTrend_Down', 'Trend',\n",
      "       'Buy_Signal', 'Sell_Signal'],\n",
      "      dtype='object')\n"
     ]
    },
    {
     "name": "stderr",
     "output_type": "stream",
     "text": [
      "[*********************100%***********************]  1 of 1 completed\n",
      "[*********************100%***********************]  1 of 1 completed\n"
     ]
    },
    {
     "name": "stdout",
     "output_type": "stream",
     "text": [
      "Index(['Open', 'High', 'Low', 'Close', 'Adj Close', 'Volume'], dtype='object')\n",
      "Index(['Open', 'High', 'Low', 'Close', 'Adj Close', 'Volume', 'TR1', 'TR2',\n",
      "       'TR3', 'TR', 'ATR', 'SuperTrend_Up', 'SuperTrend_Down', 'Trend',\n",
      "       'Buy_Signal', 'Sell_Signal'],\n",
      "      dtype='object')\n",
      "Index(['Open', 'High', 'Low', 'Close', 'Adj Close', 'Volume'], dtype='object')\n"
     ]
    },
    {
     "name": "stderr",
     "output_type": "stream",
     "text": [
      "[*********************100%***********************]  1 of 1 completed\n"
     ]
    },
    {
     "name": "stdout",
     "output_type": "stream",
     "text": [
      "Index(['Open', 'High', 'Low', 'Close', 'Adj Close', 'Volume', 'TR1', 'TR2',\n",
      "       'TR3', 'TR', 'ATR', 'SuperTrend_Up', 'SuperTrend_Down', 'Trend',\n",
      "       'Buy_Signal', 'Sell_Signal'],\n",
      "      dtype='object')\n",
      "Index(['Open', 'High', 'Low', 'Close', 'Adj Close', 'Volume'], dtype='object')\n",
      "Index(['Open', 'High', 'Low', 'Close', 'Adj Close', 'Volume', 'TR1', 'TR2',\n",
      "       'TR3', 'TR', 'ATR', 'SuperTrend_Up', 'SuperTrend_Down', 'Trend',\n",
      "       'Buy_Signal', 'Sell_Signal'],\n",
      "      dtype='object')\n"
     ]
    },
    {
     "name": "stderr",
     "output_type": "stream",
     "text": [
      "[*********************100%***********************]  1 of 1 completed\n",
      "[*********************100%***********************]  1 of 1 completed\n"
     ]
    },
    {
     "name": "stdout",
     "output_type": "stream",
     "text": [
      "Index(['Open', 'High', 'Low', 'Close', 'Adj Close', 'Volume'], dtype='object')\n",
      "Index(['Open', 'High', 'Low', 'Close', 'Adj Close', 'Volume', 'TR1', 'TR2',\n",
      "       'TR3', 'TR', 'ATR', 'SuperTrend_Up', 'SuperTrend_Down', 'Trend',\n",
      "       'Buy_Signal', 'Sell_Signal'],\n",
      "      dtype='object')\n",
      "Index(['Open', 'High', 'Low', 'Close', 'Adj Close', 'Volume'], dtype='object')\n",
      "Index(['Open', 'High', 'Low', 'Close', 'Adj Close', 'Volume', 'TR1', 'TR2',\n",
      "       'TR3', 'TR', 'ATR', 'SuperTrend_Up', 'SuperTrend_Down', 'Trend',\n",
      "       'Buy_Signal', 'Sell_Signal'],\n",
      "      dtype='object')\n"
     ]
    },
    {
     "name": "stderr",
     "output_type": "stream",
     "text": [
      "[*********************100%***********************]  1 of 1 completed\n"
     ]
    },
    {
     "name": "stdout",
     "output_type": "stream",
     "text": [
      "Index(['Open', 'High', 'Low', 'Close', 'Adj Close', 'Volume'], dtype='object')\n",
      "Index(['Open', 'High', 'Low', 'Close', 'Adj Close', 'Volume', 'TR1', 'TR2',\n",
      "       'TR3', 'TR', 'ATR', 'SuperTrend_Up', 'SuperTrend_Down', 'Trend',\n",
      "       'Buy_Signal', 'Sell_Signal'],\n",
      "      dtype='object')\n"
     ]
    },
    {
     "name": "stderr",
     "output_type": "stream",
     "text": [
      "[*********************100%***********************]  1 of 1 completed\n",
      "[*********************100%***********************]  1 of 1 completed\n"
     ]
    },
    {
     "name": "stdout",
     "output_type": "stream",
     "text": [
      "Index(['Open', 'High', 'Low', 'Close', 'Adj Close', 'Volume'], dtype='object')\n",
      "Index(['Open', 'High', 'Low', 'Close', 'Adj Close', 'Volume', 'TR1', 'TR2',\n",
      "       'TR3', 'TR', 'ATR', 'SuperTrend_Up', 'SuperTrend_Down', 'Trend',\n",
      "       'Buy_Signal', 'Sell_Signal'],\n",
      "      dtype='object')\n",
      "Index(['Open', 'High', 'Low', 'Close', 'Adj Close', 'Volume'], dtype='object')\n"
     ]
    },
    {
     "name": "stderr",
     "output_type": "stream",
     "text": [
      "[*********************100%***********************]  1 of 1 completed"
     ]
    },
    {
     "name": "stdout",
     "output_type": "stream",
     "text": [
      "Index(['Open', 'High', 'Low', 'Close', 'Adj Close', 'Volume', 'TR1', 'TR2',\n",
      "       'TR3', 'TR', 'ATR', 'SuperTrend_Up', 'SuperTrend_Down', 'Trend',\n",
      "       'Buy_Signal', 'Sell_Signal'],\n",
      "      dtype='object')\n",
      "Index(['Open', 'High', 'Low', 'Close', 'Adj Close', 'Volume'], dtype='object')\n",
      "Index(['Open', 'High', 'Low', 'Close', 'Adj Close', 'Volume', 'TR1', 'TR2',\n",
      "       'TR3', 'TR', 'ATR', 'SuperTrend_Up', 'SuperTrend_Down', 'Trend',\n",
      "       'Buy_Signal', 'Sell_Signal'],\n",
      "      dtype='object')\n"
     ]
    },
    {
     "name": "stderr",
     "output_type": "stream",
     "text": [
      "\n",
      "[*********************100%***********************]  1 of 1 completed\n",
      "[*********************100%***********************]  1 of 1 completed\n"
     ]
    },
    {
     "name": "stdout",
     "output_type": "stream",
     "text": [
      "Index(['Open', 'High', 'Low', 'Close', 'Adj Close', 'Volume'], dtype='object')\n",
      "Index(['Open', 'High', 'Low', 'Close', 'Adj Close', 'Volume', 'TR1', 'TR2',\n",
      "       'TR3', 'TR', 'ATR', 'SuperTrend_Up', 'SuperTrend_Down', 'Trend',\n",
      "       'Buy_Signal', 'Sell_Signal'],\n",
      "      dtype='object')\n",
      "Index(['Open', 'High', 'Low', 'Close', 'Adj Close', 'Volume'], dtype='object')\n"
     ]
    },
    {
     "name": "stderr",
     "output_type": "stream",
     "text": [
      "[*********************100%***********************]  1 of 1 completed\n"
     ]
    },
    {
     "name": "stdout",
     "output_type": "stream",
     "text": [
      "Index(['Open', 'High', 'Low', 'Close', 'Adj Close', 'Volume', 'TR1', 'TR2',\n",
      "       'TR3', 'TR', 'ATR', 'SuperTrend_Up', 'SuperTrend_Down', 'Trend',\n",
      "       'Buy_Signal', 'Sell_Signal'],\n",
      "      dtype='object')\n",
      "Index(['Open', 'High', 'Low', 'Close', 'Adj Close', 'Volume'], dtype='object')\n",
      "Index(['Open', 'High', 'Low', 'Close', 'Adj Close', 'Volume', 'TR1', 'TR2',\n",
      "       'TR3', 'TR', 'ATR', 'SuperTrend_Up', 'SuperTrend_Down', 'Trend',\n",
      "       'Buy_Signal', 'Sell_Signal'],\n",
      "      dtype='object')\n"
     ]
    },
    {
     "name": "stderr",
     "output_type": "stream",
     "text": [
      "[*********************100%***********************]  1 of 1 completed\n",
      "[*********************100%***********************]  1 of 1 completed\n"
     ]
    },
    {
     "name": "stdout",
     "output_type": "stream",
     "text": [
      "Index(['Open', 'High', 'Low', 'Close', 'Adj Close', 'Volume'], dtype='object')\n",
      "Index(['Open', 'High', 'Low', 'Close', 'Adj Close', 'Volume', 'TR1', 'TR2',\n",
      "       'TR3', 'TR', 'ATR', 'SuperTrend_Up', 'SuperTrend_Down', 'Trend',\n",
      "       'Buy_Signal', 'Sell_Signal'],\n",
      "      dtype='object')\n",
      "Index(['Open', 'High', 'Low', 'Close', 'Adj Close', 'Volume'], dtype='object')\n"
     ]
    },
    {
     "name": "stderr",
     "output_type": "stream",
     "text": [
      "[*********************100%***********************]  1 of 1 completed"
     ]
    },
    {
     "name": "stdout",
     "output_type": "stream",
     "text": [
      "Index(['Open', 'High', 'Low', 'Close', 'Adj Close', 'Volume', 'TR1', 'TR2',\n",
      "       'TR3', 'TR', 'ATR', 'SuperTrend_Up', 'SuperTrend_Down', 'Trend',\n",
      "       'Buy_Signal', 'Sell_Signal'],\n",
      "      dtype='object')\n",
      "Index(['Open', 'High', 'Low', 'Close', 'Adj Close', 'Volume'], dtype='object')\n"
     ]
    },
    {
     "name": "stderr",
     "output_type": "stream",
     "text": [
      "\n",
      "[*********************100%***********************]  1 of 1 completed\n"
     ]
    },
    {
     "name": "stdout",
     "output_type": "stream",
     "text": [
      "Index(['Open', 'High', 'Low', 'Close', 'Adj Close', 'Volume', 'TR1', 'TR2',\n",
      "       'TR3', 'TR', 'ATR', 'SuperTrend_Up', 'SuperTrend_Down', 'Trend',\n",
      "       'Buy_Signal', 'Sell_Signal'],\n",
      "      dtype='object')\n",
      "Index(['Open', 'High', 'Low', 'Close', 'Adj Close', 'Volume'], dtype='object')\n"
     ]
    },
    {
     "name": "stderr",
     "output_type": "stream",
     "text": [
      "[*********************100%***********************]  1 of 1 completed\n"
     ]
    },
    {
     "name": "stdout",
     "output_type": "stream",
     "text": [
      "Index(['Open', 'High', 'Low', 'Close', 'Adj Close', 'Volume', 'TR1', 'TR2',\n",
      "       'TR3', 'TR', 'ATR', 'SuperTrend_Up', 'SuperTrend_Down', 'Trend',\n",
      "       'Buy_Signal', 'Sell_Signal'],\n",
      "      dtype='object')\n",
      "Index(['Open', 'High', 'Low', 'Close', 'Adj Close', 'Volume'], dtype='object')\n",
      "Index(['Open', 'High', 'Low', 'Close', 'Adj Close', 'Volume', 'TR1', 'TR2',\n",
      "       'TR3', 'TR', 'ATR', 'SuperTrend_Up', 'SuperTrend_Down', 'Trend',\n",
      "       'Buy_Signal', 'Sell_Signal'],\n",
      "      dtype='object')\n"
     ]
    },
    {
     "name": "stderr",
     "output_type": "stream",
     "text": [
      "[*********************100%***********************]  1 of 1 completed\n",
      "[*********************100%***********************]  1 of 1 completed\n"
     ]
    },
    {
     "name": "stdout",
     "output_type": "stream",
     "text": [
      "Index(['Open', 'High', 'Low', 'Close', 'Adj Close', 'Volume'], dtype='object')\n",
      "Index(['Open', 'High', 'Low', 'Close', 'Adj Close', 'Volume', 'TR1', 'TR2',\n",
      "       'TR3', 'TR', 'ATR', 'SuperTrend_Up', 'SuperTrend_Down', 'Trend',\n",
      "       'Buy_Signal', 'Sell_Signal'],\n",
      "      dtype='object')\n",
      "Index(['Open', 'High', 'Low', 'Close', 'Adj Close', 'Volume'], dtype='object')\n"
     ]
    },
    {
     "name": "stderr",
     "output_type": "stream",
     "text": [
      "[*********************100%***********************]  1 of 1 completed\n",
      "\n",
      "1 Failed download:\n",
      "['WBTN']: YFInvalidPeriodError(\"%ticker%: Period '1y' is invalid, must be one of ['1d', '5d', '1mo', '3mo', '6mo', 'ytd', 'max']\")\n"
     ]
    },
    {
     "name": "stdout",
     "output_type": "stream",
     "text": [
      "Index(['Open', 'High', 'Low', 'Close', 'Adj Close', 'Volume', 'TR1', 'TR2',\n",
      "       'TR3', 'TR', 'ATR', 'SuperTrend_Up', 'SuperTrend_Down', 'Trend',\n",
      "       'Buy_Signal', 'Sell_Signal'],\n",
      "      dtype='object')\n",
      "Index(['Open', 'High', 'Low', 'Close', 'Adj Close', 'Volume'], dtype='object')\n",
      "Error processing WBTN: iloc cannot enlarge its target object\n"
     ]
    },
    {
     "name": "stderr",
     "output_type": "stream",
     "text": [
      "[*********************100%***********************]  1 of 1 completed\n",
      "[*********************100%***********************]  1 of 1 completed\n"
     ]
    },
    {
     "name": "stdout",
     "output_type": "stream",
     "text": [
      "Index(['Open', 'High', 'Low', 'Close', 'Adj Close', 'Volume'], dtype='object')\n",
      "Index(['Open', 'High', 'Low', 'Close', 'Adj Close', 'Volume', 'TR1', 'TR2',\n",
      "       'TR3', 'TR', 'ATR', 'SuperTrend_Up', 'SuperTrend_Down', 'Trend',\n",
      "       'Buy_Signal', 'Sell_Signal'],\n",
      "      dtype='object')\n",
      "Index(['Open', 'High', 'Low', 'Close', 'Adj Close', 'Volume'], dtype='object')\n"
     ]
    },
    {
     "name": "stderr",
     "output_type": "stream",
     "text": [
      "[*********************100%***********************]  1 of 1 completed"
     ]
    },
    {
     "name": "stdout",
     "output_type": "stream",
     "text": [
      "Index(['Open', 'High', 'Low', 'Close', 'Adj Close', 'Volume', 'TR1', 'TR2',\n",
      "       'TR3', 'TR', 'ATR', 'SuperTrend_Up', 'SuperTrend_Down', 'Trend',\n",
      "       'Buy_Signal', 'Sell_Signal'],\n",
      "      dtype='object')\n",
      "Index(['Open', 'High', 'Low', 'Close', 'Adj Close', 'Volume'], dtype='object')\n"
     ]
    },
    {
     "name": "stderr",
     "output_type": "stream",
     "text": [
      "\n",
      "[*********************100%***********************]  1 of 1 completed\n"
     ]
    },
    {
     "name": "stdout",
     "output_type": "stream",
     "text": [
      "Index(['Open', 'High', 'Low', 'Close', 'Adj Close', 'Volume', 'TR1', 'TR2',\n",
      "       'TR3', 'TR', 'ATR', 'SuperTrend_Up', 'SuperTrend_Down', 'Trend',\n",
      "       'Buy_Signal', 'Sell_Signal'],\n",
      "      dtype='object')\n",
      "Index(['Open', 'High', 'Low', 'Close', 'Adj Close', 'Volume'], dtype='object')\n",
      "Index(['Open', 'High', 'Low', 'Close', 'Adj Close', 'Volume', 'TR1', 'TR2',\n",
      "       'TR3', 'TR', 'ATR', 'SuperTrend_Up', 'SuperTrend_Down', 'Trend',\n",
      "       'Buy_Signal', 'Sell_Signal'],\n",
      "      dtype='object')\n"
     ]
    },
    {
     "name": "stderr",
     "output_type": "stream",
     "text": [
      "[*********************100%***********************]  1 of 1 completed\n"
     ]
    },
    {
     "name": "stdout",
     "output_type": "stream",
     "text": [
      "Index(['Open', 'High', 'Low', 'Close', 'Adj Close', 'Volume'], dtype='object')\n",
      "Index(['Open', 'High', 'Low', 'Close', 'Adj Close', 'Volume', 'TR1', 'TR2',\n",
      "       'TR3', 'TR', 'ATR', 'SuperTrend_Up', 'SuperTrend_Down', 'Trend',\n",
      "       'Buy_Signal', 'Sell_Signal'],\n",
      "      dtype='object')\n"
     ]
    },
    {
     "name": "stderr",
     "output_type": "stream",
     "text": [
      "[*********************100%***********************]  1 of 1 completed\n",
      "[*********************100%***********************]  1 of 1 completed\n"
     ]
    },
    {
     "name": "stdout",
     "output_type": "stream",
     "text": [
      "Index(['Open', 'High', 'Low', 'Close', 'Adj Close', 'Volume'], dtype='object')\n",
      "Index(['Open', 'High', 'Low', 'Close', 'Adj Close', 'Volume', 'TR1', 'TR2',\n",
      "       'TR3', 'TR', 'ATR', 'SuperTrend_Up', 'SuperTrend_Down', 'Trend',\n",
      "       'Buy_Signal', 'Sell_Signal'],\n",
      "      dtype='object')\n",
      "Index(['Open', 'High', 'Low', 'Close', 'Adj Close', 'Volume'], dtype='object')\n"
     ]
    },
    {
     "name": "stderr",
     "output_type": "stream",
     "text": [
      "[*********************100%***********************]  1 of 1 completed\n"
     ]
    },
    {
     "name": "stdout",
     "output_type": "stream",
     "text": [
      "Index(['Open', 'High', 'Low', 'Close', 'Adj Close', 'Volume', 'TR1', 'TR2',\n",
      "       'TR3', 'TR', 'ATR', 'SuperTrend_Up', 'SuperTrend_Down', 'Trend',\n",
      "       'Buy_Signal', 'Sell_Signal'],\n",
      "      dtype='object')\n",
      "Index(['Open', 'High', 'Low', 'Close', 'Adj Close', 'Volume'], dtype='object')\n"
     ]
    },
    {
     "name": "stderr",
     "output_type": "stream",
     "text": [
      "[*********************100%***********************]  1 of 1 completed"
     ]
    },
    {
     "name": "stdout",
     "output_type": "stream",
     "text": [
      "Index(['Open', 'High', 'Low', 'Close', 'Adj Close', 'Volume', 'TR1', 'TR2',\n",
      "       'TR3', 'TR', 'ATR', 'SuperTrend_Up', 'SuperTrend_Down', 'Trend',\n",
      "       'Buy_Signal', 'Sell_Signal'],\n",
      "      dtype='object')\n",
      "Index(['Open', 'High', 'Low', 'Close', 'Adj Close', 'Volume'], dtype='object')\n",
      "Index(['Open', 'High', 'Low', 'Close', 'Adj Close', 'Volume', 'TR1', 'TR2',\n",
      "       'TR3', 'TR', 'ATR', 'SuperTrend_Up', 'SuperTrend_Down', 'Trend',\n",
      "       'Buy_Signal', 'Sell_Signal'],\n",
      "      dtype='object')\n"
     ]
    },
    {
     "name": "stderr",
     "output_type": "stream",
     "text": [
      "\n",
      "[*********************100%***********************]  1 of 1 completed\n",
      "[*********************100%***********************]  1 of 1 completed\n"
     ]
    },
    {
     "name": "stdout",
     "output_type": "stream",
     "text": [
      "Index(['Open', 'High', 'Low', 'Close', 'Adj Close', 'Volume'], dtype='object')\n",
      "Index(['Open', 'High', 'Low', 'Close', 'Adj Close', 'Volume', 'TR1', 'TR2',\n",
      "       'TR3', 'TR', 'ATR', 'SuperTrend_Up', 'SuperTrend_Down', 'Trend',\n",
      "       'Buy_Signal', 'Sell_Signal'],\n",
      "      dtype='object')\n",
      "Index(['Open', 'High', 'Low', 'Close', 'Adj Close', 'Volume'], dtype='object')\n"
     ]
    },
    {
     "name": "stderr",
     "output_type": "stream",
     "text": [
      "[*********************100%***********************]  1 of 1 completed"
     ]
    },
    {
     "name": "stdout",
     "output_type": "stream",
     "text": [
      "Index(['Open', 'High', 'Low', 'Close', 'Adj Close', 'Volume', 'TR1', 'TR2',\n",
      "       'TR3', 'TR', 'ATR', 'SuperTrend_Up', 'SuperTrend_Down', 'Trend',\n",
      "       'Buy_Signal', 'Sell_Signal'],\n",
      "      dtype='object')\n",
      "Index(['Open', 'High', 'Low', 'Close', 'Adj Close', 'Volume'], dtype='object')\n"
     ]
    },
    {
     "name": "stderr",
     "output_type": "stream",
     "text": [
      "\n",
      "[*********************100%***********************]  1 of 1 completed"
     ]
    },
    {
     "name": "stdout",
     "output_type": "stream",
     "text": [
      "Index(['Open', 'High', 'Low', 'Close', 'Adj Close', 'Volume', 'TR1', 'TR2',\n",
      "       'TR3', 'TR', 'ATR', 'SuperTrend_Up', 'SuperTrend_Down', 'Trend',\n",
      "       'Buy_Signal', 'Sell_Signal'],\n",
      "      dtype='object')\n",
      "Index(['Open', 'High', 'Low', 'Close', 'Adj Close', 'Volume'], dtype='object')\n"
     ]
    },
    {
     "name": "stderr",
     "output_type": "stream",
     "text": [
      "\n",
      "[*********************100%***********************]  1 of 1 completed\n"
     ]
    },
    {
     "name": "stdout",
     "output_type": "stream",
     "text": [
      "Index(['Open', 'High', 'Low', 'Close', 'Adj Close', 'Volume', 'TR1', 'TR2',\n",
      "       'TR3', 'TR', 'ATR', 'SuperTrend_Up', 'SuperTrend_Down', 'Trend',\n",
      "       'Buy_Signal', 'Sell_Signal'],\n",
      "      dtype='object')\n",
      "Index(['Open', 'High', 'Low', 'Close', 'Adj Close', 'Volume'], dtype='object')\n",
      "Index(['Open', 'High', 'Low', 'Close', 'Adj Close', 'Volume', 'TR1', 'TR2',\n",
      "       'TR3', 'TR', 'ATR', 'SuperTrend_Up', 'SuperTrend_Down', 'Trend',\n",
      "       'Buy_Signal', 'Sell_Signal'],\n",
      "      dtype='object')\n"
     ]
    },
    {
     "name": "stderr",
     "output_type": "stream",
     "text": [
      "[*********************100%***********************]  1 of 1 completed\n",
      "[*********************100%***********************]  1 of 1 completed\n"
     ]
    },
    {
     "name": "stdout",
     "output_type": "stream",
     "text": [
      "Index(['Open', 'High', 'Low', 'Close', 'Adj Close', 'Volume'], dtype='object')\n",
      "Index(['Open', 'High', 'Low', 'Close', 'Adj Close', 'Volume', 'TR1', 'TR2',\n",
      "       'TR3', 'TR', 'ATR', 'SuperTrend_Up', 'SuperTrend_Down', 'Trend',\n",
      "       'Buy_Signal', 'Sell_Signal'],\n",
      "      dtype='object')\n",
      "Index(['Open', 'High', 'Low', 'Close', 'Adj Close', 'Volume'], dtype='object')\n"
     ]
    },
    {
     "name": "stderr",
     "output_type": "stream",
     "text": [
      "[*********************100%***********************]  1 of 1 completed\n"
     ]
    },
    {
     "name": "stdout",
     "output_type": "stream",
     "text": [
      "Index(['Open', 'High', 'Low', 'Close', 'Adj Close', 'Volume', 'TR1', 'TR2',\n",
      "       'TR3', 'TR', 'ATR', 'SuperTrend_Up', 'SuperTrend_Down', 'Trend',\n",
      "       'Buy_Signal', 'Sell_Signal'],\n",
      "      dtype='object')\n",
      "Index(['Open', 'High', 'Low', 'Close', 'Adj Close', 'Volume'], dtype='object')\n",
      "Index(['Open', 'High', 'Low', 'Close', 'Adj Close', 'Volume', 'TR1', 'TR2',\n",
      "       'TR3', 'TR', 'ATR', 'SuperTrend_Up', 'SuperTrend_Down', 'Trend',\n",
      "       'Buy_Signal', 'Sell_Signal'],\n",
      "      dtype='object')\n"
     ]
    },
    {
     "name": "stderr",
     "output_type": "stream",
     "text": [
      "[*********************100%***********************]  1 of 1 completed\n"
     ]
    },
    {
     "name": "stdout",
     "output_type": "stream",
     "text": [
      "Index(['Open', 'High', 'Low', 'Close', 'Adj Close', 'Volume'], dtype='object')\n",
      "Index(['Open', 'High', 'Low', 'Close', 'Adj Close', 'Volume', 'TR1', 'TR2',\n",
      "       'TR3', 'TR', 'ATR', 'SuperTrend_Up', 'SuperTrend_Down', 'Trend',\n",
      "       'Buy_Signal', 'Sell_Signal'],\n",
      "      dtype='object')\n"
     ]
    },
    {
     "name": "stderr",
     "output_type": "stream",
     "text": [
      "[*********************100%***********************]  1 of 1 completed\n"
     ]
    },
    {
     "name": "stdout",
     "output_type": "stream",
     "text": [
      "Index(['Open', 'High', 'Low', 'Close', 'Adj Close', 'Volume'], dtype='object')\n",
      "Index(['Open', 'High', 'Low', 'Close', 'Adj Close', 'Volume', 'TR1', 'TR2',\n",
      "       'TR3', 'TR', 'ATR', 'SuperTrend_Up', 'SuperTrend_Down', 'Trend',\n",
      "       'Buy_Signal', 'Sell_Signal'],\n",
      "      dtype='object')\n"
     ]
    },
    {
     "name": "stderr",
     "output_type": "stream",
     "text": [
      "[*********************100%***********************]  1 of 1 completed\n",
      "[*********************100%***********************]  1 of 1 completed\n"
     ]
    },
    {
     "name": "stdout",
     "output_type": "stream",
     "text": [
      "Index(['Open', 'High', 'Low', 'Close', 'Adj Close', 'Volume'], dtype='object')\n",
      "Index(['Open', 'High', 'Low', 'Close', 'Adj Close', 'Volume', 'TR1', 'TR2',\n",
      "       'TR3', 'TR', 'ATR', 'SuperTrend_Up', 'SuperTrend_Down', 'Trend',\n",
      "       'Buy_Signal', 'Sell_Signal'],\n",
      "      dtype='object')\n",
      "Index(['Open', 'High', 'Low', 'Close', 'Adj Close', 'Volume'], dtype='object')\n"
     ]
    },
    {
     "name": "stderr",
     "output_type": "stream",
     "text": [
      "[*********************100%***********************]  1 of 1 completed\n"
     ]
    },
    {
     "name": "stdout",
     "output_type": "stream",
     "text": [
      "Index(['Open', 'High', 'Low', 'Close', 'Adj Close', 'Volume', 'TR1', 'TR2',\n",
      "       'TR3', 'TR', 'ATR', 'SuperTrend_Up', 'SuperTrend_Down', 'Trend',\n",
      "       'Buy_Signal', 'Sell_Signal'],\n",
      "      dtype='object')\n",
      "Index(['Open', 'High', 'Low', 'Close', 'Adj Close', 'Volume'], dtype='object')\n",
      "Index(['Open', 'High', 'Low', 'Close', 'Adj Close', 'Volume', 'TR1', 'TR2',\n",
      "       'TR3', 'TR', 'ATR', 'SuperTrend_Up', 'SuperTrend_Down', 'Trend',\n",
      "       'Buy_Signal', 'Sell_Signal'],\n",
      "      dtype='object')\n"
     ]
    },
    {
     "name": "stderr",
     "output_type": "stream",
     "text": [
      "[*********************100%***********************]  1 of 1 completed\n",
      "[*********************100%***********************]  1 of 1 completed\n"
     ]
    },
    {
     "name": "stdout",
     "output_type": "stream",
     "text": [
      "Index(['Open', 'High', 'Low', 'Close', 'Adj Close', 'Volume'], dtype='object')\n",
      "Index(['Open', 'High', 'Low', 'Close', 'Adj Close', 'Volume', 'TR1', 'TR2',\n",
      "       'TR3', 'TR', 'ATR', 'SuperTrend_Up', 'SuperTrend_Down', 'Trend',\n",
      "       'Buy_Signal', 'Sell_Signal'],\n",
      "      dtype='object')\n",
      "Index(['Open', 'High', 'Low', 'Close', 'Adj Close', 'Volume'], dtype='object')\n"
     ]
    },
    {
     "name": "stderr",
     "output_type": "stream",
     "text": [
      "[*********************100%***********************]  1 of 1 completed"
     ]
    },
    {
     "name": "stdout",
     "output_type": "stream",
     "text": [
      "Index(['Open', 'High', 'Low', 'Close', 'Adj Close', 'Volume', 'TR1', 'TR2',\n",
      "       'TR3', 'TR', 'ATR', 'SuperTrend_Up', 'SuperTrend_Down', 'Trend',\n",
      "       'Buy_Signal', 'Sell_Signal'],\n",
      "      dtype='object')\n",
      "Index(['Open', 'High', 'Low', 'Close', 'Adj Close', 'Volume'], dtype='object')\n"
     ]
    },
    {
     "name": "stderr",
     "output_type": "stream",
     "text": [
      "\n",
      "[*********************100%***********************]  1 of 1 completed\n"
     ]
    },
    {
     "name": "stdout",
     "output_type": "stream",
     "text": [
      "Index(['Open', 'High', 'Low', 'Close', 'Adj Close', 'Volume', 'TR1', 'TR2',\n",
      "       'TR3', 'TR', 'ATR', 'SuperTrend_Up', 'SuperTrend_Down', 'Trend',\n",
      "       'Buy_Signal', 'Sell_Signal'],\n",
      "      dtype='object')\n",
      "Index(['Open', 'High', 'Low', 'Close', 'Adj Close', 'Volume'], dtype='object')\n",
      "Index(['Open', 'High', 'Low', 'Close', 'Adj Close', 'Volume', 'TR1', 'TR2',\n",
      "       'TR3', 'TR', 'ATR', 'SuperTrend_Up', 'SuperTrend_Down', 'Trend',\n",
      "       'Buy_Signal', 'Sell_Signal'],\n",
      "      dtype='object')\n"
     ]
    },
    {
     "name": "stderr",
     "output_type": "stream",
     "text": [
      "[*********************100%***********************]  1 of 1 completed\n",
      "[*********************100%***********************]  1 of 1 completed\n"
     ]
    },
    {
     "name": "stdout",
     "output_type": "stream",
     "text": [
      "Index(['Open', 'High', 'Low', 'Close', 'Adj Close', 'Volume'], dtype='object')\n",
      "Index(['Open', 'High', 'Low', 'Close', 'Adj Close', 'Volume', 'TR1', 'TR2',\n",
      "       'TR3', 'TR', 'ATR', 'SuperTrend_Up', 'SuperTrend_Down', 'Trend',\n",
      "       'Buy_Signal', 'Sell_Signal'],\n",
      "      dtype='object')\n",
      "Index(['Open', 'High', 'Low', 'Close', 'Adj Close', 'Volume'], dtype='object')\n"
     ]
    },
    {
     "name": "stderr",
     "output_type": "stream",
     "text": [
      "[*********************100%***********************]  1 of 1 completed\n"
     ]
    },
    {
     "name": "stdout",
     "output_type": "stream",
     "text": [
      "Index(['Open', 'High', 'Low', 'Close', 'Adj Close', 'Volume', 'TR1', 'TR2',\n",
      "       'TR3', 'TR', 'ATR', 'SuperTrend_Up', 'SuperTrend_Down', 'Trend',\n",
      "       'Buy_Signal', 'Sell_Signal'],\n",
      "      dtype='object')\n",
      "Index(['Open', 'High', 'Low', 'Close', 'Adj Close', 'Volume'], dtype='object')\n",
      "Index(['Open', 'High', 'Low', 'Close', 'Adj Close', 'Volume', 'TR1', 'TR2',\n",
      "       'TR3', 'TR', 'ATR', 'SuperTrend_Up', 'SuperTrend_Down', 'Trend',\n",
      "       'Buy_Signal', 'Sell_Signal'],\n",
      "      dtype='object')\n"
     ]
    },
    {
     "name": "stderr",
     "output_type": "stream",
     "text": [
      "[*********************100%***********************]  1 of 1 completed\n"
     ]
    },
    {
     "name": "stdout",
     "output_type": "stream",
     "text": [
      "Index(['Open', 'High', 'Low', 'Close', 'Adj Close', 'Volume'], dtype='object')\n",
      "Index(['Open', 'High', 'Low', 'Close', 'Adj Close', 'Volume', 'TR1', 'TR2',\n",
      "       'TR3', 'TR', 'ATR', 'SuperTrend_Up', 'SuperTrend_Down', 'Trend',\n",
      "       'Buy_Signal', 'Sell_Signal'],\n",
      "      dtype='object')\n"
     ]
    },
    {
     "name": "stderr",
     "output_type": "stream",
     "text": [
      "[*********************100%***********************]  1 of 1 completed\n",
      "[*********************100%***********************]  1 of 1 completed\n"
     ]
    },
    {
     "name": "stdout",
     "output_type": "stream",
     "text": [
      "Index(['Open', 'High', 'Low', 'Close', 'Adj Close', 'Volume'], dtype='object')\n",
      "Index(['Open', 'High', 'Low', 'Close', 'Adj Close', 'Volume', 'TR1', 'TR2',\n",
      "       'TR3', 'TR', 'ATR', 'SuperTrend_Up', 'SuperTrend_Down', 'Trend',\n",
      "       'Buy_Signal', 'Sell_Signal'],\n",
      "      dtype='object')\n",
      "Index(['Open', 'High', 'Low', 'Close', 'Adj Close', 'Volume'], dtype='object')\n"
     ]
    },
    {
     "name": "stderr",
     "output_type": "stream",
     "text": [
      "[*********************100%***********************]  1 of 1 completed\n"
     ]
    },
    {
     "name": "stdout",
     "output_type": "stream",
     "text": [
      "Index(['Open', 'High', 'Low', 'Close', 'Adj Close', 'Volume', 'TR1', 'TR2',\n",
      "       'TR3', 'TR', 'ATR', 'SuperTrend_Up', 'SuperTrend_Down', 'Trend',\n",
      "       'Buy_Signal', 'Sell_Signal'],\n",
      "      dtype='object')\n",
      "Index(['Open', 'High', 'Low', 'Close', 'Adj Close', 'Volume'], dtype='object')\n",
      "Index(['Open', 'High', 'Low', 'Close', 'Adj Close', 'Volume', 'TR1', 'TR2',\n",
      "       'TR3', 'TR', 'ATR', 'SuperTrend_Up', 'SuperTrend_Down', 'Trend',\n",
      "       'Buy_Signal', 'Sell_Signal'],\n",
      "      dtype='object')\n"
     ]
    },
    {
     "name": "stderr",
     "output_type": "stream",
     "text": [
      "[*********************100%***********************]  1 of 1 completed\n",
      "[*********************100%***********************]  1 of 1 completed\n"
     ]
    },
    {
     "name": "stdout",
     "output_type": "stream",
     "text": [
      "Index(['Open', 'High', 'Low', 'Close', 'Adj Close', 'Volume'], dtype='object')\n",
      "Index(['Open', 'High', 'Low', 'Close', 'Adj Close', 'Volume', 'TR1', 'TR2',\n",
      "       'TR3', 'TR', 'ATR', 'SuperTrend_Up', 'SuperTrend_Down', 'Trend',\n",
      "       'Buy_Signal', 'Sell_Signal'],\n",
      "      dtype='object')\n",
      "Index(['Open', 'High', 'Low', 'Close', 'Adj Close', 'Volume'], dtype='object')\n"
     ]
    },
    {
     "name": "stderr",
     "output_type": "stream",
     "text": [
      "[*********************100%***********************]  1 of 1 completed\n"
     ]
    },
    {
     "name": "stdout",
     "output_type": "stream",
     "text": [
      "Index(['Open', 'High', 'Low', 'Close', 'Adj Close', 'Volume', 'TR1', 'TR2',\n",
      "       'TR3', 'TR', 'ATR', 'SuperTrend_Up', 'SuperTrend_Down', 'Trend',\n",
      "       'Buy_Signal', 'Sell_Signal'],\n",
      "      dtype='object')\n",
      "Index(['Open', 'High', 'Low', 'Close', 'Adj Close', 'Volume'], dtype='object')\n",
      "Index(['Open', 'High', 'Low', 'Close', 'Adj Close', 'Volume', 'TR1', 'TR2',\n",
      "       'TR3', 'TR', 'ATR', 'SuperTrend_Up', 'SuperTrend_Down', 'Trend',\n",
      "       'Buy_Signal', 'Sell_Signal'],\n",
      "      dtype='object')\n"
     ]
    },
    {
     "name": "stderr",
     "output_type": "stream",
     "text": [
      "[*********************100%***********************]  1 of 1 completed\n"
     ]
    },
    {
     "name": "stdout",
     "output_type": "stream",
     "text": [
      "Index(['Open', 'High', 'Low', 'Close', 'Adj Close', 'Volume'], dtype='object')\n",
      "Index(['Open', 'High', 'Low', 'Close', 'Adj Close', 'Volume', 'TR1', 'TR2',\n",
      "       'TR3', 'TR', 'ATR', 'SuperTrend_Up', 'SuperTrend_Down', 'Trend',\n",
      "       'Buy_Signal', 'Sell_Signal'],\n",
      "      dtype='object')\n"
     ]
    },
    {
     "name": "stderr",
     "output_type": "stream",
     "text": [
      "[*********************100%***********************]  1 of 1 completed\n",
      "[*********************100%***********************]  1 of 1 completed\n",
      "\n",
      "1 Failed download:\n",
      "['TWFG']: YFInvalidPeriodError(\"%ticker%: Period '1y' is invalid, must be one of ['1d', '5d', '1mo', '3mo', '6mo', 'ytd', 'max']\")\n"
     ]
    },
    {
     "name": "stdout",
     "output_type": "stream",
     "text": [
      "Index(['Open', 'High', 'Low', 'Close', 'Adj Close', 'Volume'], dtype='object')\n",
      "Index(['Open', 'High', 'Low', 'Close', 'Adj Close', 'Volume', 'TR1', 'TR2',\n",
      "       'TR3', 'TR', 'ATR', 'SuperTrend_Up', 'SuperTrend_Down', 'Trend',\n",
      "       'Buy_Signal', 'Sell_Signal'],\n",
      "      dtype='object')\n",
      "Index(['Open', 'High', 'Low', 'Close', 'Adj Close', 'Volume'], dtype='object')\n",
      "Error processing TWFG: iloc cannot enlarge its target object\n"
     ]
    },
    {
     "name": "stderr",
     "output_type": "stream",
     "text": [
      "[*********************100%***********************]  1 of 1 completed\n"
     ]
    },
    {
     "name": "stdout",
     "output_type": "stream",
     "text": [
      "Index(['Open', 'High', 'Low', 'Close', 'Adj Close', 'Volume'], dtype='object')\n",
      "Index(['Open', 'High', 'Low', 'Close', 'Adj Close', 'Volume', 'TR1', 'TR2',\n",
      "       'TR3', 'TR', 'ATR', 'SuperTrend_Up', 'SuperTrend_Down', 'Trend',\n",
      "       'Buy_Signal', 'Sell_Signal'],\n",
      "      dtype='object')\n"
     ]
    },
    {
     "name": "stderr",
     "output_type": "stream",
     "text": [
      "[*********************100%***********************]  1 of 1 completed\n",
      "[*********************100%***********************]  1 of 1 completed\n"
     ]
    },
    {
     "name": "stdout",
     "output_type": "stream",
     "text": [
      "Index(['Open', 'High', 'Low', 'Close', 'Adj Close', 'Volume'], dtype='object')\n",
      "Index(['Open', 'High', 'Low', 'Close', 'Adj Close', 'Volume', 'TR1', 'TR2',\n",
      "       'TR3', 'TR', 'ATR', 'SuperTrend_Up', 'SuperTrend_Down', 'Trend',\n",
      "       'Buy_Signal', 'Sell_Signal'],\n",
      "      dtype='object')\n",
      "Index(['Open', 'High', 'Low', 'Close', 'Adj Close', 'Volume'], dtype='object')\n"
     ]
    },
    {
     "name": "stderr",
     "output_type": "stream",
     "text": [
      "[*********************100%***********************]  1 of 1 completed\n"
     ]
    },
    {
     "name": "stdout",
     "output_type": "stream",
     "text": [
      "Index(['Open', 'High', 'Low', 'Close', 'Adj Close', 'Volume', 'TR1', 'TR2',\n",
      "       'TR3', 'TR', 'ATR', 'SuperTrend_Up', 'SuperTrend_Down', 'Trend',\n",
      "       'Buy_Signal', 'Sell_Signal'],\n",
      "      dtype='object')\n",
      "Index(['Open', 'High', 'Low', 'Close', 'Adj Close', 'Volume'], dtype='object')\n",
      "Index(['Open', 'High', 'Low', 'Close', 'Adj Close', 'Volume', 'TR1', 'TR2',\n",
      "       'TR3', 'TR', 'ATR', 'SuperTrend_Up', 'SuperTrend_Down', 'Trend',\n",
      "       'Buy_Signal', 'Sell_Signal'],\n",
      "      dtype='object')\n"
     ]
    },
    {
     "name": "stderr",
     "output_type": "stream",
     "text": [
      "[*********************100%***********************]  1 of 1 completed\n",
      "[*********************100%***********************]  1 of 1 completed\n"
     ]
    },
    {
     "name": "stdout",
     "output_type": "stream",
     "text": [
      "Index(['Open', 'High', 'Low', 'Close', 'Adj Close', 'Volume'], dtype='object')\n",
      "Index(['Open', 'High', 'Low', 'Close', 'Adj Close', 'Volume', 'TR1', 'TR2',\n",
      "       'TR3', 'TR', 'ATR', 'SuperTrend_Up', 'SuperTrend_Down', 'Trend',\n",
      "       'Buy_Signal', 'Sell_Signal'],\n",
      "      dtype='object')\n",
      "Index(['Open', 'High', 'Low', 'Close', 'Adj Close', 'Volume'], dtype='object')\n"
     ]
    },
    {
     "name": "stderr",
     "output_type": "stream",
     "text": [
      "[*********************100%***********************]  1 of 1 completed\n"
     ]
    },
    {
     "name": "stdout",
     "output_type": "stream",
     "text": [
      "Index(['Open', 'High', 'Low', 'Close', 'Adj Close', 'Volume', 'TR1', 'TR2',\n",
      "       'TR3', 'TR', 'ATR', 'SuperTrend_Up', 'SuperTrend_Down', 'Trend',\n",
      "       'Buy_Signal', 'Sell_Signal'],\n",
      "      dtype='object')\n",
      "Index(['Open', 'High', 'Low', 'Close', 'Adj Close', 'Volume'], dtype='object')\n",
      "Index(['Open', 'High', 'Low', 'Close', 'Adj Close', 'Volume', 'TR1', 'TR2',\n",
      "       'TR3', 'TR', 'ATR', 'SuperTrend_Up', 'SuperTrend_Down', 'Trend',\n",
      "       'Buy_Signal', 'Sell_Signal'],\n",
      "      dtype='object')\n"
     ]
    },
    {
     "name": "stderr",
     "output_type": "stream",
     "text": [
      "[*********************100%***********************]  1 of 1 completed\n",
      "[*********************100%***********************]  1 of 1 completed\n"
     ]
    },
    {
     "name": "stdout",
     "output_type": "stream",
     "text": [
      "Index(['Open', 'High', 'Low', 'Close', 'Adj Close', 'Volume'], dtype='object')\n",
      "Index(['Open', 'High', 'Low', 'Close', 'Adj Close', 'Volume', 'TR1', 'TR2',\n",
      "       'TR3', 'TR', 'ATR', 'SuperTrend_Up', 'SuperTrend_Down', 'Trend',\n",
      "       'Buy_Signal', 'Sell_Signal'],\n",
      "      dtype='object')\n",
      "Index(['Open', 'High', 'Low', 'Close', 'Adj Close', 'Volume'], dtype='object')\n"
     ]
    },
    {
     "name": "stderr",
     "output_type": "stream",
     "text": [
      "[*********************100%***********************]  1 of 1 completed\n"
     ]
    },
    {
     "name": "stdout",
     "output_type": "stream",
     "text": [
      "Index(['Open', 'High', 'Low', 'Close', 'Adj Close', 'Volume', 'TR1', 'TR2',\n",
      "       'TR3', 'TR', 'ATR', 'SuperTrend_Up', 'SuperTrend_Down', 'Trend',\n",
      "       'Buy_Signal', 'Sell_Signal'],\n",
      "      dtype='object')\n",
      "Index(['Open', 'High', 'Low', 'Close', 'Adj Close', 'Volume'], dtype='object')\n",
      "Index(['Open', 'High', 'Low', 'Close', 'Adj Close', 'Volume', 'TR1', 'TR2',\n",
      "       'TR3', 'TR', 'ATR', 'SuperTrend_Up', 'SuperTrend_Down', 'Trend',\n",
      "       'Buy_Signal', 'Sell_Signal'],\n",
      "      dtype='object')\n"
     ]
    },
    {
     "name": "stderr",
     "output_type": "stream",
     "text": [
      "[*********************100%***********************]  1 of 1 completed\n"
     ]
    },
    {
     "name": "stdout",
     "output_type": "stream",
     "text": [
      "Index(['Open', 'High', 'Low', 'Close', 'Adj Close', 'Volume'], dtype='object')\n",
      "Index(['Open', 'High', 'Low', 'Close', 'Adj Close', 'Volume', 'TR1', 'TR2',\n",
      "       'TR3', 'TR', 'ATR', 'SuperTrend_Up', 'SuperTrend_Down', 'Trend',\n",
      "       'Buy_Signal', 'Sell_Signal'],\n",
      "      dtype='object')\n"
     ]
    },
    {
     "name": "stderr",
     "output_type": "stream",
     "text": [
      "[*********************100%***********************]  1 of 1 completed\n",
      "[*********************100%***********************]  1 of 1 completed\n"
     ]
    },
    {
     "name": "stdout",
     "output_type": "stream",
     "text": [
      "Index(['Open', 'High', 'Low', 'Close', 'Adj Close', 'Volume'], dtype='object')\n",
      "Index(['Open', 'High', 'Low', 'Close', 'Adj Close', 'Volume', 'TR1', 'TR2',\n",
      "       'TR3', 'TR', 'ATR', 'SuperTrend_Up', 'SuperTrend_Down', 'Trend',\n",
      "       'Buy_Signal', 'Sell_Signal'],\n",
      "      dtype='object')\n",
      "Index(['Open', 'High', 'Low', 'Close', 'Adj Close', 'Volume'], dtype='object')\n"
     ]
    },
    {
     "name": "stderr",
     "output_type": "stream",
     "text": [
      "[*********************100%***********************]  1 of 1 completed"
     ]
    },
    {
     "name": "stdout",
     "output_type": "stream",
     "text": [
      "Index(['Open', 'High', 'Low', 'Close', 'Adj Close', 'Volume', 'TR1', 'TR2',\n",
      "       'TR3', 'TR', 'ATR', 'SuperTrend_Up', 'SuperTrend_Down', 'Trend',\n",
      "       'Buy_Signal', 'Sell_Signal'],\n",
      "      dtype='object')\n",
      "Index(['Open', 'High', 'Low', 'Close', 'Adj Close', 'Volume'], dtype='object')\n"
     ]
    },
    {
     "name": "stderr",
     "output_type": "stream",
     "text": [
      "\n",
      "[*********************100%***********************]  1 of 1 completed\n"
     ]
    },
    {
     "name": "stdout",
     "output_type": "stream",
     "text": [
      "Index(['Open', 'High', 'Low', 'Close', 'Adj Close', 'Volume', 'TR1', 'TR2',\n",
      "       'TR3', 'TR', 'ATR', 'SuperTrend_Up', 'SuperTrend_Down', 'Trend',\n",
      "       'Buy_Signal', 'Sell_Signal'],\n",
      "      dtype='object')\n",
      "Index(['Open', 'High', 'Low', 'Close', 'Adj Close', 'Volume'], dtype='object')\n",
      "Index(['Open', 'High', 'Low', 'Close', 'Adj Close', 'Volume', 'TR1', 'TR2',\n",
      "       'TR3', 'TR', 'ATR', 'SuperTrend_Up', 'SuperTrend_Down', 'Trend',\n",
      "       'Buy_Signal', 'Sell_Signal'],\n",
      "      dtype='object')\n"
     ]
    },
    {
     "name": "stderr",
     "output_type": "stream",
     "text": [
      "[*********************100%***********************]  1 of 1 completed\n",
      "[*********************100%***********************]  1 of 1 completed\n"
     ]
    },
    {
     "name": "stdout",
     "output_type": "stream",
     "text": [
      "Index(['Open', 'High', 'Low', 'Close', 'Adj Close', 'Volume'], dtype='object')\n",
      "Index(['Open', 'High', 'Low', 'Close', 'Adj Close', 'Volume', 'TR1', 'TR2',\n",
      "       'TR3', 'TR', 'ATR', 'SuperTrend_Up', 'SuperTrend_Down', 'Trend',\n",
      "       'Buy_Signal', 'Sell_Signal'],\n",
      "      dtype='object')\n",
      "Index(['Open', 'High', 'Low', 'Close', 'Adj Close', 'Volume'], dtype='object')\n"
     ]
    },
    {
     "name": "stderr",
     "output_type": "stream",
     "text": [
      "[*********************100%***********************]  1 of 1 completed\n"
     ]
    },
    {
     "name": "stdout",
     "output_type": "stream",
     "text": [
      "Index(['Open', 'High', 'Low', 'Close', 'Adj Close', 'Volume', 'TR1', 'TR2',\n",
      "       'TR3', 'TR', 'ATR', 'SuperTrend_Up', 'SuperTrend_Down', 'Trend',\n",
      "       'Buy_Signal', 'Sell_Signal'],\n",
      "      dtype='object')\n",
      "Index(['Open', 'High', 'Low', 'Close', 'Adj Close', 'Volume'], dtype='object')\n",
      "Index(['Open', 'High', 'Low', 'Close', 'Adj Close', 'Volume', 'TR1', 'TR2',\n",
      "       'TR3', 'TR', 'ATR', 'SuperTrend_Up', 'SuperTrend_Down', 'Trend',\n",
      "       'Buy_Signal', 'Sell_Signal'],\n",
      "      dtype='object')\n"
     ]
    },
    {
     "name": "stderr",
     "output_type": "stream",
     "text": [
      "[*********************100%***********************]  1 of 1 completed\n",
      "[*********************100%***********************]  1 of 1 completed\n"
     ]
    },
    {
     "name": "stdout",
     "output_type": "stream",
     "text": [
      "Index(['Open', 'High', 'Low', 'Close', 'Adj Close', 'Volume'], dtype='object')\n",
      "Index(['Open', 'High', 'Low', 'Close', 'Adj Close', 'Volume', 'TR1', 'TR2',\n",
      "       'TR3', 'TR', 'ATR', 'SuperTrend_Up', 'SuperTrend_Down', 'Trend',\n",
      "       'Buy_Signal', 'Sell_Signal'],\n",
      "      dtype='object')\n",
      "Index(['Open', 'High', 'Low', 'Close', 'Adj Close', 'Volume'], dtype='object')\n"
     ]
    },
    {
     "name": "stderr",
     "output_type": "stream",
     "text": [
      "[*********************100%***********************]  1 of 1 completed\n"
     ]
    },
    {
     "name": "stdout",
     "output_type": "stream",
     "text": [
      "Index(['Open', 'High', 'Low', 'Close', 'Adj Close', 'Volume', 'TR1', 'TR2',\n",
      "       'TR3', 'TR', 'ATR', 'SuperTrend_Up', 'SuperTrend_Down', 'Trend',\n",
      "       'Buy_Signal', 'Sell_Signal'],\n",
      "      dtype='object')\n",
      "Index(['Open', 'High', 'Low', 'Close', 'Adj Close', 'Volume'], dtype='object')\n",
      "Index(['Open', 'High', 'Low', 'Close', 'Adj Close', 'Volume', 'TR1', 'TR2',\n",
      "       'TR3', 'TR', 'ATR', 'SuperTrend_Up', 'SuperTrend_Down', 'Trend',\n",
      "       'Buy_Signal', 'Sell_Signal'],\n",
      "      dtype='object')\n"
     ]
    },
    {
     "name": "stderr",
     "output_type": "stream",
     "text": [
      "[*********************100%***********************]  1 of 1 completed\n"
     ]
    },
    {
     "name": "stdout",
     "output_type": "stream",
     "text": [
      "Index(['Open', 'High', 'Low', 'Close', 'Adj Close', 'Volume'], dtype='object')\n",
      "Index(['Open', 'High', 'Low', 'Close', 'Adj Close', 'Volume', 'TR1', 'TR2',\n",
      "       'TR3', 'TR', 'ATR', 'SuperTrend_Up', 'SuperTrend_Down', 'Trend',\n",
      "       'Buy_Signal', 'Sell_Signal'],\n",
      "      dtype='object')\n"
     ]
    },
    {
     "name": "stderr",
     "output_type": "stream",
     "text": [
      "[*********************100%***********************]  1 of 1 completed\n",
      "[*********************100%***********************]  1 of 1 completed\n"
     ]
    },
    {
     "name": "stdout",
     "output_type": "stream",
     "text": [
      "Index(['Open', 'High', 'Low', 'Close', 'Adj Close', 'Volume'], dtype='object')\n",
      "Index(['Open', 'High', 'Low', 'Close', 'Adj Close', 'Volume', 'TR1', 'TR2',\n",
      "       'TR3', 'TR', 'ATR', 'SuperTrend_Up', 'SuperTrend_Down', 'Trend',\n",
      "       'Buy_Signal', 'Sell_Signal'],\n",
      "      dtype='object')\n",
      "Index(['Open', 'High', 'Low', 'Close', 'Adj Close', 'Volume'], dtype='object')\n"
     ]
    },
    {
     "name": "stderr",
     "output_type": "stream",
     "text": [
      "[*********************100%***********************]  1 of 1 completed"
     ]
    },
    {
     "name": "stdout",
     "output_type": "stream",
     "text": [
      "Index(['Open', 'High', 'Low', 'Close', 'Adj Close', 'Volume', 'TR1', 'TR2',\n",
      "       'TR3', 'TR', 'ATR', 'SuperTrend_Up', 'SuperTrend_Down', 'Trend',\n",
      "       'Buy_Signal', 'Sell_Signal'],\n",
      "      dtype='object')\n",
      "Index(['Open', 'High', 'Low', 'Close', 'Adj Close', 'Volume'], dtype='object')\n"
     ]
    },
    {
     "name": "stderr",
     "output_type": "stream",
     "text": [
      "\n"
     ]
    },
    {
     "name": "stdout",
     "output_type": "stream",
     "text": [
      "Index(['Open', 'High', 'Low', 'Close', 'Adj Close', 'Volume', 'TR1', 'TR2',\n",
      "       'TR3', 'TR', 'ATR', 'SuperTrend_Up', 'SuperTrend_Down', 'Trend',\n",
      "       'Buy_Signal', 'Sell_Signal'],\n",
      "      dtype='object')\n"
     ]
    },
    {
     "name": "stderr",
     "output_type": "stream",
     "text": [
      "[*********************100%***********************]  1 of 1 completed\n"
     ]
    },
    {
     "name": "stdout",
     "output_type": "stream",
     "text": [
      "Index(['Open', 'High', 'Low', 'Close', 'Adj Close', 'Volume'], dtype='object')\n",
      "Index(['Open', 'High', 'Low', 'Close', 'Adj Close', 'Volume', 'TR1', 'TR2',\n",
      "       'TR3', 'TR', 'ATR', 'SuperTrend_Up', 'SuperTrend_Down', 'Trend',\n",
      "       'Buy_Signal', 'Sell_Signal'],\n",
      "      dtype='object')\n"
     ]
    },
    {
     "name": "stderr",
     "output_type": "stream",
     "text": [
      "[*********************100%***********************]  1 of 1 completed\n"
     ]
    },
    {
     "name": "stdout",
     "output_type": "stream",
     "text": [
      "Index(['Open', 'High', 'Low', 'Close', 'Adj Close', 'Volume'], dtype='object')\n",
      "Index(['Open', 'High', 'Low', 'Close', 'Adj Close', 'Volume', 'TR1', 'TR2',\n",
      "       'TR3', 'TR', 'ATR', 'SuperTrend_Up', 'SuperTrend_Down', 'Trend',\n",
      "       'Buy_Signal', 'Sell_Signal'],\n",
      "      dtype='object')\n"
     ]
    },
    {
     "name": "stderr",
     "output_type": "stream",
     "text": [
      "[*********************100%***********************]  1 of 1 completed\n",
      "[*********************100%***********************]  1 of 1 completed\n"
     ]
    },
    {
     "name": "stdout",
     "output_type": "stream",
     "text": [
      "Index(['Open', 'High', 'Low', 'Close', 'Adj Close', 'Volume'], dtype='object')\n",
      "Index(['Open', 'High', 'Low', 'Close', 'Adj Close', 'Volume', 'TR1', 'TR2',\n",
      "       'TR3', 'TR', 'ATR', 'SuperTrend_Up', 'SuperTrend_Down', 'Trend',\n",
      "       'Buy_Signal', 'Sell_Signal'],\n",
      "      dtype='object')\n",
      "Index(['Open', 'High', 'Low', 'Close', 'Adj Close', 'Volume'], dtype='object')\n",
      "Index(['Open', 'High', 'Low', 'Close', 'Adj Close', 'Volume', 'TR1', 'TR2',\n",
      "       'TR3', 'TR', 'ATR', 'SuperTrend_Up', 'SuperTrend_Down', 'Trend',\n",
      "       'Buy_Signal', 'Sell_Signal'],\n",
      "      dtype='object')\n"
     ]
    },
    {
     "name": "stderr",
     "output_type": "stream",
     "text": [
      "[*********************100%***********************]  1 of 1 completed\n",
      "[*********************100%***********************]  1 of 1 completed\n"
     ]
    },
    {
     "name": "stdout",
     "output_type": "stream",
     "text": [
      "Index(['Open', 'High', 'Low', 'Close', 'Adj Close', 'Volume'], dtype='object')\n",
      "Index(['Open', 'High', 'Low', 'Close', 'Adj Close', 'Volume', 'TR1', 'TR2',\n",
      "       'TR3', 'TR', 'ATR', 'SuperTrend_Up', 'SuperTrend_Down', 'Trend',\n",
      "       'Buy_Signal', 'Sell_Signal'],\n",
      "      dtype='object')\n",
      "Index(['Open', 'High', 'Low', 'Close', 'Adj Close', 'Volume'], dtype='object')\n"
     ]
    },
    {
     "name": "stderr",
     "output_type": "stream",
     "text": [
      "[*********************100%***********************]  1 of 1 completed\n"
     ]
    },
    {
     "name": "stdout",
     "output_type": "stream",
     "text": [
      "Index(['Open', 'High', 'Low', 'Close', 'Adj Close', 'Volume', 'TR1', 'TR2',\n",
      "       'TR3', 'TR', 'ATR', 'SuperTrend_Up', 'SuperTrend_Down', 'Trend',\n",
      "       'Buy_Signal', 'Sell_Signal'],\n",
      "      dtype='object')\n",
      "Index(['Open', 'High', 'Low', 'Close', 'Adj Close', 'Volume'], dtype='object')\n",
      "Index(['Open', 'High', 'Low', 'Close', 'Adj Close', 'Volume', 'TR1', 'TR2',\n",
      "       'TR3', 'TR', 'ATR', 'SuperTrend_Up', 'SuperTrend_Down', 'Trend',\n",
      "       'Buy_Signal', 'Sell_Signal'],\n",
      "      dtype='object')\n"
     ]
    },
    {
     "name": "stderr",
     "output_type": "stream",
     "text": [
      "[*********************100%***********************]  1 of 1 completed\n",
      "[*********************100%***********************]  1 of 1 completed\n"
     ]
    },
    {
     "name": "stdout",
     "output_type": "stream",
     "text": [
      "Index(['Open', 'High', 'Low', 'Close', 'Adj Close', 'Volume'], dtype='object')\n",
      "Index(['Open', 'High', 'Low', 'Close', 'Adj Close', 'Volume', 'TR1', 'TR2',\n",
      "       'TR3', 'TR', 'ATR', 'SuperTrend_Up', 'SuperTrend_Down', 'Trend',\n",
      "       'Buy_Signal', 'Sell_Signal'],\n",
      "      dtype='object')\n",
      "Index(['Open', 'High', 'Low', 'Close', 'Adj Close', 'Volume'], dtype='object')\n"
     ]
    },
    {
     "name": "stderr",
     "output_type": "stream",
     "text": [
      "[*********************100%***********************]  1 of 1 completed\n"
     ]
    },
    {
     "name": "stdout",
     "output_type": "stream",
     "text": [
      "Index(['Open', 'High', 'Low', 'Close', 'Adj Close', 'Volume', 'TR1', 'TR2',\n",
      "       'TR3', 'TR', 'ATR', 'SuperTrend_Up', 'SuperTrend_Down', 'Trend',\n",
      "       'Buy_Signal', 'Sell_Signal'],\n",
      "      dtype='object')\n",
      "Index(['Open', 'High', 'Low', 'Close', 'Adj Close', 'Volume'], dtype='object')\n",
      "Index(['Open', 'High', 'Low', 'Close', 'Adj Close', 'Volume', 'TR1', 'TR2',\n",
      "       'TR3', 'TR', 'ATR', 'SuperTrend_Up', 'SuperTrend_Down', 'Trend',\n",
      "       'Buy_Signal', 'Sell_Signal'],\n",
      "      dtype='object')\n"
     ]
    },
    {
     "name": "stderr",
     "output_type": "stream",
     "text": [
      "[*********************100%***********************]  1 of 1 completed\n",
      "[*********************100%***********************]  1 of 1 completed\n"
     ]
    },
    {
     "name": "stdout",
     "output_type": "stream",
     "text": [
      "Index(['Open', 'High', 'Low', 'Close', 'Adj Close', 'Volume'], dtype='object')\n",
      "Index(['Open', 'High', 'Low', 'Close', 'Adj Close', 'Volume', 'TR1', 'TR2',\n",
      "       'TR3', 'TR', 'ATR', 'SuperTrend_Up', 'SuperTrend_Down', 'Trend',\n",
      "       'Buy_Signal', 'Sell_Signal'],\n",
      "      dtype='object')\n",
      "Index(['Open', 'High', 'Low', 'Close', 'Adj Close', 'Volume'], dtype='object')\n"
     ]
    },
    {
     "name": "stderr",
     "output_type": "stream",
     "text": [
      "[*********************100%***********************]  1 of 1 completed\n"
     ]
    },
    {
     "name": "stdout",
     "output_type": "stream",
     "text": [
      "Index(['Open', 'High', 'Low', 'Close', 'Adj Close', 'Volume', 'TR1', 'TR2',\n",
      "       'TR3', 'TR', 'ATR', 'SuperTrend_Up', 'SuperTrend_Down', 'Trend',\n",
      "       'Buy_Signal', 'Sell_Signal'],\n",
      "      dtype='object')\n",
      "Index(['Open', 'High', 'Low', 'Close', 'Adj Close', 'Volume'], dtype='object')\n",
      "Index(['Open', 'High', 'Low', 'Close', 'Adj Close', 'Volume', 'TR1', 'TR2',\n",
      "       'TR3', 'TR', 'ATR', 'SuperTrend_Up', 'SuperTrend_Down', 'Trend',\n",
      "       'Buy_Signal', 'Sell_Signal'],\n",
      "      dtype='object')\n"
     ]
    },
    {
     "name": "stderr",
     "output_type": "stream",
     "text": [
      "[*********************100%***********************]  1 of 1 completed\n",
      "[*********************100%***********************]  1 of 1 completed\n"
     ]
    },
    {
     "name": "stdout",
     "output_type": "stream",
     "text": [
      "Index(['Open', 'High', 'Low', 'Close', 'Adj Close', 'Volume'], dtype='object')\n",
      "Index(['Open', 'High', 'Low', 'Close', 'Adj Close', 'Volume', 'TR1', 'TR2',\n",
      "       'TR3', 'TR', 'ATR', 'SuperTrend_Up', 'SuperTrend_Down', 'Trend',\n",
      "       'Buy_Signal', 'Sell_Signal'],\n",
      "      dtype='object')\n",
      "Index(['Open', 'High', 'Low', 'Close', 'Adj Close', 'Volume'], dtype='object')\n"
     ]
    },
    {
     "name": "stderr",
     "output_type": "stream",
     "text": [
      "[*********************100%***********************]  1 of 1 completed\n"
     ]
    },
    {
     "name": "stdout",
     "output_type": "stream",
     "text": [
      "Index(['Open', 'High', 'Low', 'Close', 'Adj Close', 'Volume', 'TR1', 'TR2',\n",
      "       'TR3', 'TR', 'ATR', 'SuperTrend_Up', 'SuperTrend_Down', 'Trend',\n",
      "       'Buy_Signal', 'Sell_Signal'],\n",
      "      dtype='object')\n",
      "Index(['Open', 'High', 'Low', 'Close', 'Adj Close', 'Volume'], dtype='object')\n",
      "Index(['Open', 'High', 'Low', 'Close', 'Adj Close', 'Volume', 'TR1', 'TR2',\n",
      "       'TR3', 'TR', 'ATR', 'SuperTrend_Up', 'SuperTrend_Down', 'Trend',\n",
      "       'Buy_Signal', 'Sell_Signal'],\n",
      "      dtype='object')\n"
     ]
    },
    {
     "name": "stderr",
     "output_type": "stream",
     "text": [
      "[*********************100%***********************]  1 of 1 completed\n"
     ]
    },
    {
     "name": "stdout",
     "output_type": "stream",
     "text": [
      "Index(['Open', 'High', 'Low', 'Close', 'Adj Close', 'Volume'], dtype='object')\n",
      "Index(['Open', 'High', 'Low', 'Close', 'Adj Close', 'Volume', 'TR1', 'TR2',\n",
      "       'TR3', 'TR', 'ATR', 'SuperTrend_Up', 'SuperTrend_Down', 'Trend',\n",
      "       'Buy_Signal', 'Sell_Signal'],\n",
      "      dtype='object')\n"
     ]
    },
    {
     "name": "stderr",
     "output_type": "stream",
     "text": [
      "[*********************100%***********************]  1 of 1 completed\n"
     ]
    },
    {
     "name": "stdout",
     "output_type": "stream",
     "text": [
      "Index(['Open', 'High', 'Low', 'Close', 'Adj Close', 'Volume'], dtype='object')\n",
      "Index(['Open', 'High', 'Low', 'Close', 'Adj Close', 'Volume', 'TR1', 'TR2',\n",
      "       'TR3', 'TR', 'ATR', 'SuperTrend_Up', 'SuperTrend_Down', 'Trend',\n",
      "       'Buy_Signal', 'Sell_Signal'],\n",
      "      dtype='object')\n"
     ]
    },
    {
     "name": "stderr",
     "output_type": "stream",
     "text": [
      "[*********************100%***********************]  1 of 1 completed\n"
     ]
    },
    {
     "name": "stdout",
     "output_type": "stream",
     "text": [
      "Index(['Open', 'High', 'Low', 'Close', 'Adj Close', 'Volume'], dtype='object')\n",
      "Index(['Open', 'High', 'Low', 'Close', 'Adj Close', 'Volume', 'TR1', 'TR2',\n",
      "       'TR3', 'TR', 'ATR', 'SuperTrend_Up', 'SuperTrend_Down', 'Trend',\n",
      "       'Buy_Signal', 'Sell_Signal'],\n",
      "      dtype='object')\n"
     ]
    },
    {
     "name": "stderr",
     "output_type": "stream",
     "text": [
      "[*********************100%***********************]  1 of 1 completed\n",
      "[*********************100%***********************]  1 of 1 completed\n"
     ]
    },
    {
     "name": "stdout",
     "output_type": "stream",
     "text": [
      "Index(['Open', 'High', 'Low', 'Close', 'Adj Close', 'Volume'], dtype='object')\n",
      "Index(['Open', 'High', 'Low', 'Close', 'Adj Close', 'Volume', 'TR1', 'TR2',\n",
      "       'TR3', 'TR', 'ATR', 'SuperTrend_Up', 'SuperTrend_Down', 'Trend',\n",
      "       'Buy_Signal', 'Sell_Signal'],\n",
      "      dtype='object')\n",
      "Index(['Open', 'High', 'Low', 'Close', 'Adj Close', 'Volume'], dtype='object')\n"
     ]
    },
    {
     "name": "stderr",
     "output_type": "stream",
     "text": [
      "[*********************100%***********************]  1 of 1 completed\n"
     ]
    },
    {
     "name": "stdout",
     "output_type": "stream",
     "text": [
      "Index(['Open', 'High', 'Low', 'Close', 'Adj Close', 'Volume', 'TR1', 'TR2',\n",
      "       'TR3', 'TR', 'ATR', 'SuperTrend_Up', 'SuperTrend_Down', 'Trend',\n",
      "       'Buy_Signal', 'Sell_Signal'],\n",
      "      dtype='object')\n",
      "Index(['Open', 'High', 'Low', 'Close', 'Adj Close', 'Volume'], dtype='object')\n"
     ]
    },
    {
     "name": "stderr",
     "output_type": "stream",
     "text": [
      "[*********************100%***********************]  1 of 1 completed"
     ]
    },
    {
     "name": "stdout",
     "output_type": "stream",
     "text": [
      "Index(['Open', 'High', 'Low', 'Close', 'Adj Close', 'Volume', 'TR1', 'TR2',\n",
      "       'TR3', 'TR', 'ATR', 'SuperTrend_Up', 'SuperTrend_Down', 'Trend',\n",
      "       'Buy_Signal', 'Sell_Signal'],\n",
      "      dtype='object')\n",
      "Index(['Open', 'High', 'Low', 'Close', 'Adj Close', 'Volume'], dtype='object')\n"
     ]
    },
    {
     "name": "stderr",
     "output_type": "stream",
     "text": [
      "\n",
      "[*********************100%***********************]  1 of 1 completed\n"
     ]
    },
    {
     "name": "stdout",
     "output_type": "stream",
     "text": [
      "Index(['Open', 'High', 'Low', 'Close', 'Adj Close', 'Volume', 'TR1', 'TR2',\n",
      "       'TR3', 'TR', 'ATR', 'SuperTrend_Up', 'SuperTrend_Down', 'Trend',\n",
      "       'Buy_Signal', 'Sell_Signal'],\n",
      "      dtype='object')\n",
      "Index(['Open', 'High', 'Low', 'Close', 'Adj Close', 'Volume'], dtype='object')\n",
      "Index(['Open', 'High', 'Low', 'Close', 'Adj Close', 'Volume', 'TR1', 'TR2',\n",
      "       'TR3', 'TR', 'ATR', 'SuperTrend_Up', 'SuperTrend_Down', 'Trend',\n",
      "       'Buy_Signal', 'Sell_Signal'],\n",
      "      dtype='object')\n"
     ]
    },
    {
     "name": "stderr",
     "output_type": "stream",
     "text": [
      "[*********************100%***********************]  1 of 1 completed\n"
     ]
    },
    {
     "name": "stdout",
     "output_type": "stream",
     "text": [
      "Index(['Open', 'High', 'Low', 'Close', 'Adj Close', 'Volume'], dtype='object')\n",
      "Index(['Open', 'High', 'Low', 'Close', 'Adj Close', 'Volume', 'TR1', 'TR2',\n",
      "       'TR3', 'TR', 'ATR', 'SuperTrend_Up', 'SuperTrend_Down', 'Trend',\n",
      "       'Buy_Signal', 'Sell_Signal'],\n",
      "      dtype='object')\n"
     ]
    },
    {
     "name": "stderr",
     "output_type": "stream",
     "text": [
      "[*********************100%***********************]  1 of 1 completed\n",
      "[*********************100%***********************]  1 of 1 completed\n"
     ]
    },
    {
     "name": "stdout",
     "output_type": "stream",
     "text": [
      "Index(['Open', 'High', 'Low', 'Close', 'Adj Close', 'Volume'], dtype='object')\n",
      "Index(['Open', 'High', 'Low', 'Close', 'Adj Close', 'Volume', 'TR1', 'TR2',\n",
      "       'TR3', 'TR', 'ATR', 'SuperTrend_Up', 'SuperTrend_Down', 'Trend',\n",
      "       'Buy_Signal', 'Sell_Signal'],\n",
      "      dtype='object')\n",
      "Index(['Open', 'High', 'Low', 'Close', 'Adj Close', 'Volume'], dtype='object')\n"
     ]
    },
    {
     "name": "stderr",
     "output_type": "stream",
     "text": [
      "[*********************100%***********************]  1 of 1 completed\n"
     ]
    },
    {
     "name": "stdout",
     "output_type": "stream",
     "text": [
      "Index(['Open', 'High', 'Low', 'Close', 'Adj Close', 'Volume', 'TR1', 'TR2',\n",
      "       'TR3', 'TR', 'ATR', 'SuperTrend_Up', 'SuperTrend_Down', 'Trend',\n",
      "       'Buy_Signal', 'Sell_Signal'],\n",
      "      dtype='object')\n",
      "Index(['Open', 'High', 'Low', 'Close', 'Adj Close', 'Volume'], dtype='object')\n",
      "Index(['Open', 'High', 'Low', 'Close', 'Adj Close', 'Volume', 'TR1', 'TR2',\n",
      "       'TR3', 'TR', 'ATR', 'SuperTrend_Up', 'SuperTrend_Down', 'Trend',\n",
      "       'Buy_Signal', 'Sell_Signal'],\n",
      "      dtype='object')\n"
     ]
    },
    {
     "name": "stderr",
     "output_type": "stream",
     "text": [
      "[*********************100%***********************]  1 of 1 completed\n",
      "[*********************100%***********************]  1 of 1 completed\n"
     ]
    },
    {
     "name": "stdout",
     "output_type": "stream",
     "text": [
      "Index(['Open', 'High', 'Low', 'Close', 'Adj Close', 'Volume'], dtype='object')\n",
      "Index(['Open', 'High', 'Low', 'Close', 'Adj Close', 'Volume', 'TR1', 'TR2',\n",
      "       'TR3', 'TR', 'ATR', 'SuperTrend_Up', 'SuperTrend_Down', 'Trend',\n",
      "       'Buy_Signal', 'Sell_Signal'],\n",
      "      dtype='object')\n",
      "Index(['Open', 'High', 'Low', 'Close', 'Adj Close', 'Volume'], dtype='object')\n"
     ]
    },
    {
     "name": "stderr",
     "output_type": "stream",
     "text": [
      "[*********************100%***********************]  1 of 1 completed"
     ]
    },
    {
     "name": "stdout",
     "output_type": "stream",
     "text": [
      "Index(['Open', 'High', 'Low', 'Close', 'Adj Close', 'Volume', 'TR1', 'TR2',\n",
      "       'TR3', 'TR', 'ATR', 'SuperTrend_Up', 'SuperTrend_Down', 'Trend',\n",
      "       'Buy_Signal', 'Sell_Signal'],\n",
      "      dtype='object')\n",
      "Index(['Open', 'High', 'Low', 'Close', 'Adj Close', 'Volume'], dtype='object')\n",
      "Index(['Open', 'High', 'Low', 'Close', 'Adj Close', 'Volume', 'TR1', 'TR2',\n",
      "       'TR3', 'TR', 'ATR', 'SuperTrend_Up', 'SuperTrend_Down', 'Trend',\n",
      "       'Buy_Signal', 'Sell_Signal'],\n",
      "      dtype='object')\n"
     ]
    },
    {
     "name": "stderr",
     "output_type": "stream",
     "text": [
      "\n",
      "[*********************100%***********************]  1 of 1 completed\n",
      "[*********************100%***********************]  1 of 1 completed\n"
     ]
    },
    {
     "name": "stdout",
     "output_type": "stream",
     "text": [
      "Index(['Open', 'High', 'Low', 'Close', 'Adj Close', 'Volume'], dtype='object')\n",
      "Index(['Open', 'High', 'Low', 'Close', 'Adj Close', 'Volume', 'TR1', 'TR2',\n",
      "       'TR3', 'TR', 'ATR', 'SuperTrend_Up', 'SuperTrend_Down', 'Trend',\n",
      "       'Buy_Signal', 'Sell_Signal'],\n",
      "      dtype='object')\n",
      "Index(['Open', 'High', 'Low', 'Close', 'Adj Close', 'Volume'], dtype='object')\n",
      "Index(['Open', 'High', 'Low', 'Close', 'Adj Close', 'Volume', 'TR1', 'TR2',\n",
      "       'TR3', 'TR', 'ATR', 'SuperTrend_Up', 'SuperTrend_Down', 'Trend',\n",
      "       'Buy_Signal', 'Sell_Signal'],\n",
      "      dtype='object')\n"
     ]
    },
    {
     "name": "stderr",
     "output_type": "stream",
     "text": [
      "[*********************100%***********************]  1 of 1 completed\n",
      "[*********************100%***********************]  1 of 1 completed\n"
     ]
    },
    {
     "name": "stdout",
     "output_type": "stream",
     "text": [
      "Index(['Open', 'High', 'Low', 'Close', 'Adj Close', 'Volume'], dtype='object')\n",
      "Index(['Open', 'High', 'Low', 'Close', 'Adj Close', 'Volume', 'TR1', 'TR2',\n",
      "       'TR3', 'TR', 'ATR', 'SuperTrend_Up', 'SuperTrend_Down', 'Trend',\n",
      "       'Buy_Signal', 'Sell_Signal'],\n",
      "      dtype='object')\n",
      "Index(['Open', 'High', 'Low', 'Close', 'Adj Close', 'Volume'], dtype='object')\n"
     ]
    },
    {
     "name": "stderr",
     "output_type": "stream",
     "text": [
      "[*********************100%***********************]  1 of 1 completed\n"
     ]
    },
    {
     "name": "stdout",
     "output_type": "stream",
     "text": [
      "Index(['Open', 'High', 'Low', 'Close', 'Adj Close', 'Volume', 'TR1', 'TR2',\n",
      "       'TR3', 'TR', 'ATR', 'SuperTrend_Up', 'SuperTrend_Down', 'Trend',\n",
      "       'Buy_Signal', 'Sell_Signal'],\n",
      "      dtype='object')\n",
      "Index(['Open', 'High', 'Low', 'Close', 'Adj Close', 'Volume'], dtype='object')\n",
      "Index(['Open', 'High', 'Low', 'Close', 'Adj Close', 'Volume', 'TR1', 'TR2',\n",
      "       'TR3', 'TR', 'ATR', 'SuperTrend_Up', 'SuperTrend_Down', 'Trend',\n",
      "       'Buy_Signal', 'Sell_Signal'],\n",
      "      dtype='object')\n"
     ]
    },
    {
     "name": "stderr",
     "output_type": "stream",
     "text": [
      "[*********************100%***********************]  1 of 1 completed\n"
     ]
    },
    {
     "name": "stdout",
     "output_type": "stream",
     "text": [
      "Index(['Open', 'High', 'Low', 'Close', 'Adj Close', 'Volume'], dtype='object')\n",
      "Index(['Open', 'High', 'Low', 'Close', 'Adj Close', 'Volume', 'TR1', 'TR2',\n",
      "       'TR3', 'TR', 'ATR', 'SuperTrend_Up', 'SuperTrend_Down', 'Trend',\n",
      "       'Buy_Signal', 'Sell_Signal'],\n",
      "      dtype='object')\n"
     ]
    },
    {
     "name": "stderr",
     "output_type": "stream",
     "text": [
      "[*********************100%***********************]  1 of 1 completed\n"
     ]
    },
    {
     "name": "stdout",
     "output_type": "stream",
     "text": [
      "Index(['Open', 'High', 'Low', 'Close', 'Adj Close', 'Volume'], dtype='object')\n",
      "Index(['Open', 'High', 'Low', 'Close', 'Adj Close', 'Volume', 'TR1', 'TR2',\n",
      "       'TR3', 'TR', 'ATR', 'SuperTrend_Up', 'SuperTrend_Down', 'Trend',\n",
      "       'Buy_Signal', 'Sell_Signal'],\n",
      "      dtype='object')\n"
     ]
    },
    {
     "name": "stderr",
     "output_type": "stream",
     "text": [
      "[*********************100%***********************]  1 of 1 completed\n",
      "[*********************100%***********************]  1 of 1 completed\n"
     ]
    },
    {
     "name": "stdout",
     "output_type": "stream",
     "text": [
      "Index(['Open', 'High', 'Low', 'Close', 'Adj Close', 'Volume'], dtype='object')\n",
      "Index(['Open', 'High', 'Low', 'Close', 'Adj Close', 'Volume', 'TR1', 'TR2',\n",
      "       'TR3', 'TR', 'ATR', 'SuperTrend_Up', 'SuperTrend_Down', 'Trend',\n",
      "       'Buy_Signal', 'Sell_Signal'],\n",
      "      dtype='object')\n",
      "Index(['Open', 'High', 'Low', 'Close', 'Adj Close', 'Volume'], dtype='object')\n",
      "Index(['Open', 'High', 'Low', 'Close', 'Adj Close', 'Volume', 'TR1', 'TR2',\n",
      "       'TR3', 'TR', 'ATR', 'SuperTrend_Up', 'SuperTrend_Down', 'Trend',\n",
      "       'Buy_Signal', 'Sell_Signal'],\n",
      "      dtype='object')\n"
     ]
    },
    {
     "name": "stderr",
     "output_type": "stream",
     "text": [
      "[*********************100%***********************]  1 of 1 completed\n",
      "[*********************100%***********************]  1 of 1 completed\n"
     ]
    },
    {
     "name": "stdout",
     "output_type": "stream",
     "text": [
      "Index(['Open', 'High', 'Low', 'Close', 'Adj Close', 'Volume'], dtype='object')\n",
      "Index(['Open', 'High', 'Low', 'Close', 'Adj Close', 'Volume', 'TR1', 'TR2',\n",
      "       'TR3', 'TR', 'ATR', 'SuperTrend_Up', 'SuperTrend_Down', 'Trend',\n",
      "       'Buy_Signal', 'Sell_Signal'],\n",
      "      dtype='object')\n",
      "Index(['Open', 'High', 'Low', 'Close', 'Adj Close', 'Volume'], dtype='object')\n"
     ]
    },
    {
     "name": "stderr",
     "output_type": "stream",
     "text": [
      "[*********************100%***********************]  1 of 1 completed\n"
     ]
    },
    {
     "name": "stdout",
     "output_type": "stream",
     "text": [
      "Index(['Open', 'High', 'Low', 'Close', 'Adj Close', 'Volume', 'TR1', 'TR2',\n",
      "       'TR3', 'TR', 'ATR', 'SuperTrend_Up', 'SuperTrend_Down', 'Trend',\n",
      "       'Buy_Signal', 'Sell_Signal'],\n",
      "      dtype='object')\n",
      "Index(['Open', 'High', 'Low', 'Close', 'Adj Close', 'Volume'], dtype='object')\n"
     ]
    },
    {
     "name": "stderr",
     "output_type": "stream",
     "text": [
      "[*********************100%***********************]  1 of 1 completed\n"
     ]
    },
    {
     "name": "stdout",
     "output_type": "stream",
     "text": [
      "Index(['Open', 'High', 'Low', 'Close', 'Adj Close', 'Volume', 'TR1', 'TR2',\n",
      "       'TR3', 'TR', 'ATR', 'SuperTrend_Up', 'SuperTrend_Down', 'Trend',\n",
      "       'Buy_Signal', 'Sell_Signal'],\n",
      "      dtype='object')\n",
      "Index(['Open', 'High', 'Low', 'Close', 'Adj Close', 'Volume'], dtype='object')\n",
      "Index(['Open', 'High', 'Low', 'Close', 'Adj Close', 'Volume', 'TR1', 'TR2',\n",
      "       'TR3', 'TR', 'ATR', 'SuperTrend_Up', 'SuperTrend_Down', 'Trend',\n",
      "       'Buy_Signal', 'Sell_Signal'],\n",
      "      dtype='object')\n"
     ]
    },
    {
     "name": "stderr",
     "output_type": "stream",
     "text": [
      "[*********************100%***********************]  1 of 1 completed\n"
     ]
    },
    {
     "name": "stdout",
     "output_type": "stream",
     "text": [
      "Index(['Open', 'High', 'Low', 'Close', 'Adj Close', 'Volume'], dtype='object')\n",
      "Index(['Open', 'High', 'Low', 'Close', 'Adj Close', 'Volume', 'TR1', 'TR2',\n",
      "       'TR3', 'TR', 'ATR', 'SuperTrend_Up', 'SuperTrend_Down', 'Trend',\n",
      "       'Buy_Signal', 'Sell_Signal'],\n",
      "      dtype='object')\n"
     ]
    },
    {
     "name": "stderr",
     "output_type": "stream",
     "text": [
      "[*********************100%***********************]  1 of 1 completed\n",
      "[*********************100%***********************]  1 of 1 completed\n"
     ]
    },
    {
     "name": "stdout",
     "output_type": "stream",
     "text": [
      "Index(['Open', 'High', 'Low', 'Close', 'Adj Close', 'Volume'], dtype='object')\n",
      "Index(['Open', 'High', 'Low', 'Close', 'Adj Close', 'Volume', 'TR1', 'TR2',\n",
      "       'TR3', 'TR', 'ATR', 'SuperTrend_Up', 'SuperTrend_Down', 'Trend',\n",
      "       'Buy_Signal', 'Sell_Signal'],\n",
      "      dtype='object')\n",
      "Index(['Open', 'High', 'Low', 'Close', 'Adj Close', 'Volume'], dtype='object')\n"
     ]
    },
    {
     "name": "stderr",
     "output_type": "stream",
     "text": [
      "[*********************100%***********************]  1 of 1 completed\n"
     ]
    },
    {
     "name": "stdout",
     "output_type": "stream",
     "text": [
      "Index(['Open', 'High', 'Low', 'Close', 'Adj Close', 'Volume', 'TR1', 'TR2',\n",
      "       'TR3', 'TR', 'ATR', 'SuperTrend_Up', 'SuperTrend_Down', 'Trend',\n",
      "       'Buy_Signal', 'Sell_Signal'],\n",
      "      dtype='object')\n",
      "Index(['Open', 'High', 'Low', 'Close', 'Adj Close', 'Volume'], dtype='object')\n",
      "Index(['Open', 'High', 'Low', 'Close', 'Adj Close', 'Volume', 'TR1', 'TR2',\n",
      "       'TR3', 'TR', 'ATR', 'SuperTrend_Up', 'SuperTrend_Down', 'Trend',\n",
      "       'Buy_Signal', 'Sell_Signal'],\n",
      "      dtype='object')\n"
     ]
    },
    {
     "name": "stderr",
     "output_type": "stream",
     "text": [
      "[*********************100%***********************]  1 of 1 completed\n",
      "[*********************100%***********************]  1 of 1 completed\n"
     ]
    },
    {
     "name": "stdout",
     "output_type": "stream",
     "text": [
      "Index(['Open', 'High', 'Low', 'Close', 'Adj Close', 'Volume'], dtype='object')\n",
      "Index(['Open', 'High', 'Low', 'Close', 'Adj Close', 'Volume', 'TR1', 'TR2',\n",
      "       'TR3', 'TR', 'ATR', 'SuperTrend_Up', 'SuperTrend_Down', 'Trend',\n",
      "       'Buy_Signal', 'Sell_Signal'],\n",
      "      dtype='object')\n",
      "Index(['Open', 'High', 'Low', 'Close', 'Adj Close', 'Volume'], dtype='object')\n"
     ]
    },
    {
     "name": "stderr",
     "output_type": "stream",
     "text": [
      "[*********************100%***********************]  1 of 1 completed\n"
     ]
    },
    {
     "name": "stdout",
     "output_type": "stream",
     "text": [
      "Index(['Open', 'High', 'Low', 'Close', 'Adj Close', 'Volume', 'TR1', 'TR2',\n",
      "       'TR3', 'TR', 'ATR', 'SuperTrend_Up', 'SuperTrend_Down', 'Trend',\n",
      "       'Buy_Signal', 'Sell_Signal'],\n",
      "      dtype='object')\n",
      "Index(['Open', 'High', 'Low', 'Close', 'Adj Close', 'Volume'], dtype='object')\n",
      "Index(['Open', 'High', 'Low', 'Close', 'Adj Close', 'Volume', 'TR1', 'TR2',\n",
      "       'TR3', 'TR', 'ATR', 'SuperTrend_Up', 'SuperTrend_Down', 'Trend',\n",
      "       'Buy_Signal', 'Sell_Signal'],\n",
      "      dtype='object')\n"
     ]
    },
    {
     "name": "stderr",
     "output_type": "stream",
     "text": [
      "[*********************100%***********************]  1 of 1 completed\n"
     ]
    },
    {
     "name": "stdout",
     "output_type": "stream",
     "text": [
      "Index(['Open', 'High', 'Low', 'Close', 'Adj Close', 'Volume'], dtype='object')\n",
      "Index(['Open', 'High', 'Low', 'Close', 'Adj Close', 'Volume', 'TR1', 'TR2',\n",
      "       'TR3', 'TR', 'ATR', 'SuperTrend_Up', 'SuperTrend_Down', 'Trend',\n",
      "       'Buy_Signal', 'Sell_Signal'],\n",
      "      dtype='object')\n"
     ]
    },
    {
     "name": "stderr",
     "output_type": "stream",
     "text": [
      "[*********************100%***********************]  1 of 1 completed\n"
     ]
    },
    {
     "name": "stdout",
     "output_type": "stream",
     "text": [
      "Index(['Open', 'High', 'Low', 'Close', 'Adj Close', 'Volume'], dtype='object')\n",
      "Index(['Open', 'High', 'Low', 'Close', 'Adj Close', 'Volume', 'TR1', 'TR2',\n",
      "       'TR3', 'TR', 'ATR', 'SuperTrend_Up', 'SuperTrend_Down', 'Trend',\n",
      "       'Buy_Signal', 'Sell_Signal'],\n",
      "      dtype='object')\n"
     ]
    },
    {
     "name": "stderr",
     "output_type": "stream",
     "text": [
      "[*********************100%***********************]  1 of 1 completed\n",
      "[*********************100%***********************]  1 of 1 completed"
     ]
    },
    {
     "name": "stdout",
     "output_type": "stream",
     "text": [
      "Index(['Open', 'High', 'Low', 'Close', 'Adj Close', 'Volume'], dtype='object')\n",
      "Index(['Open', 'High', 'Low', 'Close', 'Adj Close', 'Volume', 'TR1', 'TR2',\n",
      "       'TR3', 'TR', 'ATR', 'SuperTrend_Up', 'SuperTrend_Down', 'Trend',\n",
      "       'Buy_Signal', 'Sell_Signal'],\n",
      "      dtype='object')\n"
     ]
    },
    {
     "name": "stderr",
     "output_type": "stream",
     "text": [
      "\n",
      "[*********************100%***********************]  1 of 1 completed\n"
     ]
    },
    {
     "name": "stdout",
     "output_type": "stream",
     "text": [
      "Index(['Open', 'High', 'Low', 'Close', 'Adj Close', 'Volume'], dtype='object')\n",
      "Index(['Open', 'High', 'Low', 'Close', 'Adj Close', 'Volume', 'TR1', 'TR2',\n",
      "       'TR3', 'TR', 'ATR', 'SuperTrend_Up', 'SuperTrend_Down', 'Trend',\n",
      "       'Buy_Signal', 'Sell_Signal'],\n",
      "      dtype='object')\n",
      "Index(['Open', 'High', 'Low', 'Close', 'Adj Close', 'Volume'], dtype='object')\n"
     ]
    },
    {
     "name": "stderr",
     "output_type": "stream",
     "text": [
      "[*********************100%***********************]  1 of 1 completed\n"
     ]
    },
    {
     "name": "stdout",
     "output_type": "stream",
     "text": [
      "Index(['Open', 'High', 'Low', 'Close', 'Adj Close', 'Volume', 'TR1', 'TR2',\n",
      "       'TR3', 'TR', 'ATR', 'SuperTrend_Up', 'SuperTrend_Down', 'Trend',\n",
      "       'Buy_Signal', 'Sell_Signal'],\n",
      "      dtype='object')\n",
      "Index(['Open', 'High', 'Low', 'Close', 'Adj Close', 'Volume'], dtype='object')\n",
      "Index(['Open', 'High', 'Low', 'Close', 'Adj Close', 'Volume', 'TR1', 'TR2',\n",
      "       'TR3', 'TR', 'ATR', 'SuperTrend_Up', 'SuperTrend_Down', 'Trend',\n",
      "       'Buy_Signal', 'Sell_Signal'],\n",
      "      dtype='object')\n"
     ]
    },
    {
     "name": "stderr",
     "output_type": "stream",
     "text": [
      "[*********************100%***********************]  1 of 1 completed\n"
     ]
    },
    {
     "name": "stdout",
     "output_type": "stream",
     "text": [
      "Index(['Open', 'High', 'Low', 'Close', 'Adj Close', 'Volume'], dtype='object')\n",
      "Index(['Open', 'High', 'Low', 'Close', 'Adj Close', 'Volume', 'TR1', 'TR2',\n",
      "       'TR3', 'TR', 'ATR', 'SuperTrend_Up', 'SuperTrend_Down', 'Trend',\n",
      "       'Buy_Signal', 'Sell_Signal'],\n",
      "      dtype='object')\n"
     ]
    },
    {
     "name": "stderr",
     "output_type": "stream",
     "text": [
      "[*********************100%***********************]  1 of 1 completed\n",
      "[*********************100%***********************]  1 of 1 completed\n"
     ]
    },
    {
     "name": "stdout",
     "output_type": "stream",
     "text": [
      "Index(['Open', 'High', 'Low', 'Close', 'Adj Close', 'Volume'], dtype='object')\n",
      "Index(['Open', 'High', 'Low', 'Close', 'Adj Close', 'Volume', 'TR1', 'TR2',\n",
      "       'TR3', 'TR', 'ATR', 'SuperTrend_Up', 'SuperTrend_Down', 'Trend',\n",
      "       'Buy_Signal', 'Sell_Signal'],\n",
      "      dtype='object')\n",
      "Index(['Open', 'High', 'Low', 'Close', 'Adj Close', 'Volume'], dtype='object')\n"
     ]
    },
    {
     "name": "stderr",
     "output_type": "stream",
     "text": [
      "[*********************100%***********************]  1 of 1 completed\n"
     ]
    },
    {
     "name": "stdout",
     "output_type": "stream",
     "text": [
      "Index(['Open', 'High', 'Low', 'Close', 'Adj Close', 'Volume', 'TR1', 'TR2',\n",
      "       'TR3', 'TR', 'ATR', 'SuperTrend_Up', 'SuperTrend_Down', 'Trend',\n",
      "       'Buy_Signal', 'Sell_Signal'],\n",
      "      dtype='object')\n",
      "Index(['Open', 'High', 'Low', 'Close', 'Adj Close', 'Volume'], dtype='object')\n",
      "Index(['Open', 'High', 'Low', 'Close', 'Adj Close', 'Volume', 'TR1', 'TR2',\n",
      "       'TR3', 'TR', 'ATR', 'SuperTrend_Up', 'SuperTrend_Down', 'Trend',\n",
      "       'Buy_Signal', 'Sell_Signal'],\n",
      "      dtype='object')\n"
     ]
    },
    {
     "name": "stderr",
     "output_type": "stream",
     "text": [
      "[*********************100%***********************]  1 of 1 completed\n"
     ]
    },
    {
     "name": "stdout",
     "output_type": "stream",
     "text": [
      "Index(['Open', 'High', 'Low', 'Close', 'Adj Close', 'Volume'], dtype='object')\n",
      "Index(['Open', 'High', 'Low', 'Close', 'Adj Close', 'Volume', 'TR1', 'TR2',\n",
      "       'TR3', 'TR', 'ATR', 'SuperTrend_Up', 'SuperTrend_Down', 'Trend',\n",
      "       'Buy_Signal', 'Sell_Signal'],\n",
      "      dtype='object')\n"
     ]
    },
    {
     "name": "stderr",
     "output_type": "stream",
     "text": [
      "[*********************100%***********************]  1 of 1 completed\n",
      "[*********************100%***********************]  1 of 1 completed\n"
     ]
    },
    {
     "name": "stdout",
     "output_type": "stream",
     "text": [
      "Index(['Open', 'High', 'Low', 'Close', 'Adj Close', 'Volume'], dtype='object')\n",
      "Index(['Open', 'High', 'Low', 'Close', 'Adj Close', 'Volume', 'TR1', 'TR2',\n",
      "       'TR3', 'TR', 'ATR', 'SuperTrend_Up', 'SuperTrend_Down', 'Trend',\n",
      "       'Buy_Signal', 'Sell_Signal'],\n",
      "      dtype='object')\n",
      "Index(['Open', 'High', 'Low', 'Close', 'Adj Close', 'Volume'], dtype='object')\n"
     ]
    },
    {
     "name": "stderr",
     "output_type": "stream",
     "text": [
      "[*********************100%***********************]  1 of 1 completed\n"
     ]
    },
    {
     "name": "stdout",
     "output_type": "stream",
     "text": [
      "Index(['Open', 'High', 'Low', 'Close', 'Adj Close', 'Volume', 'TR1', 'TR2',\n",
      "       'TR3', 'TR', 'ATR', 'SuperTrend_Up', 'SuperTrend_Down', 'Trend',\n",
      "       'Buy_Signal', 'Sell_Signal'],\n",
      "      dtype='object')\n",
      "Index(['Open', 'High', 'Low', 'Close', 'Adj Close', 'Volume'], dtype='object')\n",
      "Index(['Open', 'High', 'Low', 'Close', 'Adj Close', 'Volume', 'TR1', 'TR2',\n",
      "       'TR3', 'TR', 'ATR', 'SuperTrend_Up', 'SuperTrend_Down', 'Trend',\n",
      "       'Buy_Signal', 'Sell_Signal'],\n",
      "      dtype='object')\n"
     ]
    },
    {
     "name": "stderr",
     "output_type": "stream",
     "text": [
      "[*********************100%***********************]  1 of 1 completed\n"
     ]
    },
    {
     "name": "stdout",
     "output_type": "stream",
     "text": [
      "Index(['Open', 'High', 'Low', 'Close', 'Adj Close', 'Volume'], dtype='object')\n",
      "Index(['Open', 'High', 'Low', 'Close', 'Adj Close', 'Volume', 'TR1', 'TR2',\n",
      "       'TR3', 'TR', 'ATR', 'SuperTrend_Up', 'SuperTrend_Down', 'Trend',\n",
      "       'Buy_Signal', 'Sell_Signal'],\n",
      "      dtype='object')\n"
     ]
    },
    {
     "name": "stderr",
     "output_type": "stream",
     "text": [
      "[*********************100%***********************]  1 of 1 completed\n",
      "[*********************100%***********************]  1 of 1 completed"
     ]
    },
    {
     "name": "stdout",
     "output_type": "stream",
     "text": [
      "Index(['Open', 'High', 'Low', 'Close', 'Adj Close', 'Volume'], dtype='object')\n",
      "Index(['Open', 'High', 'Low', 'Close', 'Adj Close', 'Volume', 'TR1', 'TR2',\n",
      "       'TR3', 'TR', 'ATR', 'SuperTrend_Up', 'SuperTrend_Down', 'Trend',\n",
      "       'Buy_Signal', 'Sell_Signal'],\n",
      "      dtype='object')\n"
     ]
    },
    {
     "name": "stderr",
     "output_type": "stream",
     "text": [
      "\n",
      "[*********************100%***********************]  1 of 1 completed\n"
     ]
    },
    {
     "name": "stdout",
     "output_type": "stream",
     "text": [
      "Index(['Open', 'High', 'Low', 'Close', 'Adj Close', 'Volume'], dtype='object')\n",
      "Index(['Open', 'High', 'Low', 'Close', 'Adj Close', 'Volume', 'TR1', 'TR2',\n",
      "       'TR3', 'TR', 'ATR', 'SuperTrend_Up', 'SuperTrend_Down', 'Trend',\n",
      "       'Buy_Signal', 'Sell_Signal'],\n",
      "      dtype='object')\n",
      "Index(['Open', 'High', 'Low', 'Close', 'Adj Close', 'Volume'], dtype='object')\n",
      "Index(['Open', 'High', 'Low', 'Close', 'Adj Close', 'Volume', 'TR1', 'TR2',\n",
      "       'TR3', 'TR', 'ATR', 'SuperTrend_Up', 'SuperTrend_Down', 'Trend',\n",
      "       'Buy_Signal', 'Sell_Signal'],\n",
      "      dtype='object')\n"
     ]
    },
    {
     "name": "stderr",
     "output_type": "stream",
     "text": [
      "[*********************100%***********************]  1 of 1 completed\n",
      "[*********************100%***********************]  1 of 1 completed\n"
     ]
    },
    {
     "name": "stdout",
     "output_type": "stream",
     "text": [
      "Index(['Open', 'High', 'Low', 'Close', 'Adj Close', 'Volume'], dtype='object')\n",
      "Index(['Open', 'High', 'Low', 'Close', 'Adj Close', 'Volume', 'TR1', 'TR2',\n",
      "       'TR3', 'TR', 'ATR', 'SuperTrend_Up', 'SuperTrend_Down', 'Trend',\n",
      "       'Buy_Signal', 'Sell_Signal'],\n",
      "      dtype='object')\n",
      "Index(['Open', 'High', 'Low', 'Close', 'Adj Close', 'Volume'], dtype='object')\n"
     ]
    },
    {
     "name": "stderr",
     "output_type": "stream",
     "text": [
      "[*********************100%***********************]  1 of 1 completed\n"
     ]
    },
    {
     "name": "stdout",
     "output_type": "stream",
     "text": [
      "Index(['Open', 'High', 'Low', 'Close', 'Adj Close', 'Volume', 'TR1', 'TR2',\n",
      "       'TR3', 'TR', 'ATR', 'SuperTrend_Up', 'SuperTrend_Down', 'Trend',\n",
      "       'Buy_Signal', 'Sell_Signal'],\n",
      "      dtype='object')\n",
      "Index(['Open', 'High', 'Low', 'Close', 'Adj Close', 'Volume'], dtype='object')\n"
     ]
    },
    {
     "name": "stderr",
     "output_type": "stream",
     "text": [
      "[*********************100%***********************]  1 of 1 completed"
     ]
    },
    {
     "name": "stdout",
     "output_type": "stream",
     "text": [
      "Index(['Open', 'High', 'Low', 'Close', 'Adj Close', 'Volume', 'TR1', 'TR2',\n",
      "       'TR3', 'TR', 'ATR', 'SuperTrend_Up', 'SuperTrend_Down', 'Trend',\n",
      "       'Buy_Signal', 'Sell_Signal'],\n",
      "      dtype='object')\n",
      "Index(['Open', 'High', 'Low', 'Close', 'Adj Close', 'Volume'], dtype='object')\n",
      "Index(['Open', 'High', 'Low', 'Close', 'Adj Close', 'Volume', 'TR1', 'TR2',\n",
      "       'TR3', 'TR', 'ATR', 'SuperTrend_Up', 'SuperTrend_Down', 'Trend',\n",
      "       'Buy_Signal', 'Sell_Signal'],\n",
      "      dtype='object')\n"
     ]
    },
    {
     "name": "stderr",
     "output_type": "stream",
     "text": [
      "\n",
      "[*********************100%***********************]  1 of 1 completed\n",
      "[*********************100%***********************]  1 of 1 completed\n"
     ]
    },
    {
     "name": "stdout",
     "output_type": "stream",
     "text": [
      "Index(['Open', 'High', 'Low', 'Close', 'Adj Close', 'Volume'], dtype='object')\n",
      "Index(['Open', 'High', 'Low', 'Close', 'Adj Close', 'Volume', 'TR1', 'TR2',\n",
      "       'TR3', 'TR', 'ATR', 'SuperTrend_Up', 'SuperTrend_Down', 'Trend',\n",
      "       'Buy_Signal', 'Sell_Signal'],\n",
      "      dtype='object')\n",
      "Index(['Open', 'High', 'Low', 'Close', 'Adj Close', 'Volume'], dtype='object')\n"
     ]
    },
    {
     "name": "stderr",
     "output_type": "stream",
     "text": [
      "[*********************100%***********************]  1 of 1 completed\n"
     ]
    },
    {
     "name": "stdout",
     "output_type": "stream",
     "text": [
      "Index(['Open', 'High', 'Low', 'Close', 'Adj Close', 'Volume', 'TR1', 'TR2',\n",
      "       'TR3', 'TR', 'ATR', 'SuperTrend_Up', 'SuperTrend_Down', 'Trend',\n",
      "       'Buy_Signal', 'Sell_Signal'],\n",
      "      dtype='object')\n",
      "Index(['Open', 'High', 'Low', 'Close', 'Adj Close', 'Volume'], dtype='object')\n",
      "Index(['Open', 'High', 'Low', 'Close', 'Adj Close', 'Volume', 'TR1', 'TR2',\n",
      "       'TR3', 'TR', 'ATR', 'SuperTrend_Up', 'SuperTrend_Down', 'Trend',\n",
      "       'Buy_Signal', 'Sell_Signal'],\n",
      "      dtype='object')\n"
     ]
    },
    {
     "name": "stderr",
     "output_type": "stream",
     "text": [
      "[*********************100%***********************]  1 of 1 completed\n",
      "[*********************100%***********************]  1 of 1 completed\n"
     ]
    },
    {
     "name": "stdout",
     "output_type": "stream",
     "text": [
      "Index(['Open', 'High', 'Low', 'Close', 'Adj Close', 'Volume'], dtype='object')\n",
      "Index(['Open', 'High', 'Low', 'Close', 'Adj Close', 'Volume', 'TR1', 'TR2',\n",
      "       'TR3', 'TR', 'ATR', 'SuperTrend_Up', 'SuperTrend_Down', 'Trend',\n",
      "       'Buy_Signal', 'Sell_Signal'],\n",
      "      dtype='object')\n",
      "Index(['Open', 'High', 'Low', 'Close', 'Adj Close', 'Volume'], dtype='object')\n",
      "Index(['Open', 'High', 'Low', 'Close', 'Adj Close', 'Volume', 'TR1', 'TR2',\n",
      "       'TR3', 'TR', 'ATR', 'SuperTrend_Up', 'SuperTrend_Down', 'Trend',\n",
      "       'Buy_Signal', 'Sell_Signal'],\n",
      "      dtype='object')\n"
     ]
    },
    {
     "name": "stderr",
     "output_type": "stream",
     "text": [
      "[*********************100%***********************]  1 of 1 completed\n",
      "[*********************100%***********************]  1 of 1 completed\n"
     ]
    },
    {
     "name": "stdout",
     "output_type": "stream",
     "text": [
      "Index(['Open', 'High', 'Low', 'Close', 'Adj Close', 'Volume'], dtype='object')\n",
      "Index(['Open', 'High', 'Low', 'Close', 'Adj Close', 'Volume', 'TR1', 'TR2',\n",
      "       'TR3', 'TR', 'ATR', 'SuperTrend_Up', 'SuperTrend_Down', 'Trend',\n",
      "       'Buy_Signal', 'Sell_Signal'],\n",
      "      dtype='object')\n",
      "Index(['Open', 'High', 'Low', 'Close', 'Adj Close', 'Volume'], dtype='object')\n"
     ]
    },
    {
     "name": "stderr",
     "output_type": "stream",
     "text": [
      "[*********************100%***********************]  1 of 1 completed\n"
     ]
    },
    {
     "name": "stdout",
     "output_type": "stream",
     "text": [
      "Index(['Open', 'High', 'Low', 'Close', 'Adj Close', 'Volume', 'TR1', 'TR2',\n",
      "       'TR3', 'TR', 'ATR', 'SuperTrend_Up', 'SuperTrend_Down', 'Trend',\n",
      "       'Buy_Signal', 'Sell_Signal'],\n",
      "      dtype='object')\n",
      "Index(['Open', 'High', 'Low', 'Close', 'Adj Close', 'Volume'], dtype='object')\n",
      "Index(['Open', 'High', 'Low', 'Close', 'Adj Close', 'Volume', 'TR1', 'TR2',\n",
      "       'TR3', 'TR', 'ATR', 'SuperTrend_Up', 'SuperTrend_Down', 'Trend',\n",
      "       'Buy_Signal', 'Sell_Signal'],\n",
      "      dtype='object')\n"
     ]
    },
    {
     "name": "stderr",
     "output_type": "stream",
     "text": [
      "[*********************100%***********************]  1 of 1 completed\n"
     ]
    },
    {
     "name": "stdout",
     "output_type": "stream",
     "text": [
      "Index(['Open', 'High', 'Low', 'Close', 'Adj Close', 'Volume'], dtype='object')\n",
      "Index(['Open', 'High', 'Low', 'Close', 'Adj Close', 'Volume', 'TR1', 'TR2',\n",
      "       'TR3', 'TR', 'ATR', 'SuperTrend_Up', 'SuperTrend_Down', 'Trend',\n",
      "       'Buy_Signal', 'Sell_Signal'],\n",
      "      dtype='object')\n"
     ]
    },
    {
     "name": "stderr",
     "output_type": "stream",
     "text": [
      "[*********************100%***********************]  1 of 1 completed\n"
     ]
    },
    {
     "name": "stdout",
     "output_type": "stream",
     "text": [
      "Index(['Open', 'High', 'Low', 'Close', 'Adj Close', 'Volume'], dtype='object')\n",
      "Index(['Open', 'High', 'Low', 'Close', 'Adj Close', 'Volume', 'TR1', 'TR2',\n",
      "       'TR3', 'TR', 'ATR', 'SuperTrend_Up', 'SuperTrend_Down', 'Trend',\n",
      "       'Buy_Signal', 'Sell_Signal'],\n",
      "      dtype='object')\n"
     ]
    },
    {
     "name": "stderr",
     "output_type": "stream",
     "text": [
      "[*********************100%***********************]  1 of 1 completed\n",
      "[*********************100%***********************]  1 of 1 completed\n"
     ]
    },
    {
     "name": "stdout",
     "output_type": "stream",
     "text": [
      "Index(['Open', 'High', 'Low', 'Close', 'Adj Close', 'Volume'], dtype='object')\n",
      "Index(['Open', 'High', 'Low', 'Close', 'Adj Close', 'Volume', 'TR1', 'TR2',\n",
      "       'TR3', 'TR', 'ATR', 'SuperTrend_Up', 'SuperTrend_Down', 'Trend',\n",
      "       'Buy_Signal', 'Sell_Signal'],\n",
      "      dtype='object')\n",
      "Index(['Open', 'High', 'Low', 'Close', 'Adj Close', 'Volume'], dtype='object')\n"
     ]
    },
    {
     "name": "stderr",
     "output_type": "stream",
     "text": [
      "[*********************100%***********************]  1 of 1 completed\n"
     ]
    },
    {
     "name": "stdout",
     "output_type": "stream",
     "text": [
      "Index(['Open', 'High', 'Low', 'Close', 'Adj Close', 'Volume', 'TR1', 'TR2',\n",
      "       'TR3', 'TR', 'ATR', 'SuperTrend_Up', 'SuperTrend_Down', 'Trend',\n",
      "       'Buy_Signal', 'Sell_Signal'],\n",
      "      dtype='object')\n",
      "Index(['Open', 'High', 'Low', 'Close', 'Adj Close', 'Volume'], dtype='object')\n",
      "Index(['Open', 'High', 'Low', 'Close', 'Adj Close', 'Volume', 'TR1', 'TR2',\n",
      "       'TR3', 'TR', 'ATR', 'SuperTrend_Up', 'SuperTrend_Down', 'Trend',\n",
      "       'Buy_Signal', 'Sell_Signal'],\n",
      "      dtype='object')\n"
     ]
    },
    {
     "name": "stderr",
     "output_type": "stream",
     "text": [
      "[*********************100%***********************]  1 of 1 completed\n",
      "[*********************100%***********************]  1 of 1 completed\n"
     ]
    },
    {
     "name": "stdout",
     "output_type": "stream",
     "text": [
      "Index(['Open', 'High', 'Low', 'Close', 'Adj Close', 'Volume'], dtype='object')\n",
      "Index(['Open', 'High', 'Low', 'Close', 'Adj Close', 'Volume', 'TR1', 'TR2',\n",
      "       'TR3', 'TR', 'ATR', 'SuperTrend_Up', 'SuperTrend_Down', 'Trend',\n",
      "       'Buy_Signal', 'Sell_Signal'],\n",
      "      dtype='object')\n",
      "Index(['Open', 'High', 'Low', 'Close', 'Adj Close', 'Volume'], dtype='object')\n"
     ]
    },
    {
     "name": "stderr",
     "output_type": "stream",
     "text": [
      "[*********************100%***********************]  1 of 1 completed\n"
     ]
    },
    {
     "name": "stdout",
     "output_type": "stream",
     "text": [
      "Index(['Open', 'High', 'Low', 'Close', 'Adj Close', 'Volume', 'TR1', 'TR2',\n",
      "       'TR3', 'TR', 'ATR', 'SuperTrend_Up', 'SuperTrend_Down', 'Trend',\n",
      "       'Buy_Signal', 'Sell_Signal'],\n",
      "      dtype='object')\n",
      "Index(['Open', 'High', 'Low', 'Close', 'Adj Close', 'Volume'], dtype='object')\n",
      "Index(['Open', 'High', 'Low', 'Close', 'Adj Close', 'Volume', 'TR1', 'TR2',\n",
      "       'TR3', 'TR', 'ATR', 'SuperTrend_Up', 'SuperTrend_Down', 'Trend',\n",
      "       'Buy_Signal', 'Sell_Signal'],\n",
      "      dtype='object')\n"
     ]
    },
    {
     "name": "stderr",
     "output_type": "stream",
     "text": [
      "[*********************100%***********************]  1 of 1 completed\n",
      "[*********************100%***********************]  1 of 1 completed\n"
     ]
    },
    {
     "name": "stdout",
     "output_type": "stream",
     "text": [
      "Index(['Open', 'High', 'Low', 'Close', 'Adj Close', 'Volume'], dtype='object')\n",
      "Index(['Open', 'High', 'Low', 'Close', 'Adj Close', 'Volume', 'TR1', 'TR2',\n",
      "       'TR3', 'TR', 'ATR', 'SuperTrend_Up', 'SuperTrend_Down', 'Trend',\n",
      "       'Buy_Signal', 'Sell_Signal'],\n",
      "      dtype='object')\n",
      "Index(['Open', 'High', 'Low', 'Close', 'Adj Close', 'Volume'], dtype='object')\n"
     ]
    },
    {
     "name": "stderr",
     "output_type": "stream",
     "text": [
      "[*********************100%***********************]  1 of 1 completed\n"
     ]
    },
    {
     "name": "stdout",
     "output_type": "stream",
     "text": [
      "Index(['Open', 'High', 'Low', 'Close', 'Adj Close', 'Volume', 'TR1', 'TR2',\n",
      "       'TR3', 'TR', 'ATR', 'SuperTrend_Up', 'SuperTrend_Down', 'Trend',\n",
      "       'Buy_Signal', 'Sell_Signal'],\n",
      "      dtype='object')\n",
      "Index(['Open', 'High', 'Low', 'Close', 'Adj Close', 'Volume'], dtype='object')\n",
      "Index(['Open', 'High', 'Low', 'Close', 'Adj Close', 'Volume', 'TR1', 'TR2',\n",
      "       'TR3', 'TR', 'ATR', 'SuperTrend_Up', 'SuperTrend_Down', 'Trend',\n",
      "       'Buy_Signal', 'Sell_Signal'],\n",
      "      dtype='object')\n"
     ]
    },
    {
     "name": "stderr",
     "output_type": "stream",
     "text": [
      "[*********************100%***********************]  1 of 1 completed\n"
     ]
    },
    {
     "name": "stdout",
     "output_type": "stream",
     "text": [
      "Index(['Open', 'High', 'Low', 'Close', 'Adj Close', 'Volume'], dtype='object')\n",
      "Index(['Open', 'High', 'Low', 'Close', 'Adj Close', 'Volume', 'TR1', 'TR2',\n",
      "       'TR3', 'TR', 'ATR', 'SuperTrend_Up', 'SuperTrend_Down', 'Trend',\n",
      "       'Buy_Signal', 'Sell_Signal'],\n",
      "      dtype='object')\n"
     ]
    },
    {
     "name": "stderr",
     "output_type": "stream",
     "text": [
      "[*********************100%***********************]  1 of 1 completed\n",
      "[*********************100%***********************]  1 of 1 completed\n",
      "\n",
      "1 Failed download:\n",
      "['GRDN']: YFInvalidPeriodError(\"%ticker%: Period '1y' is invalid, must be one of ['1d', '5d', '1mo', '3mo', 'ytd', 'max']\")\n"
     ]
    },
    {
     "name": "stdout",
     "output_type": "stream",
     "text": [
      "Index(['Open', 'High', 'Low', 'Close', 'Adj Close', 'Volume'], dtype='object')\n",
      "Index(['Open', 'High', 'Low', 'Close', 'Adj Close', 'Volume', 'TR1', 'TR2',\n",
      "       'TR3', 'TR', 'ATR', 'SuperTrend_Up', 'SuperTrend_Down', 'Trend',\n",
      "       'Buy_Signal', 'Sell_Signal'],\n",
      "      dtype='object')\n",
      "Index(['Open', 'High', 'Low', 'Close', 'Adj Close', 'Volume'], dtype='object')\n",
      "Error processing GRDN: iloc cannot enlarge its target object\n"
     ]
    },
    {
     "name": "stderr",
     "output_type": "stream",
     "text": [
      "[*********************100%***********************]  1 of 1 completed\n",
      "[*********************100%***********************]  1 of 1 completed\n"
     ]
    },
    {
     "name": "stdout",
     "output_type": "stream",
     "text": [
      "Index(['Open', 'High', 'Low', 'Close', 'Adj Close', 'Volume'], dtype='object')\n",
      "Index(['Open', 'High', 'Low', 'Close', 'Adj Close', 'Volume', 'TR1', 'TR2',\n",
      "       'TR3', 'TR', 'ATR', 'SuperTrend_Up', 'SuperTrend_Down', 'Trend',\n",
      "       'Buy_Signal', 'Sell_Signal'],\n",
      "      dtype='object')\n",
      "Index(['Open', 'High', 'Low', 'Close', 'Adj Close', 'Volume'], dtype='object')\n"
     ]
    },
    {
     "name": "stderr",
     "output_type": "stream",
     "text": [
      "[*********************100%***********************]  1 of 1 completed\n"
     ]
    },
    {
     "name": "stdout",
     "output_type": "stream",
     "text": [
      "Index(['Open', 'High', 'Low', 'Close', 'Adj Close', 'Volume', 'TR1', 'TR2',\n",
      "       'TR3', 'TR', 'ATR', 'SuperTrend_Up', 'SuperTrend_Down', 'Trend',\n",
      "       'Buy_Signal', 'Sell_Signal'],\n",
      "      dtype='object')\n",
      "Index(['Open', 'High', 'Low', 'Close', 'Adj Close', 'Volume'], dtype='object')\n",
      "Index(['Open', 'High', 'Low', 'Close', 'Adj Close', 'Volume', 'TR1', 'TR2',\n",
      "       'TR3', 'TR', 'ATR', 'SuperTrend_Up', 'SuperTrend_Down', 'Trend',\n",
      "       'Buy_Signal', 'Sell_Signal'],\n",
      "      dtype='object')\n"
     ]
    },
    {
     "name": "stderr",
     "output_type": "stream",
     "text": [
      "[*********************100%***********************]  1 of 1 completed\n"
     ]
    },
    {
     "name": "stdout",
     "output_type": "stream",
     "text": [
      "Index(['Open', 'High', 'Low', 'Close', 'Adj Close', 'Volume'], dtype='object')\n",
      "Index(['Open', 'High', 'Low', 'Close', 'Adj Close', 'Volume', 'TR1', 'TR2',\n",
      "       'TR3', 'TR', 'ATR', 'SuperTrend_Up', 'SuperTrend_Down', 'Trend',\n",
      "       'Buy_Signal', 'Sell_Signal'],\n",
      "      dtype='object')\n"
     ]
    },
    {
     "name": "stderr",
     "output_type": "stream",
     "text": [
      "[*********************100%***********************]  1 of 1 completed\n"
     ]
    },
    {
     "name": "stdout",
     "output_type": "stream",
     "text": [
      "Index(['Open', 'High', 'Low', 'Close', 'Adj Close', 'Volume'], dtype='object')\n",
      "Index(['Open', 'High', 'Low', 'Close', 'Adj Close', 'Volume', 'TR1', 'TR2',\n",
      "       'TR3', 'TR', 'ATR', 'SuperTrend_Up', 'SuperTrend_Down', 'Trend',\n",
      "       'Buy_Signal', 'Sell_Signal'],\n",
      "      dtype='object')\n"
     ]
    },
    {
     "name": "stderr",
     "output_type": "stream",
     "text": [
      "[*********************100%***********************]  1 of 1 completed\n",
      "[*********************100%***********************]  1 of 1 completed\n"
     ]
    },
    {
     "name": "stdout",
     "output_type": "stream",
     "text": [
      "Index(['Open', 'High', 'Low', 'Close', 'Adj Close', 'Volume'], dtype='object')\n",
      "Index(['Open', 'High', 'Low', 'Close', 'Adj Close', 'Volume', 'TR1', 'TR2',\n",
      "       'TR3', 'TR', 'ATR', 'SuperTrend_Up', 'SuperTrend_Down', 'Trend',\n",
      "       'Buy_Signal', 'Sell_Signal'],\n",
      "      dtype='object')\n",
      "Index(['Open', 'High', 'Low', 'Close', 'Adj Close', 'Volume'], dtype='object')\n"
     ]
    },
    {
     "name": "stderr",
     "output_type": "stream",
     "text": [
      "[*********************100%***********************]  1 of 1 completed\n"
     ]
    },
    {
     "name": "stdout",
     "output_type": "stream",
     "text": [
      "Index(['Open', 'High', 'Low', 'Close', 'Adj Close', 'Volume', 'TR1', 'TR2',\n",
      "       'TR3', 'TR', 'ATR', 'SuperTrend_Up', 'SuperTrend_Down', 'Trend',\n",
      "       'Buy_Signal', 'Sell_Signal'],\n",
      "      dtype='object')\n",
      "Index(['Open', 'High', 'Low', 'Close', 'Adj Close', 'Volume'], dtype='object')\n",
      "Index(['Open', 'High', 'Low', 'Close', 'Adj Close', 'Volume', 'TR1', 'TR2',\n",
      "       'TR3', 'TR', 'ATR', 'SuperTrend_Up', 'SuperTrend_Down', 'Trend',\n",
      "       'Buy_Signal', 'Sell_Signal'],\n",
      "      dtype='object')\n"
     ]
    },
    {
     "name": "stderr",
     "output_type": "stream",
     "text": [
      "[*********************100%***********************]  1 of 1 completed\n"
     ]
    },
    {
     "name": "stdout",
     "output_type": "stream",
     "text": [
      "Index(['Open', 'High', 'Low', 'Close', 'Adj Close', 'Volume'], dtype='object')\n",
      "Index(['Open', 'High', 'Low', 'Close', 'Adj Close', 'Volume', 'TR1', 'TR2',\n",
      "       'TR3', 'TR', 'ATR', 'SuperTrend_Up', 'SuperTrend_Down', 'Trend',\n",
      "       'Buy_Signal', 'Sell_Signal'],\n",
      "      dtype='object')\n"
     ]
    },
    {
     "name": "stderr",
     "output_type": "stream",
     "text": [
      "[*********************100%***********************]  1 of 1 completed\n",
      "[*********************100%***********************]  1 of 1 completed\n"
     ]
    },
    {
     "name": "stdout",
     "output_type": "stream",
     "text": [
      "Index(['Open', 'High', 'Low', 'Close', 'Adj Close', 'Volume'], dtype='object')\n",
      "Index(['Open', 'High', 'Low', 'Close', 'Adj Close', 'Volume', 'TR1', 'TR2',\n",
      "       'TR3', 'TR', 'ATR', 'SuperTrend_Up', 'SuperTrend_Down', 'Trend',\n",
      "       'Buy_Signal', 'Sell_Signal'],\n",
      "      dtype='object')\n",
      "Index(['Open', 'High', 'Low', 'Close', 'Adj Close', 'Volume'], dtype='object')\n"
     ]
    },
    {
     "name": "stderr",
     "output_type": "stream",
     "text": [
      "[*********************100%***********************]  1 of 1 completed\n"
     ]
    },
    {
     "name": "stdout",
     "output_type": "stream",
     "text": [
      "Index(['Open', 'High', 'Low', 'Close', 'Adj Close', 'Volume', 'TR1', 'TR2',\n",
      "       'TR3', 'TR', 'ATR', 'SuperTrend_Up', 'SuperTrend_Down', 'Trend',\n",
      "       'Buy_Signal', 'Sell_Signal'],\n",
      "      dtype='object')\n",
      "Index(['Open', 'High', 'Low', 'Close', 'Adj Close', 'Volume'], dtype='object')\n",
      "Index(['Open', 'High', 'Low', 'Close', 'Adj Close', 'Volume', 'TR1', 'TR2',\n",
      "       'TR3', 'TR', 'ATR', 'SuperTrend_Up', 'SuperTrend_Down', 'Trend',\n",
      "       'Buy_Signal', 'Sell_Signal'],\n",
      "      dtype='object')\n"
     ]
    },
    {
     "name": "stderr",
     "output_type": "stream",
     "text": [
      "[*********************100%***********************]  1 of 1 completed\n"
     ]
    },
    {
     "name": "stdout",
     "output_type": "stream",
     "text": [
      "Index(['Open', 'High', 'Low', 'Close', 'Adj Close', 'Volume'], dtype='object')\n",
      "Index(['Open', 'High', 'Low', 'Close', 'Adj Close', 'Volume', 'TR1', 'TR2',\n",
      "       'TR3', 'TR', 'ATR', 'SuperTrend_Up', 'SuperTrend_Down', 'Trend',\n",
      "       'Buy_Signal', 'Sell_Signal'],\n",
      "      dtype='object')\n"
     ]
    },
    {
     "name": "stderr",
     "output_type": "stream",
     "text": [
      "[*********************100%***********************]  1 of 1 completed\n"
     ]
    },
    {
     "name": "stdout",
     "output_type": "stream",
     "text": [
      "Index(['Open', 'High', 'Low', 'Close', 'Adj Close', 'Volume'], dtype='object')\n",
      "Index(['Open', 'High', 'Low', 'Close', 'Adj Close', 'Volume', 'TR1', 'TR2',\n",
      "       'TR3', 'TR', 'ATR', 'SuperTrend_Up', 'SuperTrend_Down', 'Trend',\n",
      "       'Buy_Signal', 'Sell_Signal'],\n",
      "      dtype='object')\n"
     ]
    },
    {
     "name": "stderr",
     "output_type": "stream",
     "text": [
      "[*********************100%***********************]  1 of 1 completed\n"
     ]
    },
    {
     "name": "stdout",
     "output_type": "stream",
     "text": [
      "Index(['Open', 'High', 'Low', 'Close', 'Adj Close', 'Volume'], dtype='object')\n",
      "Index(['Open', 'High', 'Low', 'Close', 'Adj Close', 'Volume', 'TR1', 'TR2',\n",
      "       'TR3', 'TR', 'ATR', 'SuperTrend_Up', 'SuperTrend_Down', 'Trend',\n",
      "       'Buy_Signal', 'Sell_Signal'],\n",
      "      dtype='object')\n"
     ]
    },
    {
     "name": "stderr",
     "output_type": "stream",
     "text": [
      "[*********************100%***********************]  1 of 1 completed\n",
      "[*********************100%***********************]  1 of 1 completed\n"
     ]
    },
    {
     "name": "stdout",
     "output_type": "stream",
     "text": [
      "Index(['Open', 'High', 'Low', 'Close', 'Adj Close', 'Volume'], dtype='object')\n",
      "Index(['Open', 'High', 'Low', 'Close', 'Adj Close', 'Volume', 'TR1', 'TR2',\n",
      "       'TR3', 'TR', 'ATR', 'SuperTrend_Up', 'SuperTrend_Down', 'Trend',\n",
      "       'Buy_Signal', 'Sell_Signal'],\n",
      "      dtype='object')\n",
      "Index(['Open', 'High', 'Low', 'Close', 'Adj Close', 'Volume'], dtype='object')\n",
      "Index(['Open', 'High', 'Low', 'Close', 'Adj Close', 'Volume', 'TR1', 'TR2',\n",
      "       'TR3', 'TR', 'ATR', 'SuperTrend_Up', 'SuperTrend_Down', 'Trend',\n",
      "       'Buy_Signal', 'Sell_Signal'],\n",
      "      dtype='object')\n"
     ]
    },
    {
     "name": "stderr",
     "output_type": "stream",
     "text": [
      "[*********************100%***********************]  1 of 1 completed\n"
     ]
    },
    {
     "name": "stdout",
     "output_type": "stream",
     "text": [
      "Index(['Open', 'High', 'Low', 'Close', 'Adj Close', 'Volume'], dtype='object')\n",
      "Index(['Open', 'High', 'Low', 'Close', 'Adj Close', 'Volume', 'TR1', 'TR2',\n",
      "       'TR3', 'TR', 'ATR', 'SuperTrend_Up', 'SuperTrend_Down', 'Trend',\n",
      "       'Buy_Signal', 'Sell_Signal'],\n",
      "      dtype='object')\n"
     ]
    },
    {
     "name": "stderr",
     "output_type": "stream",
     "text": [
      "[*********************100%***********************]  1 of 1 completed\n",
      "[*********************100%***********************]  1 of 1 completed\n"
     ]
    },
    {
     "name": "stdout",
     "output_type": "stream",
     "text": [
      "Index(['Open', 'High', 'Low', 'Close', 'Adj Close', 'Volume'], dtype='object')\n",
      "Index(['Open', 'High', 'Low', 'Close', 'Adj Close', 'Volume', 'TR1', 'TR2',\n",
      "       'TR3', 'TR', 'ATR', 'SuperTrend_Up', 'SuperTrend_Down', 'Trend',\n",
      "       'Buy_Signal', 'Sell_Signal'],\n",
      "      dtype='object')\n",
      "Index(['Open', 'High', 'Low', 'Close', 'Adj Close', 'Volume'], dtype='object')\n"
     ]
    },
    {
     "name": "stderr",
     "output_type": "stream",
     "text": [
      "[*********************100%***********************]  1 of 1 completed"
     ]
    },
    {
     "name": "stdout",
     "output_type": "stream",
     "text": [
      "Index(['Open', 'High', 'Low', 'Close', 'Adj Close', 'Volume', 'TR1', 'TR2',\n",
      "       'TR3', 'TR', 'ATR', 'SuperTrend_Up', 'SuperTrend_Down', 'Trend',\n",
      "       'Buy_Signal', 'Sell_Signal'],\n",
      "      dtype='object')\n",
      "Index(['Open', 'High', 'Low', 'Close', 'Adj Close', 'Volume'], dtype='object')\n",
      "Index(['Open', 'High', 'Low', 'Close', 'Adj Close', 'Volume', 'TR1', 'TR2',\n",
      "       'TR3', 'TR', 'ATR', 'SuperTrend_Up', 'SuperTrend_Down', 'Trend',\n",
      "       'Buy_Signal', 'Sell_Signal'],\n",
      "      dtype='object')\n"
     ]
    },
    {
     "name": "stderr",
     "output_type": "stream",
     "text": [
      "\n",
      "[*********************100%***********************]  1 of 1 completed\n",
      "[*********************100%***********************]  1 of 1 completed\n"
     ]
    },
    {
     "name": "stdout",
     "output_type": "stream",
     "text": [
      "Index(['Open', 'High', 'Low', 'Close', 'Adj Close', 'Volume'], dtype='object')\n",
      "Index(['Open', 'High', 'Low', 'Close', 'Adj Close', 'Volume', 'TR1', 'TR2',\n",
      "       'TR3', 'TR', 'ATR', 'SuperTrend_Up', 'SuperTrend_Down', 'Trend',\n",
      "       'Buy_Signal', 'Sell_Signal'],\n",
      "      dtype='object')\n",
      "Index(['Open', 'High', 'Low', 'Close', 'Adj Close', 'Volume'], dtype='object')\n"
     ]
    },
    {
     "name": "stderr",
     "output_type": "stream",
     "text": [
      "[*********************100%***********************]  1 of 1 completed"
     ]
    },
    {
     "name": "stdout",
     "output_type": "stream",
     "text": [
      "Index(['Open', 'High', 'Low', 'Close', 'Adj Close', 'Volume', 'TR1', 'TR2',\n",
      "       'TR3', 'TR', 'ATR', 'SuperTrend_Up', 'SuperTrend_Down', 'Trend',\n",
      "       'Buy_Signal', 'Sell_Signal'],\n",
      "      dtype='object')\n",
      "Index(['Open', 'High', 'Low', 'Close', 'Adj Close', 'Volume'], dtype='object')\n"
     ]
    },
    {
     "name": "stderr",
     "output_type": "stream",
     "text": [
      "\n",
      "[*********************100%***********************]  1 of 1 completed\n"
     ]
    },
    {
     "name": "stdout",
     "output_type": "stream",
     "text": [
      "Index(['Open', 'High', 'Low', 'Close', 'Adj Close', 'Volume', 'TR1', 'TR2',\n",
      "       'TR3', 'TR', 'ATR', 'SuperTrend_Up', 'SuperTrend_Down', 'Trend',\n",
      "       'Buy_Signal', 'Sell_Signal'],\n",
      "      dtype='object')\n",
      "Index(['Open', 'High', 'Low', 'Close', 'Adj Close', 'Volume'], dtype='object')\n",
      "Index(['Open', 'High', 'Low', 'Close', 'Adj Close', 'Volume', 'TR1', 'TR2',\n",
      "       'TR3', 'TR', 'ATR', 'SuperTrend_Up', 'SuperTrend_Down', 'Trend',\n",
      "       'Buy_Signal', 'Sell_Signal'],\n",
      "      dtype='object')\n"
     ]
    },
    {
     "name": "stderr",
     "output_type": "stream",
     "text": [
      "[*********************100%***********************]  1 of 1 completed\n",
      "[*********************100%***********************]  1 of 1 completed\n"
     ]
    },
    {
     "name": "stdout",
     "output_type": "stream",
     "text": [
      "Index(['Open', 'High', 'Low', 'Close', 'Adj Close', 'Volume'], dtype='object')\n",
      "Index(['Open', 'High', 'Low', 'Close', 'Adj Close', 'Volume', 'TR1', 'TR2',\n",
      "       'TR3', 'TR', 'ATR', 'SuperTrend_Up', 'SuperTrend_Down', 'Trend',\n",
      "       'Buy_Signal', 'Sell_Signal'],\n",
      "      dtype='object')\n",
      "Index(['Open', 'High', 'Low', 'Close', 'Adj Close', 'Volume'], dtype='object')\n"
     ]
    },
    {
     "name": "stderr",
     "output_type": "stream",
     "text": [
      "[*********************100%***********************]  1 of 1 completed"
     ]
    },
    {
     "name": "stdout",
     "output_type": "stream",
     "text": [
      "Index(['Open', 'High', 'Low', 'Close', 'Adj Close', 'Volume', 'TR1', 'TR2',\n",
      "       'TR3', 'TR', 'ATR', 'SuperTrend_Up', 'SuperTrend_Down', 'Trend',\n",
      "       'Buy_Signal', 'Sell_Signal'],\n",
      "      dtype='object')\n",
      "Index(['Open', 'High', 'Low', 'Close', 'Adj Close', 'Volume'], dtype='object')\n"
     ]
    },
    {
     "name": "stderr",
     "output_type": "stream",
     "text": [
      "\n"
     ]
    },
    {
     "name": "stdout",
     "output_type": "stream",
     "text": [
      "Index(['Open', 'High', 'Low', 'Close', 'Adj Close', 'Volume', 'TR1', 'TR2',\n",
      "       'TR3', 'TR', 'ATR', 'SuperTrend_Up', 'SuperTrend_Down', 'Trend',\n",
      "       'Buy_Signal', 'Sell_Signal'],\n",
      "      dtype='object')\n"
     ]
    },
    {
     "name": "stderr",
     "output_type": "stream",
     "text": [
      "[*********************100%***********************]  1 of 1 completed\n"
     ]
    },
    {
     "name": "stdout",
     "output_type": "stream",
     "text": [
      "Index(['Open', 'High', 'Low', 'Close', 'Adj Close', 'Volume'], dtype='object')\n",
      "Index(['Open', 'High', 'Low', 'Close', 'Adj Close', 'Volume', 'TR1', 'TR2',\n",
      "       'TR3', 'TR', 'ATR', 'SuperTrend_Up', 'SuperTrend_Down', 'Trend',\n",
      "       'Buy_Signal', 'Sell_Signal'],\n",
      "      dtype='object')\n"
     ]
    },
    {
     "name": "stderr",
     "output_type": "stream",
     "text": [
      "[*********************100%***********************]  1 of 1 completed\n",
      "[*********************100%***********************]  1 of 1 completed\n"
     ]
    },
    {
     "name": "stdout",
     "output_type": "stream",
     "text": [
      "Index(['Open', 'High', 'Low', 'Close', 'Adj Close', 'Volume'], dtype='object')\n",
      "Index(['Open', 'High', 'Low', 'Close', 'Adj Close', 'Volume', 'TR1', 'TR2',\n",
      "       'TR3', 'TR', 'ATR', 'SuperTrend_Up', 'SuperTrend_Down', 'Trend',\n",
      "       'Buy_Signal', 'Sell_Signal'],\n",
      "      dtype='object')\n",
      "Index(['Open', 'High', 'Low', 'Close', 'Adj Close', 'Volume'], dtype='object')\n"
     ]
    },
    {
     "name": "stderr",
     "output_type": "stream",
     "text": [
      "[*********************100%***********************]  1 of 1 completed\n"
     ]
    },
    {
     "name": "stdout",
     "output_type": "stream",
     "text": [
      "Index(['Open', 'High', 'Low', 'Close', 'Adj Close', 'Volume', 'TR1', 'TR2',\n",
      "       'TR3', 'TR', 'ATR', 'SuperTrend_Up', 'SuperTrend_Down', 'Trend',\n",
      "       'Buy_Signal', 'Sell_Signal'],\n",
      "      dtype='object')\n",
      "Index(['Open', 'High', 'Low', 'Close', 'Adj Close', 'Volume'], dtype='object')\n",
      "Index(['Open', 'High', 'Low', 'Close', 'Adj Close', 'Volume', 'TR1', 'TR2',\n",
      "       'TR3', 'TR', 'ATR', 'SuperTrend_Up', 'SuperTrend_Down', 'Trend',\n",
      "       'Buy_Signal', 'Sell_Signal'],\n",
      "      dtype='object')\n"
     ]
    },
    {
     "name": "stderr",
     "output_type": "stream",
     "text": [
      "[*********************100%***********************]  1 of 1 completed\n"
     ]
    },
    {
     "name": "stdout",
     "output_type": "stream",
     "text": [
      "Index(['Open', 'High', 'Low', 'Close', 'Adj Close', 'Volume'], dtype='object')\n",
      "Index(['Open', 'High', 'Low', 'Close', 'Adj Close', 'Volume', 'TR1', 'TR2',\n",
      "       'TR3', 'TR', 'ATR', 'SuperTrend_Up', 'SuperTrend_Down', 'Trend',\n",
      "       'Buy_Signal', 'Sell_Signal'],\n",
      "      dtype='object')\n"
     ]
    },
    {
     "name": "stderr",
     "output_type": "stream",
     "text": [
      "[*********************100%***********************]  1 of 1 completed\n",
      "[*********************100%***********************]  1 of 1 completed\n"
     ]
    },
    {
     "name": "stdout",
     "output_type": "stream",
     "text": [
      "Index(['Open', 'High', 'Low', 'Close', 'Adj Close', 'Volume'], dtype='object')\n",
      "Index(['Open', 'High', 'Low', 'Close', 'Adj Close', 'Volume', 'TR1', 'TR2',\n",
      "       'TR3', 'TR', 'ATR', 'SuperTrend_Up', 'SuperTrend_Down', 'Trend',\n",
      "       'Buy_Signal', 'Sell_Signal'],\n",
      "      dtype='object')\n",
      "Index(['Open', 'High', 'Low', 'Close', 'Adj Close', 'Volume'], dtype='object')\n"
     ]
    },
    {
     "name": "stderr",
     "output_type": "stream",
     "text": [
      "[*********************100%***********************]  1 of 1 completed\n"
     ]
    },
    {
     "name": "stdout",
     "output_type": "stream",
     "text": [
      "Index(['Open', 'High', 'Low', 'Close', 'Adj Close', 'Volume', 'TR1', 'TR2',\n",
      "       'TR3', 'TR', 'ATR', 'SuperTrend_Up', 'SuperTrend_Down', 'Trend',\n",
      "       'Buy_Signal', 'Sell_Signal'],\n",
      "      dtype='object')\n",
      "Index(['Open', 'High', 'Low', 'Close', 'Adj Close', 'Volume'], dtype='object')\n",
      "Index(['Open', 'High', 'Low', 'Close', 'Adj Close', 'Volume', 'TR1', 'TR2',\n",
      "       'TR3', 'TR', 'ATR', 'SuperTrend_Up', 'SuperTrend_Down', 'Trend',\n",
      "       'Buy_Signal', 'Sell_Signal'],\n",
      "      dtype='object')\n"
     ]
    },
    {
     "name": "stderr",
     "output_type": "stream",
     "text": [
      "[*********************100%***********************]  1 of 1 completed\n",
      "[*********************100%***********************]  1 of 1 completed\n"
     ]
    },
    {
     "name": "stdout",
     "output_type": "stream",
     "text": [
      "Index(['Open', 'High', 'Low', 'Close', 'Adj Close', 'Volume'], dtype='object')\n",
      "Index(['Open', 'High', 'Low', 'Close', 'Adj Close', 'Volume', 'TR1', 'TR2',\n",
      "       'TR3', 'TR', 'ATR', 'SuperTrend_Up', 'SuperTrend_Down', 'Trend',\n",
      "       'Buy_Signal', 'Sell_Signal'],\n",
      "      dtype='object')\n",
      "Index(['Open', 'High', 'Low', 'Close', 'Adj Close', 'Volume'], dtype='object')\n"
     ]
    },
    {
     "name": "stderr",
     "output_type": "stream",
     "text": [
      "[*********************100%***********************]  1 of 1 completed"
     ]
    },
    {
     "name": "stdout",
     "output_type": "stream",
     "text": [
      "Index(['Open', 'High', 'Low', 'Close', 'Adj Close', 'Volume', 'TR1', 'TR2',\n",
      "       'TR3', 'TR', 'ATR', 'SuperTrend_Up', 'SuperTrend_Down', 'Trend',\n",
      "       'Buy_Signal', 'Sell_Signal'],\n",
      "      dtype='object')\n",
      "Index(['Open', 'High', 'Low', 'Close', 'Adj Close', 'Volume'], dtype='object')\n",
      "Index(['Open', 'High', 'Low', 'Close', 'Adj Close', 'Volume', 'TR1', 'TR2',\n",
      "       'TR3', 'TR', 'ATR', 'SuperTrend_Up', 'SuperTrend_Down', 'Trend',\n",
      "       'Buy_Signal', 'Sell_Signal'],\n",
      "      dtype='object')\n"
     ]
    },
    {
     "name": "stderr",
     "output_type": "stream",
     "text": [
      "\n",
      "[*********************100%***********************]  1 of 1 completed\n",
      "[*********************100%***********************]  1 of 1 completed\n"
     ]
    },
    {
     "name": "stdout",
     "output_type": "stream",
     "text": [
      "Index(['Open', 'High', 'Low', 'Close', 'Adj Close', 'Volume'], dtype='object')\n",
      "Index(['Open', 'High', 'Low', 'Close', 'Adj Close', 'Volume', 'TR1', 'TR2',\n",
      "       'TR3', 'TR', 'ATR', 'SuperTrend_Up', 'SuperTrend_Down', 'Trend',\n",
      "       'Buy_Signal', 'Sell_Signal'],\n",
      "      dtype='object')\n",
      "Index(['Open', 'High', 'Low', 'Close', 'Adj Close', 'Volume'], dtype='object')\n",
      "Index(['Open', 'High', 'Low', 'Close', 'Adj Close', 'Volume', 'TR1', 'TR2',\n",
      "       'TR3', 'TR', 'ATR', 'SuperTrend_Up', 'SuperTrend_Down', 'Trend',\n",
      "       'Buy_Signal', 'Sell_Signal'],\n",
      "      dtype='object')\n"
     ]
    },
    {
     "name": "stderr",
     "output_type": "stream",
     "text": [
      "[*********************100%***********************]  1 of 1 completed\n",
      "[*********************100%***********************]  1 of 1 completed\n"
     ]
    },
    {
     "name": "stdout",
     "output_type": "stream",
     "text": [
      "Index(['Open', 'High', 'Low', 'Close', 'Adj Close', 'Volume'], dtype='object')\n",
      "Index(['Open', 'High', 'Low', 'Close', 'Adj Close', 'Volume', 'TR1', 'TR2',\n",
      "       'TR3', 'TR', 'ATR', 'SuperTrend_Up', 'SuperTrend_Down', 'Trend',\n",
      "       'Buy_Signal', 'Sell_Signal'],\n",
      "      dtype='object')\n",
      "Index(['Open', 'High', 'Low', 'Close', 'Adj Close', 'Volume'], dtype='object')\n"
     ]
    },
    {
     "name": "stderr",
     "output_type": "stream",
     "text": [
      "[*********************100%***********************]  1 of 1 completed\n"
     ]
    },
    {
     "name": "stdout",
     "output_type": "stream",
     "text": [
      "Index(['Open', 'High', 'Low', 'Close', 'Adj Close', 'Volume', 'TR1', 'TR2',\n",
      "       'TR3', 'TR', 'ATR', 'SuperTrend_Up', 'SuperTrend_Down', 'Trend',\n",
      "       'Buy_Signal', 'Sell_Signal'],\n",
      "      dtype='object')\n",
      "Index(['Open', 'High', 'Low', 'Close', 'Adj Close', 'Volume'], dtype='object')\n",
      "Index(['Open', 'High', 'Low', 'Close', 'Adj Close', 'Volume', 'TR1', 'TR2',\n",
      "       'TR3', 'TR', 'ATR', 'SuperTrend_Up', 'SuperTrend_Down', 'Trend',\n",
      "       'Buy_Signal', 'Sell_Signal'],\n",
      "      dtype='object')\n"
     ]
    },
    {
     "name": "stderr",
     "output_type": "stream",
     "text": [
      "[*********************100%***********************]  1 of 1 completed\n",
      "[*********************100%***********************]  1 of 1 completed\n"
     ]
    },
    {
     "name": "stdout",
     "output_type": "stream",
     "text": [
      "Index(['Open', 'High', 'Low', 'Close', 'Adj Close', 'Volume'], dtype='object')\n",
      "Index(['Open', 'High', 'Low', 'Close', 'Adj Close', 'Volume', 'TR1', 'TR2',\n",
      "       'TR3', 'TR', 'ATR', 'SuperTrend_Up', 'SuperTrend_Down', 'Trend',\n",
      "       'Buy_Signal', 'Sell_Signal'],\n",
      "      dtype='object')\n",
      "Index(['Open', 'High', 'Low', 'Close', 'Adj Close', 'Volume'], dtype='object')\n"
     ]
    },
    {
     "name": "stderr",
     "output_type": "stream",
     "text": [
      "[*********************100%***********************]  1 of 1 completed"
     ]
    },
    {
     "name": "stdout",
     "output_type": "stream",
     "text": [
      "Index(['Open', 'High', 'Low', 'Close', 'Adj Close', 'Volume', 'TR1', 'TR2',\n",
      "       'TR3', 'TR', 'ATR', 'SuperTrend_Up', 'SuperTrend_Down', 'Trend',\n",
      "       'Buy_Signal', 'Sell_Signal'],\n",
      "      dtype='object')\n",
      "Index(['Open', 'High', 'Low', 'Close', 'Adj Close', 'Volume'], dtype='object')\n"
     ]
    },
    {
     "name": "stderr",
     "output_type": "stream",
     "text": [
      "\n",
      "[*********************100%***********************]  1 of 1 completed"
     ]
    },
    {
     "name": "stdout",
     "output_type": "stream",
     "text": [
      "Index(['Open', 'High', 'Low', 'Close', 'Adj Close', 'Volume', 'TR1', 'TR2',\n",
      "       'TR3', 'TR', 'ATR', 'SuperTrend_Up', 'SuperTrend_Down', 'Trend',\n",
      "       'Buy_Signal', 'Sell_Signal'],\n",
      "      dtype='object')\n",
      "Index(['Open', 'High', 'Low', 'Close', 'Adj Close', 'Volume'], dtype='object')\n"
     ]
    },
    {
     "name": "stderr",
     "output_type": "stream",
     "text": [
      "\n",
      "[*********************100%***********************]  1 of 1 completed"
     ]
    },
    {
     "name": "stdout",
     "output_type": "stream",
     "text": [
      "Index(['Open', 'High', 'Low', 'Close', 'Adj Close', 'Volume', 'TR1', 'TR2',\n",
      "       'TR3', 'TR', 'ATR', 'SuperTrend_Up', 'SuperTrend_Down', 'Trend',\n",
      "       'Buy_Signal', 'Sell_Signal'],\n",
      "      dtype='object')\n",
      "Index(['Open', 'High', 'Low', 'Close', 'Adj Close', 'Volume'], dtype='object')\n"
     ]
    },
    {
     "name": "stderr",
     "output_type": "stream",
     "text": [
      "\n"
     ]
    },
    {
     "name": "stdout",
     "output_type": "stream",
     "text": [
      "Index(['Open', 'High', 'Low', 'Close', 'Adj Close', 'Volume', 'TR1', 'TR2',\n",
      "       'TR3', 'TR', 'ATR', 'SuperTrend_Up', 'SuperTrend_Down', 'Trend',\n",
      "       'Buy_Signal', 'Sell_Signal'],\n",
      "      dtype='object')\n"
     ]
    },
    {
     "name": "stderr",
     "output_type": "stream",
     "text": [
      "[*********************100%***********************]  1 of 1 completed\n",
      "[*********************100%***********************]  1 of 1 completed\n"
     ]
    },
    {
     "name": "stdout",
     "output_type": "stream",
     "text": [
      "Index(['Open', 'High', 'Low', 'Close', 'Adj Close', 'Volume'], dtype='object')\n",
      "Index(['Open', 'High', 'Low', 'Close', 'Adj Close', 'Volume', 'TR1', 'TR2',\n",
      "       'TR3', 'TR', 'ATR', 'SuperTrend_Up', 'SuperTrend_Down', 'Trend',\n",
      "       'Buy_Signal', 'Sell_Signal'],\n",
      "      dtype='object')\n",
      "Index(['Open', 'High', 'Low', 'Close', 'Adj Close', 'Volume'], dtype='object')\n",
      "Index(['Open', 'High', 'Low', 'Close', 'Adj Close', 'Volume', 'TR1', 'TR2',\n",
      "       'TR3', 'TR', 'ATR', 'SuperTrend_Up', 'SuperTrend_Down', 'Trend',\n",
      "       'Buy_Signal', 'Sell_Signal'],\n",
      "      dtype='object')\n"
     ]
    },
    {
     "name": "stderr",
     "output_type": "stream",
     "text": [
      "[*********************100%***********************]  1 of 1 completed\n"
     ]
    },
    {
     "name": "stdout",
     "output_type": "stream",
     "text": [
      "Index(['Open', 'High', 'Low', 'Close', 'Adj Close', 'Volume'], dtype='object')\n",
      "Index(['Open', 'High', 'Low', 'Close', 'Adj Close', 'Volume', 'TR1', 'TR2',\n",
      "       'TR3', 'TR', 'ATR', 'SuperTrend_Up', 'SuperTrend_Down', 'Trend',\n",
      "       'Buy_Signal', 'Sell_Signal'],\n",
      "      dtype='object')\n"
     ]
    },
    {
     "name": "stderr",
     "output_type": "stream",
     "text": [
      "[*********************100%***********************]  1 of 1 completed\n"
     ]
    },
    {
     "name": "stdout",
     "output_type": "stream",
     "text": [
      "Index(['Open', 'High', 'Low', 'Close', 'Adj Close', 'Volume'], dtype='object')\n",
      "Index(['Open', 'High', 'Low', 'Close', 'Adj Close', 'Volume', 'TR1', 'TR2',\n",
      "       'TR3', 'TR', 'ATR', 'SuperTrend_Up', 'SuperTrend_Down', 'Trend',\n",
      "       'Buy_Signal', 'Sell_Signal'],\n",
      "      dtype='object')\n"
     ]
    },
    {
     "name": "stderr",
     "output_type": "stream",
     "text": [
      "[*********************100%***********************]  1 of 1 completed\n"
     ]
    },
    {
     "name": "stdout",
     "output_type": "stream",
     "text": [
      "Index(['Open', 'High', 'Low', 'Close', 'Adj Close', 'Volume'], dtype='object')\n",
      "Index(['Open', 'High', 'Low', 'Close', 'Adj Close', 'Volume', 'TR1', 'TR2',\n",
      "       'TR3', 'TR', 'ATR', 'SuperTrend_Up', 'SuperTrend_Down', 'Trend',\n",
      "       'Buy_Signal', 'Sell_Signal'],\n",
      "      dtype='object')\n"
     ]
    },
    {
     "name": "stderr",
     "output_type": "stream",
     "text": [
      "[*********************100%***********************]  1 of 1 completed\n",
      "[*********************100%***********************]  1 of 1 completed\n"
     ]
    },
    {
     "name": "stdout",
     "output_type": "stream",
     "text": [
      "Index(['Open', 'High', 'Low', 'Close', 'Adj Close', 'Volume'], dtype='object')\n",
      "Index(['Open', 'High', 'Low', 'Close', 'Adj Close', 'Volume', 'TR1', 'TR2',\n",
      "       'TR3', 'TR', 'ATR', 'SuperTrend_Up', 'SuperTrend_Down', 'Trend',\n",
      "       'Buy_Signal', 'Sell_Signal'],\n",
      "      dtype='object')\n",
      "Index(['Open', 'High', 'Low', 'Close', 'Adj Close', 'Volume'], dtype='object')\n"
     ]
    },
    {
     "name": "stderr",
     "output_type": "stream",
     "text": [
      "[*********************100%***********************]  1 of 1 completed"
     ]
    },
    {
     "name": "stdout",
     "output_type": "stream",
     "text": [
      "Index(['Open', 'High', 'Low', 'Close', 'Adj Close', 'Volume', 'TR1', 'TR2',\n",
      "       'TR3', 'TR', 'ATR', 'SuperTrend_Up', 'SuperTrend_Down', 'Trend',\n",
      "       'Buy_Signal', 'Sell_Signal'],\n",
      "      dtype='object')\n",
      "Index(['Open', 'High', 'Low', 'Close', 'Adj Close', 'Volume'], dtype='object')\n"
     ]
    },
    {
     "name": "stderr",
     "output_type": "stream",
     "text": [
      "\n",
      "[*********************100%***********************]  1 of 1 completed"
     ]
    },
    {
     "name": "stdout",
     "output_type": "stream",
     "text": [
      "Index(['Open', 'High', 'Low', 'Close', 'Adj Close', 'Volume', 'TR1', 'TR2',\n",
      "       'TR3', 'TR', 'ATR', 'SuperTrend_Up', 'SuperTrend_Down', 'Trend',\n",
      "       'Buy_Signal', 'Sell_Signal'],\n",
      "      dtype='object')\n",
      "Index(['Open', 'High', 'Low', 'Close', 'Adj Close', 'Volume'], dtype='object')\n"
     ]
    },
    {
     "name": "stderr",
     "output_type": "stream",
     "text": [
      "\n",
      "[*********************100%***********************]  1 of 1 completed\n"
     ]
    },
    {
     "name": "stdout",
     "output_type": "stream",
     "text": [
      "Index(['Open', 'High', 'Low', 'Close', 'Adj Close', 'Volume', 'TR1', 'TR2',\n",
      "       'TR3', 'TR', 'ATR', 'SuperTrend_Up', 'SuperTrend_Down', 'Trend',\n",
      "       'Buy_Signal', 'Sell_Signal'],\n",
      "      dtype='object')\n",
      "Index(['Open', 'High', 'Low', 'Close', 'Adj Close', 'Volume'], dtype='object')\n",
      "Index(['Open', 'High', 'Low', 'Close', 'Adj Close', 'Volume', 'TR1', 'TR2',\n",
      "       'TR3', 'TR', 'ATR', 'SuperTrend_Up', 'SuperTrend_Down', 'Trend',\n",
      "       'Buy_Signal', 'Sell_Signal'],\n",
      "      dtype='object')\n"
     ]
    },
    {
     "name": "stderr",
     "output_type": "stream",
     "text": [
      "[*********************100%***********************]  1 of 1 completed\n",
      "[*********************100%***********************]  1 of 1 completed\n"
     ]
    },
    {
     "name": "stdout",
     "output_type": "stream",
     "text": [
      "Index(['Open', 'High', 'Low', 'Close', 'Adj Close', 'Volume'], dtype='object')\n",
      "Index(['Open', 'High', 'Low', 'Close', 'Adj Close', 'Volume', 'TR1', 'TR2',\n",
      "       'TR3', 'TR', 'ATR', 'SuperTrend_Up', 'SuperTrend_Down', 'Trend',\n",
      "       'Buy_Signal', 'Sell_Signal'],\n",
      "      dtype='object')\n",
      "Index(['Open', 'High', 'Low', 'Close', 'Adj Close', 'Volume'], dtype='object')\n"
     ]
    },
    {
     "name": "stderr",
     "output_type": "stream",
     "text": [
      "[*********************100%***********************]  1 of 1 completed\n"
     ]
    },
    {
     "name": "stdout",
     "output_type": "stream",
     "text": [
      "Index(['Open', 'High', 'Low', 'Close', 'Adj Close', 'Volume', 'TR1', 'TR2',\n",
      "       'TR3', 'TR', 'ATR', 'SuperTrend_Up', 'SuperTrend_Down', 'Trend',\n",
      "       'Buy_Signal', 'Sell_Signal'],\n",
      "      dtype='object')\n",
      "Index(['Open', 'High', 'Low', 'Close', 'Adj Close', 'Volume'], dtype='object')\n"
     ]
    },
    {
     "name": "stderr",
     "output_type": "stream",
     "text": [
      "[*********************100%***********************]  1 of 1 completed\n"
     ]
    },
    {
     "name": "stdout",
     "output_type": "stream",
     "text": [
      "Index(['Open', 'High', 'Low', 'Close', 'Adj Close', 'Volume', 'TR1', 'TR2',\n",
      "       'TR3', 'TR', 'ATR', 'SuperTrend_Up', 'SuperTrend_Down', 'Trend',\n",
      "       'Buy_Signal', 'Sell_Signal'],\n",
      "      dtype='object')\n",
      "Index(['Open', 'High', 'Low', 'Close', 'Adj Close', 'Volume'], dtype='object')\n",
      "Index(['Open', 'High', 'Low', 'Close', 'Adj Close', 'Volume', 'TR1', 'TR2',\n",
      "       'TR3', 'TR', 'ATR', 'SuperTrend_Up', 'SuperTrend_Down', 'Trend',\n",
      "       'Buy_Signal', 'Sell_Signal'],\n",
      "      dtype='object')\n"
     ]
    },
    {
     "name": "stderr",
     "output_type": "stream",
     "text": [
      "[*********************100%***********************]  1 of 1 completed\n"
     ]
    },
    {
     "name": "stdout",
     "output_type": "stream",
     "text": [
      "Index(['Open', 'High', 'Low', 'Close', 'Adj Close', 'Volume'], dtype='object')\n",
      "Index(['Open', 'High', 'Low', 'Close', 'Adj Close', 'Volume', 'TR1', 'TR2',\n",
      "       'TR3', 'TR', 'ATR', 'SuperTrend_Up', 'SuperTrend_Down', 'Trend',\n",
      "       'Buy_Signal', 'Sell_Signal'],\n",
      "      dtype='object')\n"
     ]
    },
    {
     "name": "stderr",
     "output_type": "stream",
     "text": [
      "[*********************100%***********************]  1 of 1 completed\n",
      "[*********************100%***********************]  1 of 1 completed\n"
     ]
    },
    {
     "name": "stdout",
     "output_type": "stream",
     "text": [
      "Index(['Open', 'High', 'Low', 'Close', 'Adj Close', 'Volume'], dtype='object')\n",
      "Index(['Open', 'High', 'Low', 'Close', 'Adj Close', 'Volume', 'TR1', 'TR2',\n",
      "       'TR3', 'TR', 'ATR', 'SuperTrend_Up', 'SuperTrend_Down', 'Trend',\n",
      "       'Buy_Signal', 'Sell_Signal'],\n",
      "      dtype='object')\n",
      "Index(['Open', 'High', 'Low', 'Close', 'Adj Close', 'Volume'], dtype='object')\n"
     ]
    },
    {
     "name": "stderr",
     "output_type": "stream",
     "text": [
      "[*********************100%***********************]  1 of 1 completed\n"
     ]
    },
    {
     "name": "stdout",
     "output_type": "stream",
     "text": [
      "Index(['Open', 'High', 'Low', 'Close', 'Adj Close', 'Volume', 'TR1', 'TR2',\n",
      "       'TR3', 'TR', 'ATR', 'SuperTrend_Up', 'SuperTrend_Down', 'Trend',\n",
      "       'Buy_Signal', 'Sell_Signal'],\n",
      "      dtype='object')\n",
      "Index(['Open', 'High', 'Low', 'Close', 'Adj Close', 'Volume'], dtype='object')\n",
      "Index(['Open', 'High', 'Low', 'Close', 'Adj Close', 'Volume', 'TR1', 'TR2',\n",
      "       'TR3', 'TR', 'ATR', 'SuperTrend_Up', 'SuperTrend_Down', 'Trend',\n",
      "       'Buy_Signal', 'Sell_Signal'],\n",
      "      dtype='object')\n"
     ]
    },
    {
     "name": "stderr",
     "output_type": "stream",
     "text": [
      "[*********************100%***********************]  1 of 1 completed\n",
      "[*********************100%***********************]  1 of 1 completed\n"
     ]
    },
    {
     "name": "stdout",
     "output_type": "stream",
     "text": [
      "Index(['Open', 'High', 'Low', 'Close', 'Adj Close', 'Volume'], dtype='object')\n",
      "Index(['Open', 'High', 'Low', 'Close', 'Adj Close', 'Volume', 'TR1', 'TR2',\n",
      "       'TR3', 'TR', 'ATR', 'SuperTrend_Up', 'SuperTrend_Down', 'Trend',\n",
      "       'Buy_Signal', 'Sell_Signal'],\n",
      "      dtype='object')\n",
      "Index(['Open', 'High', 'Low', 'Close', 'Adj Close', 'Volume'], dtype='object')\n"
     ]
    },
    {
     "name": "stderr",
     "output_type": "stream",
     "text": [
      "[*********************100%***********************]  1 of 1 completed"
     ]
    },
    {
     "name": "stdout",
     "output_type": "stream",
     "text": [
      "Index(['Open', 'High', 'Low', 'Close', 'Adj Close', 'Volume', 'TR1', 'TR2',\n",
      "       'TR3', 'TR', 'ATR', 'SuperTrend_Up', 'SuperTrend_Down', 'Trend',\n",
      "       'Buy_Signal', 'Sell_Signal'],\n",
      "      dtype='object')\n",
      "Index(['Open', 'High', 'Low', 'Close', 'Adj Close', 'Volume'], dtype='object')\n"
     ]
    },
    {
     "name": "stderr",
     "output_type": "stream",
     "text": [
      "\n",
      "[*********************100%***********************]  1 of 1 completed\n"
     ]
    },
    {
     "name": "stdout",
     "output_type": "stream",
     "text": [
      "Index(['Open', 'High', 'Low', 'Close', 'Adj Close', 'Volume', 'TR1', 'TR2',\n",
      "       'TR3', 'TR', 'ATR', 'SuperTrend_Up', 'SuperTrend_Down', 'Trend',\n",
      "       'Buy_Signal', 'Sell_Signal'],\n",
      "      dtype='object')\n",
      "Index(['Open', 'High', 'Low', 'Close', 'Adj Close', 'Volume'], dtype='object')\n",
      "Index(['Open', 'High', 'Low', 'Close', 'Adj Close', 'Volume', 'TR1', 'TR2',\n",
      "       'TR3', 'TR', 'ATR', 'SuperTrend_Up', 'SuperTrend_Down', 'Trend',\n",
      "       'Buy_Signal', 'Sell_Signal'],\n",
      "      dtype='object')\n"
     ]
    },
    {
     "name": "stderr",
     "output_type": "stream",
     "text": [
      "[*********************100%***********************]  1 of 1 completed\n"
     ]
    },
    {
     "name": "stdout",
     "output_type": "stream",
     "text": [
      "Index(['Open', 'High', 'Low', 'Close', 'Adj Close', 'Volume'], dtype='object')\n",
      "Index(['Open', 'High', 'Low', 'Close', 'Adj Close', 'Volume', 'TR1', 'TR2',\n",
      "       'TR3', 'TR', 'ATR', 'SuperTrend_Up', 'SuperTrend_Down', 'Trend',\n",
      "       'Buy_Signal', 'Sell_Signal'],\n",
      "      dtype='object')\n"
     ]
    },
    {
     "name": "stderr",
     "output_type": "stream",
     "text": [
      "[*********************100%***********************]  1 of 1 completed\n",
      "[*********************100%***********************]  1 of 1 completed\n"
     ]
    },
    {
     "name": "stdout",
     "output_type": "stream",
     "text": [
      "Index(['Open', 'High', 'Low', 'Close', 'Adj Close', 'Volume'], dtype='object')\n",
      "Index(['Open', 'High', 'Low', 'Close', 'Adj Close', 'Volume', 'TR1', 'TR2',\n",
      "       'TR3', 'TR', 'ATR', 'SuperTrend_Up', 'SuperTrend_Down', 'Trend',\n",
      "       'Buy_Signal', 'Sell_Signal'],\n",
      "      dtype='object')\n",
      "Index(['Open', 'High', 'Low', 'Close', 'Adj Close', 'Volume'], dtype='object')\n"
     ]
    },
    {
     "name": "stderr",
     "output_type": "stream",
     "text": [
      "[*********************100%***********************]  1 of 1 completed"
     ]
    },
    {
     "name": "stdout",
     "output_type": "stream",
     "text": [
      "Index(['Open', 'High', 'Low', 'Close', 'Adj Close', 'Volume', 'TR1', 'TR2',\n",
      "       'TR3', 'TR', 'ATR', 'SuperTrend_Up', 'SuperTrend_Down', 'Trend',\n",
      "       'Buy_Signal', 'Sell_Signal'],\n",
      "      dtype='object')\n",
      "Index(['Open', 'High', 'Low', 'Close', 'Adj Close', 'Volume'], dtype='object')\n"
     ]
    },
    {
     "name": "stderr",
     "output_type": "stream",
     "text": [
      "\n",
      "[*********************100%***********************]  1 of 1 completed\n"
     ]
    },
    {
     "name": "stdout",
     "output_type": "stream",
     "text": [
      "Index(['Open', 'High', 'Low', 'Close', 'Adj Close', 'Volume', 'TR1', 'TR2',\n",
      "       'TR3', 'TR', 'ATR', 'SuperTrend_Up', 'SuperTrend_Down', 'Trend',\n",
      "       'Buy_Signal', 'Sell_Signal'],\n",
      "      dtype='object')\n",
      "Index(['Open', 'High', 'Low', 'Close', 'Adj Close', 'Volume'], dtype='object')\n",
      "Index(['Open', 'High', 'Low', 'Close', 'Adj Close', 'Volume', 'TR1', 'TR2',\n",
      "       'TR3', 'TR', 'ATR', 'SuperTrend_Up', 'SuperTrend_Down', 'Trend',\n",
      "       'Buy_Signal', 'Sell_Signal'],\n",
      "      dtype='object')\n"
     ]
    },
    {
     "name": "stderr",
     "output_type": "stream",
     "text": [
      "[*********************100%***********************]  1 of 1 completed\n",
      "[*********************100%***********************]  1 of 1 completed\n"
     ]
    },
    {
     "name": "stdout",
     "output_type": "stream",
     "text": [
      "Index(['Open', 'High', 'Low', 'Close', 'Adj Close', 'Volume'], dtype='object')\n",
      "Index(['Open', 'High', 'Low', 'Close', 'Adj Close', 'Volume', 'TR1', 'TR2',\n",
      "       'TR3', 'TR', 'ATR', 'SuperTrend_Up', 'SuperTrend_Down', 'Trend',\n",
      "       'Buy_Signal', 'Sell_Signal'],\n",
      "      dtype='object')\n",
      "Index(['Open', 'High', 'Low', 'Close', 'Adj Close', 'Volume'], dtype='object')\n"
     ]
    },
    {
     "name": "stderr",
     "output_type": "stream",
     "text": [
      "[*********************100%***********************]  1 of 1 completed"
     ]
    },
    {
     "name": "stdout",
     "output_type": "stream",
     "text": [
      "Index(['Open', 'High', 'Low', 'Close', 'Adj Close', 'Volume', 'TR1', 'TR2',\n",
      "       'TR3', 'TR', 'ATR', 'SuperTrend_Up', 'SuperTrend_Down', 'Trend',\n",
      "       'Buy_Signal', 'Sell_Signal'],\n",
      "      dtype='object')\n",
      "Index(['Open', 'High', 'Low', 'Close', 'Adj Close', 'Volume'], dtype='object')\n"
     ]
    },
    {
     "name": "stderr",
     "output_type": "stream",
     "text": [
      "\n",
      "[*********************100%***********************]  1 of 1 completed\n"
     ]
    },
    {
     "name": "stdout",
     "output_type": "stream",
     "text": [
      "Index(['Open', 'High', 'Low', 'Close', 'Adj Close', 'Volume', 'TR1', 'TR2',\n",
      "       'TR3', 'TR', 'ATR', 'SuperTrend_Up', 'SuperTrend_Down', 'Trend',\n",
      "       'Buy_Signal', 'Sell_Signal'],\n",
      "      dtype='object')\n",
      "Index(['Open', 'High', 'Low', 'Close', 'Adj Close', 'Volume'], dtype='object')\n",
      "Index(['Open', 'High', 'Low', 'Close', 'Adj Close', 'Volume', 'TR1', 'TR2',\n",
      "       'TR3', 'TR', 'ATR', 'SuperTrend_Up', 'SuperTrend_Down', 'Trend',\n",
      "       'Buy_Signal', 'Sell_Signal'],\n",
      "      dtype='object')\n"
     ]
    },
    {
     "name": "stderr",
     "output_type": "stream",
     "text": [
      "[*********************100%***********************]  1 of 1 completed\n",
      "[*********************100%***********************]  1 of 1 completed\n"
     ]
    },
    {
     "name": "stdout",
     "output_type": "stream",
     "text": [
      "Index(['Open', 'High', 'Low', 'Close', 'Adj Close', 'Volume'], dtype='object')\n",
      "Index(['Open', 'High', 'Low', 'Close', 'Adj Close', 'Volume', 'TR1', 'TR2',\n",
      "       'TR3', 'TR', 'ATR', 'SuperTrend_Up', 'SuperTrend_Down', 'Trend',\n",
      "       'Buy_Signal', 'Sell_Signal'],\n",
      "      dtype='object')\n",
      "Index(['Open', 'High', 'Low', 'Close', 'Adj Close', 'Volume'], dtype='object')\n"
     ]
    },
    {
     "name": "stderr",
     "output_type": "stream",
     "text": [
      "[*********************100%***********************]  1 of 1 completed\n"
     ]
    },
    {
     "name": "stdout",
     "output_type": "stream",
     "text": [
      "Index(['Open', 'High', 'Low', 'Close', 'Adj Close', 'Volume', 'TR1', 'TR2',\n",
      "       'TR3', 'TR', 'ATR', 'SuperTrend_Up', 'SuperTrend_Down', 'Trend',\n",
      "       'Buy_Signal', 'Sell_Signal'],\n",
      "      dtype='object')\n",
      "Index(['Open', 'High', 'Low', 'Close', 'Adj Close', 'Volume'], dtype='object')\n",
      "Index(['Open', 'High', 'Low', 'Close', 'Adj Close', 'Volume', 'TR1', 'TR2',\n",
      "       'TR3', 'TR', 'ATR', 'SuperTrend_Up', 'SuperTrend_Down', 'Trend',\n",
      "       'Buy_Signal', 'Sell_Signal'],\n",
      "      dtype='object')\n"
     ]
    },
    {
     "name": "stderr",
     "output_type": "stream",
     "text": [
      "[*********************100%***********************]  1 of 1 completed\n",
      "[*********************100%***********************]  1 of 1 completed\n"
     ]
    },
    {
     "name": "stdout",
     "output_type": "stream",
     "text": [
      "Index(['Open', 'High', 'Low', 'Close', 'Adj Close', 'Volume'], dtype='object')\n",
      "Index(['Open', 'High', 'Low', 'Close', 'Adj Close', 'Volume', 'TR1', 'TR2',\n",
      "       'TR3', 'TR', 'ATR', 'SuperTrend_Up', 'SuperTrend_Down', 'Trend',\n",
      "       'Buy_Signal', 'Sell_Signal'],\n",
      "      dtype='object')\n",
      "Index(['Open', 'High', 'Low', 'Close', 'Adj Close', 'Volume'], dtype='object')\n"
     ]
    },
    {
     "name": "stderr",
     "output_type": "stream",
     "text": [
      "[*********************100%***********************]  1 of 1 completed"
     ]
    },
    {
     "name": "stdout",
     "output_type": "stream",
     "text": [
      "Index(['Open', 'High', 'Low', 'Close', 'Adj Close', 'Volume', 'TR1', 'TR2',\n",
      "       'TR3', 'TR', 'ATR', 'SuperTrend_Up', 'SuperTrend_Down', 'Trend',\n",
      "       'Buy_Signal', 'Sell_Signal'],\n",
      "      dtype='object')\n",
      "Index(['Open', 'High', 'Low', 'Close', 'Adj Close', 'Volume'], dtype='object')\n"
     ]
    },
    {
     "name": "stderr",
     "output_type": "stream",
     "text": [
      "\n"
     ]
    },
    {
     "name": "stdout",
     "output_type": "stream",
     "text": [
      "Index(['Open', 'High', 'Low', 'Close', 'Adj Close', 'Volume', 'TR1', 'TR2',\n",
      "       'TR3', 'TR', 'ATR', 'SuperTrend_Up', 'SuperTrend_Down', 'Trend',\n",
      "       'Buy_Signal', 'Sell_Signal'],\n",
      "      dtype='object')\n"
     ]
    },
    {
     "name": "stderr",
     "output_type": "stream",
     "text": [
      "[*********************100%***********************]  1 of 1 completed\n",
      "[*********************100%***********************]  1 of 1 completed\n"
     ]
    },
    {
     "name": "stdout",
     "output_type": "stream",
     "text": [
      "Index(['Open', 'High', 'Low', 'Close', 'Adj Close', 'Volume'], dtype='object')\n",
      "Index(['Open', 'High', 'Low', 'Close', 'Adj Close', 'Volume', 'TR1', 'TR2',\n",
      "       'TR3', 'TR', 'ATR', 'SuperTrend_Up', 'SuperTrend_Down', 'Trend',\n",
      "       'Buy_Signal', 'Sell_Signal'],\n",
      "      dtype='object')\n",
      "Index(['Open', 'High', 'Low', 'Close', 'Adj Close', 'Volume'], dtype='object')\n"
     ]
    },
    {
     "name": "stderr",
     "output_type": "stream",
     "text": [
      "[*********************100%***********************]  1 of 1 completed\n"
     ]
    },
    {
     "name": "stdout",
     "output_type": "stream",
     "text": [
      "Index(['Open', 'High', 'Low', 'Close', 'Adj Close', 'Volume', 'TR1', 'TR2',\n",
      "       'TR3', 'TR', 'ATR', 'SuperTrend_Up', 'SuperTrend_Down', 'Trend',\n",
      "       'Buy_Signal', 'Sell_Signal'],\n",
      "      dtype='object')\n",
      "Index(['Open', 'High', 'Low', 'Close', 'Adj Close', 'Volume'], dtype='object')\n",
      "Index(['Open', 'High', 'Low', 'Close', 'Adj Close', 'Volume', 'TR1', 'TR2',\n",
      "       'TR3', 'TR', 'ATR', 'SuperTrend_Up', 'SuperTrend_Down', 'Trend',\n",
      "       'Buy_Signal', 'Sell_Signal'],\n",
      "      dtype='object')\n"
     ]
    },
    {
     "name": "stderr",
     "output_type": "stream",
     "text": [
      "[*********************100%***********************]  1 of 1 completed\n"
     ]
    },
    {
     "name": "stdout",
     "output_type": "stream",
     "text": [
      "Index(['Open', 'High', 'Low', 'Close', 'Adj Close', 'Volume'], dtype='object')\n",
      "Index(['Open', 'High', 'Low', 'Close', 'Adj Close', 'Volume', 'TR1', 'TR2',\n",
      "       'TR3', 'TR', 'ATR', 'SuperTrend_Up', 'SuperTrend_Down', 'Trend',\n",
      "       'Buy_Signal', 'Sell_Signal'],\n",
      "      dtype='object')\n"
     ]
    },
    {
     "name": "stderr",
     "output_type": "stream",
     "text": [
      "[*********************100%***********************]  1 of 1 completed\n",
      "[*********************100%***********************]  1 of 1 completed\n"
     ]
    },
    {
     "name": "stdout",
     "output_type": "stream",
     "text": [
      "Index(['Open', 'High', 'Low', 'Close', 'Adj Close', 'Volume'], dtype='object')\n",
      "Index(['Open', 'High', 'Low', 'Close', 'Adj Close', 'Volume', 'TR1', 'TR2',\n",
      "       'TR3', 'TR', 'ATR', 'SuperTrend_Up', 'SuperTrend_Down', 'Trend',\n",
      "       'Buy_Signal', 'Sell_Signal'],\n",
      "      dtype='object')\n",
      "Index(['Open', 'High', 'Low', 'Close', 'Adj Close', 'Volume'], dtype='object')\n"
     ]
    },
    {
     "name": "stderr",
     "output_type": "stream",
     "text": [
      "[*********************100%***********************]  1 of 1 completed\n"
     ]
    },
    {
     "name": "stdout",
     "output_type": "stream",
     "text": [
      "Index(['Open', 'High', 'Low', 'Close', 'Adj Close', 'Volume', 'TR1', 'TR2',\n",
      "       'TR3', 'TR', 'ATR', 'SuperTrend_Up', 'SuperTrend_Down', 'Trend',\n",
      "       'Buy_Signal', 'Sell_Signal'],\n",
      "      dtype='object')\n",
      "Index(['Open', 'High', 'Low', 'Close', 'Adj Close', 'Volume'], dtype='object')\n",
      "Index(['Open', 'High', 'Low', 'Close', 'Adj Close', 'Volume', 'TR1', 'TR2',\n",
      "       'TR3', 'TR', 'ATR', 'SuperTrend_Up', 'SuperTrend_Down', 'Trend',\n",
      "       'Buy_Signal', 'Sell_Signal'],\n",
      "      dtype='object')\n"
     ]
    },
    {
     "name": "stderr",
     "output_type": "stream",
     "text": [
      "[*********************100%***********************]  1 of 1 completed\n"
     ]
    },
    {
     "name": "stdout",
     "output_type": "stream",
     "text": [
      "Index(['Open', 'High', 'Low', 'Close', 'Adj Close', 'Volume'], dtype='object')\n",
      "Index(['Open', 'High', 'Low', 'Close', 'Adj Close', 'Volume', 'TR1', 'TR2',\n",
      "       'TR3', 'TR', 'ATR', 'SuperTrend_Up', 'SuperTrend_Down', 'Trend',\n",
      "       'Buy_Signal', 'Sell_Signal'],\n",
      "      dtype='object')\n"
     ]
    },
    {
     "name": "stderr",
     "output_type": "stream",
     "text": [
      "[*********************100%***********************]  1 of 1 completed\n",
      "[*********************100%***********************]  1 of 1 completed\n"
     ]
    },
    {
     "name": "stdout",
     "output_type": "stream",
     "text": [
      "Index(['Open', 'High', 'Low', 'Close', 'Adj Close', 'Volume'], dtype='object')\n",
      "Index(['Open', 'High', 'Low', 'Close', 'Adj Close', 'Volume', 'TR1', 'TR2',\n",
      "       'TR3', 'TR', 'ATR', 'SuperTrend_Up', 'SuperTrend_Down', 'Trend',\n",
      "       'Buy_Signal', 'Sell_Signal'],\n",
      "      dtype='object')\n",
      "Index(['Open', 'High', 'Low', 'Close', 'Adj Close', 'Volume'], dtype='object')\n"
     ]
    },
    {
     "name": "stderr",
     "output_type": "stream",
     "text": [
      "[*********************100%***********************]  1 of 1 completed"
     ]
    },
    {
     "name": "stdout",
     "output_type": "stream",
     "text": [
      "Index(['Open', 'High', 'Low', 'Close', 'Adj Close', 'Volume', 'TR1', 'TR2',\n",
      "       'TR3', 'TR', 'ATR', 'SuperTrend_Up', 'SuperTrend_Down', 'Trend',\n",
      "       'Buy_Signal', 'Sell_Signal'],\n",
      "      dtype='object')\n",
      "Index(['Open', 'High', 'Low', 'Close', 'Adj Close', 'Volume'], dtype='object')\n"
     ]
    },
    {
     "name": "stderr",
     "output_type": "stream",
     "text": [
      "\n"
     ]
    },
    {
     "name": "stdout",
     "output_type": "stream",
     "text": [
      "Index(['Open', 'High', 'Low', 'Close', 'Adj Close', 'Volume', 'TR1', 'TR2',\n",
      "       'TR3', 'TR', 'ATR', 'SuperTrend_Up', 'SuperTrend_Down', 'Trend',\n",
      "       'Buy_Signal', 'Sell_Signal'],\n",
      "      dtype='object')\n"
     ]
    },
    {
     "name": "stderr",
     "output_type": "stream",
     "text": [
      "[*********************100%***********************]  1 of 1 completed\n",
      "[*********************100%***********************]  1 of 1 completed\n"
     ]
    },
    {
     "name": "stdout",
     "output_type": "stream",
     "text": [
      "Index(['Open', 'High', 'Low', 'Close', 'Adj Close', 'Volume'], dtype='object')\n",
      "Index(['Open', 'High', 'Low', 'Close', 'Adj Close', 'Volume', 'TR1', 'TR2',\n",
      "       'TR3', 'TR', 'ATR', 'SuperTrend_Up', 'SuperTrend_Down', 'Trend',\n",
      "       'Buy_Signal', 'Sell_Signal'],\n",
      "      dtype='object')\n",
      "Index(['Open', 'High', 'Low', 'Close', 'Adj Close', 'Volume'], dtype='object')\n"
     ]
    },
    {
     "name": "stderr",
     "output_type": "stream",
     "text": [
      "[*********************100%***********************]  1 of 1 completed\n"
     ]
    },
    {
     "name": "stdout",
     "output_type": "stream",
     "text": [
      "Index(['Open', 'High', 'Low', 'Close', 'Adj Close', 'Volume', 'TR1', 'TR2',\n",
      "       'TR3', 'TR', 'ATR', 'SuperTrend_Up', 'SuperTrend_Down', 'Trend',\n",
      "       'Buy_Signal', 'Sell_Signal'],\n",
      "      dtype='object')\n",
      "Index(['Open', 'High', 'Low', 'Close', 'Adj Close', 'Volume'], dtype='object')\n"
     ]
    },
    {
     "name": "stderr",
     "output_type": "stream",
     "text": [
      "[*********************100%***********************]  1 of 1 completed\n"
     ]
    },
    {
     "name": "stdout",
     "output_type": "stream",
     "text": [
      "Index(['Open', 'High', 'Low', 'Close', 'Adj Close', 'Volume', 'TR1', 'TR2',\n",
      "       'TR3', 'TR', 'ATR', 'SuperTrend_Up', 'SuperTrend_Down', 'Trend',\n",
      "       'Buy_Signal', 'Sell_Signal'],\n",
      "      dtype='object')\n",
      "Index(['Open', 'High', 'Low', 'Close', 'Adj Close', 'Volume'], dtype='object')\n",
      "Index(['Open', 'High', 'Low', 'Close', 'Adj Close', 'Volume', 'TR1', 'TR2',\n",
      "       'TR3', 'TR', 'ATR', 'SuperTrend_Up', 'SuperTrend_Down', 'Trend',\n",
      "       'Buy_Signal', 'Sell_Signal'],\n",
      "      dtype='object')\n"
     ]
    },
    {
     "name": "stderr",
     "output_type": "stream",
     "text": [
      "[*********************100%***********************]  1 of 1 completed\n"
     ]
    },
    {
     "name": "stdout",
     "output_type": "stream",
     "text": [
      "Index(['Open', 'High', 'Low', 'Close', 'Adj Close', 'Volume'], dtype='object')\n",
      "Index(['Open', 'High', 'Low', 'Close', 'Adj Close', 'Volume', 'TR1', 'TR2',\n",
      "       'TR3', 'TR', 'ATR', 'SuperTrend_Up', 'SuperTrend_Down', 'Trend',\n",
      "       'Buy_Signal', 'Sell_Signal'],\n",
      "      dtype='object')\n"
     ]
    },
    {
     "name": "stderr",
     "output_type": "stream",
     "text": [
      "[*********************100%***********************]  1 of 1 completed\n"
     ]
    },
    {
     "name": "stdout",
     "output_type": "stream",
     "text": [
      "Index(['Open', 'High', 'Low', 'Close', 'Adj Close', 'Volume'], dtype='object')\n",
      "Index(['Open', 'High', 'Low', 'Close', 'Adj Close', 'Volume', 'TR1', 'TR2',\n",
      "       'TR3', 'TR', 'ATR', 'SuperTrend_Up', 'SuperTrend_Down', 'Trend',\n",
      "       'Buy_Signal', 'Sell_Signal'],\n",
      "      dtype='object')\n"
     ]
    },
    {
     "name": "stderr",
     "output_type": "stream",
     "text": [
      "[*********************100%***********************]  1 of 1 completed\n",
      "[*********************100%***********************]  1 of 1 completed"
     ]
    },
    {
     "name": "stdout",
     "output_type": "stream",
     "text": [
      "Index(['Open', 'High', 'Low', 'Close', 'Adj Close', 'Volume'], dtype='object')\n",
      "Index(['Open', 'High', 'Low', 'Close', 'Adj Close', 'Volume', 'TR1', 'TR2',\n",
      "       'TR3', 'TR', 'ATR', 'SuperTrend_Up', 'SuperTrend_Down', 'Trend',\n",
      "       'Buy_Signal', 'Sell_Signal'],\n",
      "      dtype='object')\n"
     ]
    },
    {
     "name": "stderr",
     "output_type": "stream",
     "text": [
      "\n",
      "[*********************100%***********************]  1 of 1 completed"
     ]
    },
    {
     "name": "stdout",
     "output_type": "stream",
     "text": [
      "Index(['Open', 'High', 'Low', 'Close', 'Adj Close', 'Volume'], dtype='object')\n",
      "Index(['Open', 'High', 'Low', 'Close', 'Adj Close', 'Volume', 'TR1', 'TR2',\n",
      "       'TR3', 'TR', 'ATR', 'SuperTrend_Up', 'SuperTrend_Down', 'Trend',\n",
      "       'Buy_Signal', 'Sell_Signal'],\n",
      "      dtype='object')\n"
     ]
    },
    {
     "name": "stderr",
     "output_type": "stream",
     "text": [
      "\n"
     ]
    },
    {
     "name": "stdout",
     "output_type": "stream",
     "text": [
      "Index(['Open', 'High', 'Low', 'Close', 'Adj Close', 'Volume'], dtype='object')\n",
      "Index(['Open', 'High', 'Low', 'Close', 'Adj Close', 'Volume', 'TR1', 'TR2',\n",
      "       'TR3', 'TR', 'ATR', 'SuperTrend_Up', 'SuperTrend_Down', 'Trend',\n",
      "       'Buy_Signal', 'Sell_Signal'],\n",
      "      dtype='object')\n"
     ]
    },
    {
     "name": "stderr",
     "output_type": "stream",
     "text": [
      "[*********************100%***********************]  1 of 1 completed\n",
      "[*********************100%***********************]  1 of 1 completed\n"
     ]
    },
    {
     "name": "stdout",
     "output_type": "stream",
     "text": [
      "Index(['Open', 'High', 'Low', 'Close', 'Adj Close', 'Volume'], dtype='object')\n",
      "Index(['Open', 'High', 'Low', 'Close', 'Adj Close', 'Volume', 'TR1', 'TR2',\n",
      "       'TR3', 'TR', 'ATR', 'SuperTrend_Up', 'SuperTrend_Down', 'Trend',\n",
      "       'Buy_Signal', 'Sell_Signal'],\n",
      "      dtype='object')\n",
      "Index(['Open', 'High', 'Low', 'Close', 'Adj Close', 'Volume'], dtype='object')\n"
     ]
    },
    {
     "name": "stderr",
     "output_type": "stream",
     "text": [
      "[*********************100%***********************]  1 of 1 completed\n"
     ]
    },
    {
     "name": "stdout",
     "output_type": "stream",
     "text": [
      "Index(['Open', 'High', 'Low', 'Close', 'Adj Close', 'Volume', 'TR1', 'TR2',\n",
      "       'TR3', 'TR', 'ATR', 'SuperTrend_Up', 'SuperTrend_Down', 'Trend',\n",
      "       'Buy_Signal', 'Sell_Signal'],\n",
      "      dtype='object')\n",
      "Index(['Open', 'High', 'Low', 'Close', 'Adj Close', 'Volume'], dtype='object')\n",
      "Index(['Open', 'High', 'Low', 'Close', 'Adj Close', 'Volume', 'TR1', 'TR2',\n",
      "       'TR3', 'TR', 'ATR', 'SuperTrend_Up', 'SuperTrend_Down', 'Trend',\n",
      "       'Buy_Signal', 'Sell_Signal'],\n",
      "      dtype='object')\n"
     ]
    },
    {
     "name": "stderr",
     "output_type": "stream",
     "text": [
      "[*********************100%***********************]  1 of 1 completed\n",
      "[*********************100%***********************]  1 of 1 completed\n"
     ]
    },
    {
     "name": "stdout",
     "output_type": "stream",
     "text": [
      "Index(['Open', 'High', 'Low', 'Close', 'Adj Close', 'Volume'], dtype='object')\n",
      "Index(['Open', 'High', 'Low', 'Close', 'Adj Close', 'Volume', 'TR1', 'TR2',\n",
      "       'TR3', 'TR', 'ATR', 'SuperTrend_Up', 'SuperTrend_Down', 'Trend',\n",
      "       'Buy_Signal', 'Sell_Signal'],\n",
      "      dtype='object')\n",
      "Index(['Open', 'High', 'Low', 'Close', 'Adj Close', 'Volume'], dtype='object')\n"
     ]
    },
    {
     "name": "stderr",
     "output_type": "stream",
     "text": [
      "[*********************100%***********************]  1 of 1 completed\n"
     ]
    },
    {
     "name": "stdout",
     "output_type": "stream",
     "text": [
      "Index(['Open', 'High', 'Low', 'Close', 'Adj Close', 'Volume', 'TR1', 'TR2',\n",
      "       'TR3', 'TR', 'ATR', 'SuperTrend_Up', 'SuperTrend_Down', 'Trend',\n",
      "       'Buy_Signal', 'Sell_Signal'],\n",
      "      dtype='object')\n",
      "Index(['Open', 'High', 'Low', 'Close', 'Adj Close', 'Volume'], dtype='object')\n",
      "Index(['Open', 'High', 'Low', 'Close', 'Adj Close', 'Volume', 'TR1', 'TR2',\n",
      "       'TR3', 'TR', 'ATR', 'SuperTrend_Up', 'SuperTrend_Down', 'Trend',\n",
      "       'Buy_Signal', 'Sell_Signal'],\n",
      "      dtype='object')\n"
     ]
    },
    {
     "name": "stderr",
     "output_type": "stream",
     "text": [
      "[*********************100%***********************]  1 of 1 completed\n",
      "[*********************100%***********************]  1 of 1 completed\n"
     ]
    },
    {
     "name": "stdout",
     "output_type": "stream",
     "text": [
      "Index(['Open', 'High', 'Low', 'Close', 'Adj Close', 'Volume'], dtype='object')\n",
      "Index(['Open', 'High', 'Low', 'Close', 'Adj Close', 'Volume', 'TR1', 'TR2',\n",
      "       'TR3', 'TR', 'ATR', 'SuperTrend_Up', 'SuperTrend_Down', 'Trend',\n",
      "       'Buy_Signal', 'Sell_Signal'],\n",
      "      dtype='object')\n",
      "Index(['Open', 'High', 'Low', 'Close', 'Adj Close', 'Volume'], dtype='object')\n",
      "Index(['Open', 'High', 'Low', 'Close', 'Adj Close', 'Volume', 'TR1', 'TR2',\n",
      "       'TR3', 'TR', 'ATR', 'SuperTrend_Up', 'SuperTrend_Down', 'Trend',\n",
      "       'Buy_Signal', 'Sell_Signal'],\n",
      "      dtype='object')\n"
     ]
    },
    {
     "name": "stderr",
     "output_type": "stream",
     "text": [
      "[*********************100%***********************]  1 of 1 completed\n"
     ]
    },
    {
     "name": "stdout",
     "output_type": "stream",
     "text": [
      "Index(['Open', 'High', 'Low', 'Close', 'Adj Close', 'Volume'], dtype='object')\n",
      "Index(['Open', 'High', 'Low', 'Close', 'Adj Close', 'Volume', 'TR1', 'TR2',\n",
      "       'TR3', 'TR', 'ATR', 'SuperTrend_Up', 'SuperTrend_Down', 'Trend',\n",
      "       'Buy_Signal', 'Sell_Signal'],\n",
      "      dtype='object')\n"
     ]
    },
    {
     "name": "stderr",
     "output_type": "stream",
     "text": [
      "[*********************100%***********************]  1 of 1 completed\n",
      "[*********************100%***********************]  1 of 1 completed\n"
     ]
    },
    {
     "name": "stdout",
     "output_type": "stream",
     "text": [
      "Index(['Open', 'High', 'Low', 'Close', 'Adj Close', 'Volume'], dtype='object')\n",
      "Index(['Open', 'High', 'Low', 'Close', 'Adj Close', 'Volume', 'TR1', 'TR2',\n",
      "       'TR3', 'TR', 'ATR', 'SuperTrend_Up', 'SuperTrend_Down', 'Trend',\n",
      "       'Buy_Signal', 'Sell_Signal'],\n",
      "      dtype='object')\n",
      "Index(['Open', 'High', 'Low', 'Close', 'Adj Close', 'Volume'], dtype='object')\n"
     ]
    },
    {
     "name": "stderr",
     "output_type": "stream",
     "text": [
      "[*********************100%***********************]  1 of 1 completed\n"
     ]
    },
    {
     "name": "stdout",
     "output_type": "stream",
     "text": [
      "Index(['Open', 'High', 'Low', 'Close', 'Adj Close', 'Volume', 'TR1', 'TR2',\n",
      "       'TR3', 'TR', 'ATR', 'SuperTrend_Up', 'SuperTrend_Down', 'Trend',\n",
      "       'Buy_Signal', 'Sell_Signal'],\n",
      "      dtype='object')\n",
      "Index(['Open', 'High', 'Low', 'Close', 'Adj Close', 'Volume'], dtype='object')\n",
      "Index(['Open', 'High', 'Low', 'Close', 'Adj Close', 'Volume', 'TR1', 'TR2',\n",
      "       'TR3', 'TR', 'ATR', 'SuperTrend_Up', 'SuperTrend_Down', 'Trend',\n",
      "       'Buy_Signal', 'Sell_Signal'],\n",
      "      dtype='object')\n"
     ]
    },
    {
     "name": "stderr",
     "output_type": "stream",
     "text": [
      "[*********************100%***********************]  1 of 1 completed\n"
     ]
    },
    {
     "name": "stdout",
     "output_type": "stream",
     "text": [
      "Index(['Open', 'High', 'Low', 'Close', 'Adj Close', 'Volume'], dtype='object')\n",
      "Index(['Open', 'High', 'Low', 'Close', 'Adj Close', 'Volume', 'TR1', 'TR2',\n",
      "       'TR3', 'TR', 'ATR', 'SuperTrend_Up', 'SuperTrend_Down', 'Trend',\n",
      "       'Buy_Signal', 'Sell_Signal'],\n",
      "      dtype='object')\n"
     ]
    },
    {
     "name": "stderr",
     "output_type": "stream",
     "text": [
      "[*********************100%***********************]  1 of 1 completed\n",
      "[*********************100%***********************]  1 of 1 completed\n"
     ]
    },
    {
     "name": "stdout",
     "output_type": "stream",
     "text": [
      "Index(['Open', 'High', 'Low', 'Close', 'Adj Close', 'Volume'], dtype='object')\n",
      "Index(['Open', 'High', 'Low', 'Close', 'Adj Close', 'Volume', 'TR1', 'TR2',\n",
      "       'TR3', 'TR', 'ATR', 'SuperTrend_Up', 'SuperTrend_Down', 'Trend',\n",
      "       'Buy_Signal', 'Sell_Signal'],\n",
      "      dtype='object')\n",
      "Index(['Open', 'High', 'Low', 'Close', 'Adj Close', 'Volume'], dtype='object')\n"
     ]
    },
    {
     "name": "stderr",
     "output_type": "stream",
     "text": [
      "[*********************100%***********************]  1 of 1 completed\n"
     ]
    },
    {
     "name": "stdout",
     "output_type": "stream",
     "text": [
      "Index(['Open', 'High', 'Low', 'Close', 'Adj Close', 'Volume', 'TR1', 'TR2',\n",
      "       'TR3', 'TR', 'ATR', 'SuperTrend_Up', 'SuperTrend_Down', 'Trend',\n",
      "       'Buy_Signal', 'Sell_Signal'],\n",
      "      dtype='object')\n",
      "Index(['Open', 'High', 'Low', 'Close', 'Adj Close', 'Volume'], dtype='object')\n",
      "Index(['Open', 'High', 'Low', 'Close', 'Adj Close', 'Volume', 'TR1', 'TR2',\n",
      "       'TR3', 'TR', 'ATR', 'SuperTrend_Up', 'SuperTrend_Down', 'Trend',\n",
      "       'Buy_Signal', 'Sell_Signal'],\n",
      "      dtype='object')\n"
     ]
    },
    {
     "name": "stderr",
     "output_type": "stream",
     "text": [
      "[*********************100%***********************]  1 of 1 completed\n"
     ]
    },
    {
     "name": "stdout",
     "output_type": "stream",
     "text": [
      "Index(['Open', 'High', 'Low', 'Close', 'Adj Close', 'Volume'], dtype='object')\n",
      "Index(['Open', 'High', 'Low', 'Close', 'Adj Close', 'Volume', 'TR1', 'TR2',\n",
      "       'TR3', 'TR', 'ATR', 'SuperTrend_Up', 'SuperTrend_Down', 'Trend',\n",
      "       'Buy_Signal', 'Sell_Signal'],\n",
      "      dtype='object')\n"
     ]
    },
    {
     "name": "stderr",
     "output_type": "stream",
     "text": [
      "[*********************100%***********************]  1 of 1 completed\n"
     ]
    },
    {
     "name": "stdout",
     "output_type": "stream",
     "text": [
      "Index(['Open', 'High', 'Low', 'Close', 'Adj Close', 'Volume'], dtype='object')\n",
      "Index(['Open', 'High', 'Low', 'Close', 'Adj Close', 'Volume', 'TR1', 'TR2',\n",
      "       'TR3', 'TR', 'ATR', 'SuperTrend_Up', 'SuperTrend_Down', 'Trend',\n",
      "       'Buy_Signal', 'Sell_Signal'],\n",
      "      dtype='object')\n"
     ]
    },
    {
     "name": "stderr",
     "output_type": "stream",
     "text": [
      "[*********************100%***********************]  1 of 1 completed\n",
      "[*********************100%***********************]  1 of 1 completed\n"
     ]
    },
    {
     "name": "stdout",
     "output_type": "stream",
     "text": [
      "Index(['Open', 'High', 'Low', 'Close', 'Adj Close', 'Volume'], dtype='object')\n",
      "Index(['Open', 'High', 'Low', 'Close', 'Adj Close', 'Volume', 'TR1', 'TR2',\n",
      "       'TR3', 'TR', 'ATR', 'SuperTrend_Up', 'SuperTrend_Down', 'Trend',\n",
      "       'Buy_Signal', 'Sell_Signal'],\n",
      "      dtype='object')\n",
      "Index(['Open', 'High', 'Low', 'Close', 'Adj Close', 'Volume'], dtype='object')\n",
      "Index(['Open', 'High', 'Low', 'Close', 'Adj Close', 'Volume', 'TR1', 'TR2',\n",
      "       'TR3', 'TR', 'ATR', 'SuperTrend_Up', 'SuperTrend_Down', 'Trend',\n",
      "       'Buy_Signal', 'Sell_Signal'],\n",
      "      dtype='object')\n"
     ]
    },
    {
     "name": "stderr",
     "output_type": "stream",
     "text": [
      "[*********************100%***********************]  1 of 1 completed\n"
     ]
    },
    {
     "name": "stdout",
     "output_type": "stream",
     "text": [
      "Index(['Open', 'High', 'Low', 'Close', 'Adj Close', 'Volume'], dtype='object')\n",
      "Index(['Open', 'High', 'Low', 'Close', 'Adj Close', 'Volume', 'TR1', 'TR2',\n",
      "       'TR3', 'TR', 'ATR', 'SuperTrend_Up', 'SuperTrend_Down', 'Trend',\n",
      "       'Buy_Signal', 'Sell_Signal'],\n",
      "      dtype='object')\n"
     ]
    },
    {
     "name": "stderr",
     "output_type": "stream",
     "text": [
      "[*********************100%***********************]  1 of 1 completed\n",
      "[*********************100%***********************]  1 of 1 completed\n"
     ]
    },
    {
     "name": "stdout",
     "output_type": "stream",
     "text": [
      "Index(['Open', 'High', 'Low', 'Close', 'Adj Close', 'Volume'], dtype='object')\n",
      "Index(['Open', 'High', 'Low', 'Close', 'Adj Close', 'Volume', 'TR1', 'TR2',\n",
      "       'TR3', 'TR', 'ATR', 'SuperTrend_Up', 'SuperTrend_Down', 'Trend',\n",
      "       'Buy_Signal', 'Sell_Signal'],\n",
      "      dtype='object')\n",
      "Index(['Open', 'High', 'Low', 'Close', 'Adj Close', 'Volume'], dtype='object')\n"
     ]
    },
    {
     "name": "stderr",
     "output_type": "stream",
     "text": [
      "[*********************100%***********************]  1 of 1 completed\n"
     ]
    },
    {
     "name": "stdout",
     "output_type": "stream",
     "text": [
      "Index(['Open', 'High', 'Low', 'Close', 'Adj Close', 'Volume', 'TR1', 'TR2',\n",
      "       'TR3', 'TR', 'ATR', 'SuperTrend_Up', 'SuperTrend_Down', 'Trend',\n",
      "       'Buy_Signal', 'Sell_Signal'],\n",
      "      dtype='object')\n",
      "Index(['Open', 'High', 'Low', 'Close', 'Adj Close', 'Volume'], dtype='object')\n",
      "Index(['Open', 'High', 'Low', 'Close', 'Adj Close', 'Volume', 'TR1', 'TR2',\n",
      "       'TR3', 'TR', 'ATR', 'SuperTrend_Up', 'SuperTrend_Down', 'Trend',\n",
      "       'Buy_Signal', 'Sell_Signal'],\n",
      "      dtype='object')\n"
     ]
    },
    {
     "name": "stderr",
     "output_type": "stream",
     "text": [
      "[*********************100%***********************]  1 of 1 completed\n"
     ]
    },
    {
     "name": "stdout",
     "output_type": "stream",
     "text": [
      "Index(['Open', 'High', 'Low', 'Close', 'Adj Close', 'Volume'], dtype='object')\n",
      "Index(['Open', 'High', 'Low', 'Close', 'Adj Close', 'Volume', 'TR1', 'TR2',\n",
      "       'TR3', 'TR', 'ATR', 'SuperTrend_Up', 'SuperTrend_Down', 'Trend',\n",
      "       'Buy_Signal', 'Sell_Signal'],\n",
      "      dtype='object')\n"
     ]
    },
    {
     "name": "stderr",
     "output_type": "stream",
     "text": [
      "[*********************100%***********************]  1 of 1 completed\n",
      "[*********************100%***********************]  1 of 1 completed\n"
     ]
    },
    {
     "name": "stdout",
     "output_type": "stream",
     "text": [
      "Index(['Open', 'High', 'Low', 'Close', 'Adj Close', 'Volume'], dtype='object')\n",
      "Index(['Open', 'High', 'Low', 'Close', 'Adj Close', 'Volume', 'TR1', 'TR2',\n",
      "       'TR3', 'TR', 'ATR', 'SuperTrend_Up', 'SuperTrend_Down', 'Trend',\n",
      "       'Buy_Signal', 'Sell_Signal'],\n",
      "      dtype='object')\n",
      "Index(['Open', 'High', 'Low', 'Close', 'Adj Close', 'Volume'], dtype='object')\n",
      "Index(['Open', 'High', 'Low', 'Close', 'Adj Close', 'Volume', 'TR1', 'TR2',\n",
      "       'TR3', 'TR', 'ATR', 'SuperTrend_Up', 'SuperTrend_Down', 'Trend',\n",
      "       'Buy_Signal', 'Sell_Signal'],\n",
      "      dtype='object')\n"
     ]
    },
    {
     "name": "stderr",
     "output_type": "stream",
     "text": [
      "[*********************100%***********************]  1 of 1 completed\n",
      "[*********************100%***********************]  1 of 1 completed\n"
     ]
    },
    {
     "name": "stdout",
     "output_type": "stream",
     "text": [
      "Index(['Open', 'High', 'Low', 'Close', 'Adj Close', 'Volume'], dtype='object')\n",
      "Index(['Open', 'High', 'Low', 'Close', 'Adj Close', 'Volume', 'TR1', 'TR2',\n",
      "       'TR3', 'TR', 'ATR', 'SuperTrend_Up', 'SuperTrend_Down', 'Trend',\n",
      "       'Buy_Signal', 'Sell_Signal'],\n",
      "      dtype='object')\n",
      "Index(['Open', 'High', 'Low', 'Close', 'Adj Close', 'Volume'], dtype='object')\n"
     ]
    },
    {
     "name": "stderr",
     "output_type": "stream",
     "text": [
      "[*********************100%***********************]  1 of 1 completed\n"
     ]
    },
    {
     "name": "stdout",
     "output_type": "stream",
     "text": [
      "Index(['Open', 'High', 'Low', 'Close', 'Adj Close', 'Volume', 'TR1', 'TR2',\n",
      "       'TR3', 'TR', 'ATR', 'SuperTrend_Up', 'SuperTrend_Down', 'Trend',\n",
      "       'Buy_Signal', 'Sell_Signal'],\n",
      "      dtype='object')\n",
      "Index(['Open', 'High', 'Low', 'Close', 'Adj Close', 'Volume'], dtype='object')\n",
      "Index(['Open', 'High', 'Low', 'Close', 'Adj Close', 'Volume', 'TR1', 'TR2',\n",
      "       'TR3', 'TR', 'ATR', 'SuperTrend_Up', 'SuperTrend_Down', 'Trend',\n",
      "       'Buy_Signal', 'Sell_Signal'],\n",
      "      dtype='object')\n"
     ]
    },
    {
     "name": "stderr",
     "output_type": "stream",
     "text": [
      "[*********************100%***********************]  1 of 1 completed\n",
      "[*********************100%***********************]  1 of 1 completed\n"
     ]
    },
    {
     "name": "stdout",
     "output_type": "stream",
     "text": [
      "Index(['Open', 'High', 'Low', 'Close', 'Adj Close', 'Volume'], dtype='object')\n",
      "Index(['Open', 'High', 'Low', 'Close', 'Adj Close', 'Volume', 'TR1', 'TR2',\n",
      "       'TR3', 'TR', 'ATR', 'SuperTrend_Up', 'SuperTrend_Down', 'Trend',\n",
      "       'Buy_Signal', 'Sell_Signal'],\n",
      "      dtype='object')\n",
      "Index(['Open', 'High', 'Low', 'Close', 'Adj Close', 'Volume'], dtype='object')\n"
     ]
    },
    {
     "name": "stderr",
     "output_type": "stream",
     "text": [
      "[*********************100%***********************]  1 of 1 completed\n"
     ]
    },
    {
     "name": "stdout",
     "output_type": "stream",
     "text": [
      "Index(['Open', 'High', 'Low', 'Close', 'Adj Close', 'Volume', 'TR1', 'TR2',\n",
      "       'TR3', 'TR', 'ATR', 'SuperTrend_Up', 'SuperTrend_Down', 'Trend',\n",
      "       'Buy_Signal', 'Sell_Signal'],\n",
      "      dtype='object')\n",
      "Index(['Open', 'High', 'Low', 'Close', 'Adj Close', 'Volume'], dtype='object')\n",
      "Index(['Open', 'High', 'Low', 'Close', 'Adj Close', 'Volume', 'TR1', 'TR2',\n",
      "       'TR3', 'TR', 'ATR', 'SuperTrend_Up', 'SuperTrend_Down', 'Trend',\n",
      "       'Buy_Signal', 'Sell_Signal'],\n",
      "      dtype='object')\n"
     ]
    },
    {
     "name": "stderr",
     "output_type": "stream",
     "text": [
      "[*********************100%***********************]  1 of 1 completed\n",
      "[*********************100%***********************]  1 of 1 completed\n"
     ]
    },
    {
     "name": "stdout",
     "output_type": "stream",
     "text": [
      "Index(['Open', 'High', 'Low', 'Close', 'Adj Close', 'Volume'], dtype='object')\n",
      "Index(['Open', 'High', 'Low', 'Close', 'Adj Close', 'Volume', 'TR1', 'TR2',\n",
      "       'TR3', 'TR', 'ATR', 'SuperTrend_Up', 'SuperTrend_Down', 'Trend',\n",
      "       'Buy_Signal', 'Sell_Signal'],\n",
      "      dtype='object')\n",
      "Index(['Open', 'High', 'Low', 'Close', 'Adj Close', 'Volume'], dtype='object')\n",
      "Index(['Open', 'High', 'Low', 'Close', 'Adj Close', 'Volume', 'TR1', 'TR2',\n",
      "       'TR3', 'TR', 'ATR', 'SuperTrend_Up', 'SuperTrend_Down', 'Trend',\n",
      "       'Buy_Signal', 'Sell_Signal'],\n",
      "      dtype='object')\n"
     ]
    },
    {
     "name": "stderr",
     "output_type": "stream",
     "text": [
      "[*********************100%***********************]  1 of 1 completed\n",
      "[*********************100%***********************]  1 of 1 completed\n"
     ]
    },
    {
     "name": "stdout",
     "output_type": "stream",
     "text": [
      "Index(['Open', 'High', 'Low', 'Close', 'Adj Close', 'Volume'], dtype='object')\n",
      "Index(['Open', 'High', 'Low', 'Close', 'Adj Close', 'Volume', 'TR1', 'TR2',\n",
      "       'TR3', 'TR', 'ATR', 'SuperTrend_Up', 'SuperTrend_Down', 'Trend',\n",
      "       'Buy_Signal', 'Sell_Signal'],\n",
      "      dtype='object')\n",
      "Index(['Open', 'High', 'Low', 'Close', 'Adj Close', 'Volume'], dtype='object')\n"
     ]
    },
    {
     "name": "stderr",
     "output_type": "stream",
     "text": [
      "[*********************100%***********************]  1 of 1 completed\n"
     ]
    },
    {
     "name": "stdout",
     "output_type": "stream",
     "text": [
      "Index(['Open', 'High', 'Low', 'Close', 'Adj Close', 'Volume', 'TR1', 'TR2',\n",
      "       'TR3', 'TR', 'ATR', 'SuperTrend_Up', 'SuperTrend_Down', 'Trend',\n",
      "       'Buy_Signal', 'Sell_Signal'],\n",
      "      dtype='object')\n",
      "Index(['Open', 'High', 'Low', 'Close', 'Adj Close', 'Volume'], dtype='object')\n",
      "Index(['Open', 'High', 'Low', 'Close', 'Adj Close', 'Volume', 'TR1', 'TR2',\n",
      "       'TR3', 'TR', 'ATR', 'SuperTrend_Up', 'SuperTrend_Down', 'Trend',\n",
      "       'Buy_Signal', 'Sell_Signal'],\n",
      "      dtype='object')\n"
     ]
    },
    {
     "name": "stderr",
     "output_type": "stream",
     "text": [
      "[*********************100%***********************]  1 of 1 completed\n"
     ]
    },
    {
     "name": "stdout",
     "output_type": "stream",
     "text": [
      "Index(['Open', 'High', 'Low', 'Close', 'Adj Close', 'Volume'], dtype='object')\n",
      "Index(['Open', 'High', 'Low', 'Close', 'Adj Close', 'Volume', 'TR1', 'TR2',\n",
      "       'TR3', 'TR', 'ATR', 'SuperTrend_Up', 'SuperTrend_Down', 'Trend',\n",
      "       'Buy_Signal', 'Sell_Signal'],\n",
      "      dtype='object')\n"
     ]
    },
    {
     "name": "stderr",
     "output_type": "stream",
     "text": [
      "[*********************100%***********************]  1 of 1 completed\n",
      "[*********************100%***********************]  1 of 1 completed\n"
     ]
    },
    {
     "name": "stdout",
     "output_type": "stream",
     "text": [
      "Index(['Open', 'High', 'Low', 'Close', 'Adj Close', 'Volume'], dtype='object')\n",
      "Index(['Open', 'High', 'Low', 'Close', 'Adj Close', 'Volume', 'TR1', 'TR2',\n",
      "       'TR3', 'TR', 'ATR', 'SuperTrend_Up', 'SuperTrend_Down', 'Trend',\n",
      "       'Buy_Signal', 'Sell_Signal'],\n",
      "      dtype='object')\n",
      "Index(['Open', 'High', 'Low', 'Close', 'Adj Close', 'Volume'], dtype='object')\n"
     ]
    },
    {
     "name": "stderr",
     "output_type": "stream",
     "text": [
      "[*********************100%***********************]  1 of 1 completed\n"
     ]
    },
    {
     "name": "stdout",
     "output_type": "stream",
     "text": [
      "Index(['Open', 'High', 'Low', 'Close', 'Adj Close', 'Volume', 'TR1', 'TR2',\n",
      "       'TR3', 'TR', 'ATR', 'SuperTrend_Up', 'SuperTrend_Down', 'Trend',\n",
      "       'Buy_Signal', 'Sell_Signal'],\n",
      "      dtype='object')\n",
      "Index(['Open', 'High', 'Low', 'Close', 'Adj Close', 'Volume'], dtype='object')\n",
      "Index(['Open', 'High', 'Low', 'Close', 'Adj Close', 'Volume', 'TR1', 'TR2',\n",
      "       'TR3', 'TR', 'ATR', 'SuperTrend_Up', 'SuperTrend_Down', 'Trend',\n",
      "       'Buy_Signal', 'Sell_Signal'],\n",
      "      dtype='object')\n"
     ]
    },
    {
     "name": "stderr",
     "output_type": "stream",
     "text": [
      "[*********************100%***********************]  1 of 1 completed\n"
     ]
    },
    {
     "name": "stdout",
     "output_type": "stream",
     "text": [
      "Index(['Open', 'High', 'Low', 'Close', 'Adj Close', 'Volume'], dtype='object')\n",
      "Index(['Open', 'High', 'Low', 'Close', 'Adj Close', 'Volume', 'TR1', 'TR2',\n",
      "       'TR3', 'TR', 'ATR', 'SuperTrend_Up', 'SuperTrend_Down', 'Trend',\n",
      "       'Buy_Signal', 'Sell_Signal'],\n",
      "      dtype='object')\n"
     ]
    },
    {
     "name": "stderr",
     "output_type": "stream",
     "text": [
      "[*********************100%***********************]  1 of 1 completed\n",
      "[*********************100%***********************]  1 of 1 completed\n"
     ]
    },
    {
     "name": "stdout",
     "output_type": "stream",
     "text": [
      "Index(['Open', 'High', 'Low', 'Close', 'Adj Close', 'Volume'], dtype='object')\n",
      "Index(['Open', 'High', 'Low', 'Close', 'Adj Close', 'Volume', 'TR1', 'TR2',\n",
      "       'TR3', 'TR', 'ATR', 'SuperTrend_Up', 'SuperTrend_Down', 'Trend',\n",
      "       'Buy_Signal', 'Sell_Signal'],\n",
      "      dtype='object')\n",
      "Index(['Open', 'High', 'Low', 'Close', 'Adj Close', 'Volume'], dtype='object')\n"
     ]
    },
    {
     "name": "stderr",
     "output_type": "stream",
     "text": [
      "[*********************100%***********************]  1 of 1 completed\n"
     ]
    },
    {
     "name": "stdout",
     "output_type": "stream",
     "text": [
      "Index(['Open', 'High', 'Low', 'Close', 'Adj Close', 'Volume', 'TR1', 'TR2',\n",
      "       'TR3', 'TR', 'ATR', 'SuperTrend_Up', 'SuperTrend_Down', 'Trend',\n",
      "       'Buy_Signal', 'Sell_Signal'],\n",
      "      dtype='object')\n",
      "Index(['Open', 'High', 'Low', 'Close', 'Adj Close', 'Volume'], dtype='object')\n",
      "Index(['Open', 'High', 'Low', 'Close', 'Adj Close', 'Volume', 'TR1', 'TR2',\n",
      "       'TR3', 'TR', 'ATR', 'SuperTrend_Up', 'SuperTrend_Down', 'Trend',\n",
      "       'Buy_Signal', 'Sell_Signal'],\n",
      "      dtype='object')\n"
     ]
    },
    {
     "name": "stderr",
     "output_type": "stream",
     "text": [
      "[*********************100%***********************]  1 of 1 completed\n",
      "[*********************100%***********************]  1 of 1 completed\n"
     ]
    },
    {
     "name": "stdout",
     "output_type": "stream",
     "text": [
      "Index(['Open', 'High', 'Low', 'Close', 'Adj Close', 'Volume'], dtype='object')\n",
      "Index(['Open', 'High', 'Low', 'Close', 'Adj Close', 'Volume', 'TR1', 'TR2',\n",
      "       'TR3', 'TR', 'ATR', 'SuperTrend_Up', 'SuperTrend_Down', 'Trend',\n",
      "       'Buy_Signal', 'Sell_Signal'],\n",
      "      dtype='object')\n",
      "Index(['Open', 'High', 'Low', 'Close', 'Adj Close', 'Volume'], dtype='object')\n"
     ]
    },
    {
     "name": "stderr",
     "output_type": "stream",
     "text": [
      "[*********************100%***********************]  1 of 1 completed\n",
      "\n",
      "1 Failed download:\n",
      "['SEPN']: YFInvalidPeriodError(\"%ticker%: Period '1y' is invalid, must be one of ['1d', '5d', '1mo', '3mo', 'ytd', 'max']\")\n"
     ]
    },
    {
     "name": "stdout",
     "output_type": "stream",
     "text": [
      "Index(['Open', 'High', 'Low', 'Close', 'Adj Close', 'Volume', 'TR1', 'TR2',\n",
      "       'TR3', 'TR', 'ATR', 'SuperTrend_Up', 'SuperTrend_Down', 'Trend',\n",
      "       'Buy_Signal', 'Sell_Signal'],\n",
      "      dtype='object')\n",
      "Index(['Open', 'High', 'Low', 'Close', 'Adj Close', 'Volume'], dtype='object')\n",
      "Error processing SEPN: iloc cannot enlarge its target object\n"
     ]
    },
    {
     "name": "stderr",
     "output_type": "stream",
     "text": [
      "[*********************100%***********************]  1 of 1 completed\n"
     ]
    },
    {
     "name": "stdout",
     "output_type": "stream",
     "text": [
      "Index(['Open', 'High', 'Low', 'Close', 'Adj Close', 'Volume'], dtype='object')\n",
      "Index(['Open', 'High', 'Low', 'Close', 'Adj Close', 'Volume', 'TR1', 'TR2',\n",
      "       'TR3', 'TR', 'ATR', 'SuperTrend_Up', 'SuperTrend_Down', 'Trend',\n",
      "       'Buy_Signal', 'Sell_Signal'],\n",
      "      dtype='object')\n"
     ]
    },
    {
     "name": "stderr",
     "output_type": "stream",
     "text": [
      "[*********************100%***********************]  1 of 1 completed\n",
      "[*********************100%***********************]  1 of 1 completed\n"
     ]
    },
    {
     "name": "stdout",
     "output_type": "stream",
     "text": [
      "Index(['Open', 'High', 'Low', 'Close', 'Adj Close', 'Volume'], dtype='object')\n",
      "Index(['Open', 'High', 'Low', 'Close', 'Adj Close', 'Volume', 'TR1', 'TR2',\n",
      "       'TR3', 'TR', 'ATR', 'SuperTrend_Up', 'SuperTrend_Down', 'Trend',\n",
      "       'Buy_Signal', 'Sell_Signal'],\n",
      "      dtype='object')\n",
      "Index(['Open', 'High', 'Low', 'Close', 'Adj Close', 'Volume'], dtype='object')\n"
     ]
    },
    {
     "name": "stderr",
     "output_type": "stream",
     "text": [
      "[*********************100%***********************]  1 of 1 completed\n"
     ]
    },
    {
     "name": "stdout",
     "output_type": "stream",
     "text": [
      "Index(['Open', 'High', 'Low', 'Close', 'Adj Close', 'Volume', 'TR1', 'TR2',\n",
      "       'TR3', 'TR', 'ATR', 'SuperTrend_Up', 'SuperTrend_Down', 'Trend',\n",
      "       'Buy_Signal', 'Sell_Signal'],\n",
      "      dtype='object')\n",
      "Index(['Open', 'High', 'Low', 'Close', 'Adj Close', 'Volume'], dtype='object')\n",
      "Index(['Open', 'High', 'Low', 'Close', 'Adj Close', 'Volume', 'TR1', 'TR2',\n",
      "       'TR3', 'TR', 'ATR', 'SuperTrend_Up', 'SuperTrend_Down', 'Trend',\n",
      "       'Buy_Signal', 'Sell_Signal'],\n",
      "      dtype='object')\n"
     ]
    },
    {
     "name": "stderr",
     "output_type": "stream",
     "text": [
      "[*********************100%***********************]  1 of 1 completed\n",
      "[*********************100%***********************]  1 of 1 completed\n"
     ]
    },
    {
     "name": "stdout",
     "output_type": "stream",
     "text": [
      "Index(['Open', 'High', 'Low', 'Close', 'Adj Close', 'Volume'], dtype='object')\n",
      "Index(['Open', 'High', 'Low', 'Close', 'Adj Close', 'Volume', 'TR1', 'TR2',\n",
      "       'TR3', 'TR', 'ATR', 'SuperTrend_Up', 'SuperTrend_Down', 'Trend',\n",
      "       'Buy_Signal', 'Sell_Signal'],\n",
      "      dtype='object')\n",
      "Index(['Open', 'High', 'Low', 'Close', 'Adj Close', 'Volume'], dtype='object')\n"
     ]
    },
    {
     "name": "stderr",
     "output_type": "stream",
     "text": [
      "[*********************100%***********************]  1 of 1 completed\n"
     ]
    },
    {
     "name": "stdout",
     "output_type": "stream",
     "text": [
      "Index(['Open', 'High', 'Low', 'Close', 'Adj Close', 'Volume', 'TR1', 'TR2',\n",
      "       'TR3', 'TR', 'ATR', 'SuperTrend_Up', 'SuperTrend_Down', 'Trend',\n",
      "       'Buy_Signal', 'Sell_Signal'],\n",
      "      dtype='object')\n",
      "Index(['Open', 'High', 'Low', 'Close', 'Adj Close', 'Volume'], dtype='object')\n",
      "Index(['Open', 'High', 'Low', 'Close', 'Adj Close', 'Volume', 'TR1', 'TR2',\n",
      "       'TR3', 'TR', 'ATR', 'SuperTrend_Up', 'SuperTrend_Down', 'Trend',\n",
      "       'Buy_Signal', 'Sell_Signal'],\n",
      "      dtype='object')\n"
     ]
    },
    {
     "name": "stderr",
     "output_type": "stream",
     "text": [
      "[*********************100%***********************]  1 of 1 completed\n",
      "[*********************100%***********************]  1 of 1 completed\n"
     ]
    },
    {
     "name": "stdout",
     "output_type": "stream",
     "text": [
      "Index(['Open', 'High', 'Low', 'Close', 'Adj Close', 'Volume'], dtype='object')\n",
      "Index(['Open', 'High', 'Low', 'Close', 'Adj Close', 'Volume', 'TR1', 'TR2',\n",
      "       'TR3', 'TR', 'ATR', 'SuperTrend_Up', 'SuperTrend_Down', 'Trend',\n",
      "       'Buy_Signal', 'Sell_Signal'],\n",
      "      dtype='object')\n",
      "Index(['Open', 'High', 'Low', 'Close', 'Adj Close', 'Volume'], dtype='object')\n"
     ]
    },
    {
     "name": "stderr",
     "output_type": "stream",
     "text": [
      "[*********************100%***********************]  1 of 1 completed\n"
     ]
    },
    {
     "name": "stdout",
     "output_type": "stream",
     "text": [
      "Index(['Open', 'High', 'Low', 'Close', 'Adj Close', 'Volume', 'TR1', 'TR2',\n",
      "       'TR3', 'TR', 'ATR', 'SuperTrend_Up', 'SuperTrend_Down', 'Trend',\n",
      "       'Buy_Signal', 'Sell_Signal'],\n",
      "      dtype='object')\n",
      "Index(['Open', 'High', 'Low', 'Close', 'Adj Close', 'Volume'], dtype='object')\n",
      "Index(['Open', 'High', 'Low', 'Close', 'Adj Close', 'Volume', 'TR1', 'TR2',\n",
      "       'TR3', 'TR', 'ATR', 'SuperTrend_Up', 'SuperTrend_Down', 'Trend',\n",
      "       'Buy_Signal', 'Sell_Signal'],\n",
      "      dtype='object')\n"
     ]
    },
    {
     "name": "stderr",
     "output_type": "stream",
     "text": [
      "[*********************100%***********************]  1 of 1 completed\n"
     ]
    },
    {
     "name": "stdout",
     "output_type": "stream",
     "text": [
      "Index(['Open', 'High', 'Low', 'Close', 'Adj Close', 'Volume'], dtype='object')\n",
      "Index(['Open', 'High', 'Low', 'Close', 'Adj Close', 'Volume', 'TR1', 'TR2',\n",
      "       'TR3', 'TR', 'ATR', 'SuperTrend_Up', 'SuperTrend_Down', 'Trend',\n",
      "       'Buy_Signal', 'Sell_Signal'],\n",
      "      dtype='object')\n"
     ]
    },
    {
     "name": "stderr",
     "output_type": "stream",
     "text": [
      "[*********************100%***********************]  1 of 1 completed\n",
      "[*********************100%***********************]  1 of 1 completed\n"
     ]
    },
    {
     "name": "stdout",
     "output_type": "stream",
     "text": [
      "Index(['Open', 'High', 'Low', 'Close', 'Adj Close', 'Volume'], dtype='object')\n",
      "Index(['Open', 'High', 'Low', 'Close', 'Adj Close', 'Volume', 'TR1', 'TR2',\n",
      "       'TR3', 'TR', 'ATR', 'SuperTrend_Up', 'SuperTrend_Down', 'Trend',\n",
      "       'Buy_Signal', 'Sell_Signal'],\n",
      "      dtype='object')\n",
      "Index(['Open', 'High', 'Low', 'Close', 'Adj Close', 'Volume'], dtype='object')\n"
     ]
    },
    {
     "name": "stderr",
     "output_type": "stream",
     "text": [
      "[*********************100%***********************]  1 of 1 completed\n"
     ]
    },
    {
     "name": "stdout",
     "output_type": "stream",
     "text": [
      "Index(['Open', 'High', 'Low', 'Close', 'Adj Close', 'Volume', 'TR1', 'TR2',\n",
      "       'TR3', 'TR', 'ATR', 'SuperTrend_Up', 'SuperTrend_Down', 'Trend',\n",
      "       'Buy_Signal', 'Sell_Signal'],\n",
      "      dtype='object')\n",
      "Index(['Open', 'High', 'Low', 'Close', 'Adj Close', 'Volume'], dtype='object')\n",
      "Index(['Open', 'High', 'Low', 'Close', 'Adj Close', 'Volume', 'TR1', 'TR2',\n",
      "       'TR3', 'TR', 'ATR', 'SuperTrend_Up', 'SuperTrend_Down', 'Trend',\n",
      "       'Buy_Signal', 'Sell_Signal'],\n",
      "      dtype='object')\n"
     ]
    },
    {
     "name": "stderr",
     "output_type": "stream",
     "text": [
      "[*********************100%***********************]  1 of 1 completed\n"
     ]
    },
    {
     "name": "stdout",
     "output_type": "stream",
     "text": [
      "Index(['Open', 'High', 'Low', 'Close', 'Adj Close', 'Volume'], dtype='object')\n",
      "Index(['Open', 'High', 'Low', 'Close', 'Adj Close', 'Volume', 'TR1', 'TR2',\n",
      "       'TR3', 'TR', 'ATR', 'SuperTrend_Up', 'SuperTrend_Down', 'Trend',\n",
      "       'Buy_Signal', 'Sell_Signal'],\n",
      "      dtype='object')\n"
     ]
    },
    {
     "name": "stderr",
     "output_type": "stream",
     "text": [
      "[*********************100%***********************]  1 of 1 completed\n",
      "[*********************100%***********************]  1 of 1 completed\n"
     ]
    },
    {
     "name": "stdout",
     "output_type": "stream",
     "text": [
      "Index(['Open', 'High', 'Low', 'Close', 'Adj Close', 'Volume'], dtype='object')\n",
      "Index(['Open', 'High', 'Low', 'Close', 'Adj Close', 'Volume', 'TR1', 'TR2',\n",
      "       'TR3', 'TR', 'ATR', 'SuperTrend_Up', 'SuperTrend_Down', 'Trend',\n",
      "       'Buy_Signal', 'Sell_Signal'],\n",
      "      dtype='object')\n",
      "Index(['Open', 'High', 'Low', 'Close', 'Adj Close', 'Volume'], dtype='object')\n"
     ]
    },
    {
     "name": "stderr",
     "output_type": "stream",
     "text": [
      "[*********************100%***********************]  1 of 1 completed\n"
     ]
    },
    {
     "name": "stdout",
     "output_type": "stream",
     "text": [
      "Index(['Open', 'High', 'Low', 'Close', 'Adj Close', 'Volume', 'TR1', 'TR2',\n",
      "       'TR3', 'TR', 'ATR', 'SuperTrend_Up', 'SuperTrend_Down', 'Trend',\n",
      "       'Buy_Signal', 'Sell_Signal'],\n",
      "      dtype='object')\n",
      "Index(['Open', 'High', 'Low', 'Close', 'Adj Close', 'Volume'], dtype='object')\n"
     ]
    },
    {
     "name": "stderr",
     "output_type": "stream",
     "text": [
      "[*********************100%***********************]  1 of 1 completed"
     ]
    },
    {
     "name": "stdout",
     "output_type": "stream",
     "text": [
      "Index(['Open', 'High', 'Low', 'Close', 'Adj Close', 'Volume', 'TR1', 'TR2',\n",
      "       'TR3', 'TR', 'ATR', 'SuperTrend_Up', 'SuperTrend_Down', 'Trend',\n",
      "       'Buy_Signal', 'Sell_Signal'],\n",
      "      dtype='object')\n",
      "Index(['Open', 'High', 'Low', 'Close', 'Adj Close', 'Volume'], dtype='object')\n"
     ]
    },
    {
     "name": "stderr",
     "output_type": "stream",
     "text": [
      "\n",
      "[*********************100%***********************]  1 of 1 completed\n"
     ]
    },
    {
     "name": "stdout",
     "output_type": "stream",
     "text": [
      "Index(['Open', 'High', 'Low', 'Close', 'Adj Close', 'Volume', 'TR1', 'TR2',\n",
      "       'TR3', 'TR', 'ATR', 'SuperTrend_Up', 'SuperTrend_Down', 'Trend',\n",
      "       'Buy_Signal', 'Sell_Signal'],\n",
      "      dtype='object')\n",
      "Index(['Open', 'High', 'Low', 'Close', 'Adj Close', 'Volume'], dtype='object')\n",
      "Index(['Open', 'High', 'Low', 'Close', 'Adj Close', 'Volume', 'TR1', 'TR2',\n",
      "       'TR3', 'TR', 'ATR', 'SuperTrend_Up', 'SuperTrend_Down', 'Trend',\n",
      "       'Buy_Signal', 'Sell_Signal'],\n",
      "      dtype='object')\n"
     ]
    },
    {
     "name": "stderr",
     "output_type": "stream",
     "text": [
      "[*********************100%***********************]  1 of 1 completed\n"
     ]
    },
    {
     "name": "stdout",
     "output_type": "stream",
     "text": [
      "Index(['Open', 'High', 'Low', 'Close', 'Adj Close', 'Volume'], dtype='object')\n",
      "Index(['Open', 'High', 'Low', 'Close', 'Adj Close', 'Volume', 'TR1', 'TR2',\n",
      "       'TR3', 'TR', 'ATR', 'SuperTrend_Up', 'SuperTrend_Down', 'Trend',\n",
      "       'Buy_Signal', 'Sell_Signal'],\n",
      "      dtype='object')\n"
     ]
    },
    {
     "name": "stderr",
     "output_type": "stream",
     "text": [
      "[*********************100%***********************]  1 of 1 completed\n",
      "[*********************100%***********************]  1 of 1 completed\n"
     ]
    },
    {
     "name": "stdout",
     "output_type": "stream",
     "text": [
      "Index(['Open', 'High', 'Low', 'Close', 'Adj Close', 'Volume'], dtype='object')\n",
      "Index(['Open', 'High', 'Low', 'Close', 'Adj Close', 'Volume', 'TR1', 'TR2',\n",
      "       'TR3', 'TR', 'ATR', 'SuperTrend_Up', 'SuperTrend_Down', 'Trend',\n",
      "       'Buy_Signal', 'Sell_Signal'],\n",
      "      dtype='object')\n",
      "Index(['Open', 'High', 'Low', 'Close', 'Adj Close', 'Volume'], dtype='object')\n"
     ]
    },
    {
     "name": "stderr",
     "output_type": "stream",
     "text": [
      "[*********************100%***********************]  1 of 1 completed\n"
     ]
    },
    {
     "name": "stdout",
     "output_type": "stream",
     "text": [
      "Index(['Open', 'High', 'Low', 'Close', 'Adj Close', 'Volume', 'TR1', 'TR2',\n",
      "       'TR3', 'TR', 'ATR', 'SuperTrend_Up', 'SuperTrend_Down', 'Trend',\n",
      "       'Buy_Signal', 'Sell_Signal'],\n",
      "      dtype='object')\n",
      "Index(['Open', 'High', 'Low', 'Close', 'Adj Close', 'Volume'], dtype='object')\n"
     ]
    },
    {
     "name": "stderr",
     "output_type": "stream",
     "text": [
      "[*********************100%***********************]  1 of 1 completed"
     ]
    },
    {
     "name": "stdout",
     "output_type": "stream",
     "text": [
      "Index(['Open', 'High', 'Low', 'Close', 'Adj Close', 'Volume', 'TR1', 'TR2',\n",
      "       'TR3', 'TR', 'ATR', 'SuperTrend_Up', 'SuperTrend_Down', 'Trend',\n",
      "       'Buy_Signal', 'Sell_Signal'],\n",
      "      dtype='object')\n",
      "Index(['Open', 'High', 'Low', 'Close', 'Adj Close', 'Volume'], dtype='object')\n",
      "Index(['Open', 'High', 'Low', 'Close', 'Adj Close', 'Volume', 'TR1', 'TR2',\n",
      "       'TR3', 'TR', 'ATR', 'SuperTrend_Up', 'SuperTrend_Down', 'Trend',\n",
      "       'Buy_Signal', 'Sell_Signal'],\n",
      "      dtype='object')\n"
     ]
    },
    {
     "name": "stderr",
     "output_type": "stream",
     "text": [
      "\n",
      "[*********************100%***********************]  1 of 1 completed\n",
      "[*********************100%***********************]  1 of 1 completed\n"
     ]
    },
    {
     "name": "stdout",
     "output_type": "stream",
     "text": [
      "Index(['Open', 'High', 'Low', 'Close', 'Adj Close', 'Volume'], dtype='object')\n",
      "Index(['Open', 'High', 'Low', 'Close', 'Adj Close', 'Volume', 'TR1', 'TR2',\n",
      "       'TR3', 'TR', 'ATR', 'SuperTrend_Up', 'SuperTrend_Down', 'Trend',\n",
      "       'Buy_Signal', 'Sell_Signal'],\n",
      "      dtype='object')\n",
      "Index(['Open', 'High', 'Low', 'Close', 'Adj Close', 'Volume'], dtype='object')\n"
     ]
    },
    {
     "name": "stderr",
     "output_type": "stream",
     "text": [
      "[*********************100%***********************]  1 of 1 completed\n"
     ]
    },
    {
     "name": "stdout",
     "output_type": "stream",
     "text": [
      "Index(['Open', 'High', 'Low', 'Close', 'Adj Close', 'Volume', 'TR1', 'TR2',\n",
      "       'TR3', 'TR', 'ATR', 'SuperTrend_Up', 'SuperTrend_Down', 'Trend',\n",
      "       'Buy_Signal', 'Sell_Signal'],\n",
      "      dtype='object')\n",
      "Index(['Open', 'High', 'Low', 'Close', 'Adj Close', 'Volume'], dtype='object')\n",
      "Index(['Open', 'High', 'Low', 'Close', 'Adj Close', 'Volume', 'TR1', 'TR2',\n",
      "       'TR3', 'TR', 'ATR', 'SuperTrend_Up', 'SuperTrend_Down', 'Trend',\n",
      "       'Buy_Signal', 'Sell_Signal'],\n",
      "      dtype='object')\n"
     ]
    },
    {
     "name": "stderr",
     "output_type": "stream",
     "text": [
      "[*********************100%***********************]  1 of 1 completed\n"
     ]
    },
    {
     "name": "stdout",
     "output_type": "stream",
     "text": [
      "Index(['Open', 'High', 'Low', 'Close', 'Adj Close', 'Volume'], dtype='object')\n"
     ]
    },
    {
     "name": "stderr",
     "output_type": "stream",
     "text": [
      "[*********************100%***********************]  1 of 1 completed"
     ]
    },
    {
     "name": "stdout",
     "output_type": "stream",
     "text": [
      "Index(['Open', 'High', 'Low', 'Close', 'Adj Close', 'Volume', 'TR1', 'TR2',\n",
      "       'TR3', 'TR', 'ATR', 'SuperTrend_Up', 'SuperTrend_Down', 'Trend',\n",
      "       'Buy_Signal', 'Sell_Signal'],\n",
      "      dtype='object')\n",
      "Index(['Open', 'High', 'Low', 'Close', 'Adj Close', 'Volume'], dtype='object')\n"
     ]
    },
    {
     "name": "stderr",
     "output_type": "stream",
     "text": [
      "\n",
      "[*********************100%***********************]  1 of 1 completed"
     ]
    },
    {
     "name": "stdout",
     "output_type": "stream",
     "text": [
      "Index(['Open', 'High', 'Low', 'Close', 'Adj Close', 'Volume', 'TR1', 'TR2',\n",
      "       'TR3', 'TR', 'ATR', 'SuperTrend_Up', 'SuperTrend_Down', 'Trend',\n",
      "       'Buy_Signal', 'Sell_Signal'],\n",
      "      dtype='object')\n",
      "Index(['Open', 'High', 'Low', 'Close', 'Adj Close', 'Volume'], dtype='object')\n",
      "Index(['Open', 'High', 'Low', 'Close', 'Adj Close', 'Volume', 'TR1', 'TR2',\n",
      "       'TR3', 'TR', 'ATR', 'SuperTrend_Up', 'SuperTrend_Down', 'Trend',\n",
      "       'Buy_Signal', 'Sell_Signal'],\n",
      "      dtype='object')\n"
     ]
    },
    {
     "name": "stderr",
     "output_type": "stream",
     "text": [
      "\n",
      "[*********************100%***********************]  1 of 1 completed\n"
     ]
    },
    {
     "name": "stdout",
     "output_type": "stream",
     "text": [
      "Index(['Open', 'High', 'Low', 'Close', 'Adj Close', 'Volume'], dtype='object')\n",
      "Index(['Open', 'High', 'Low', 'Close', 'Adj Close', 'Volume', 'TR1', 'TR2',\n",
      "       'TR3', 'TR', 'ATR', 'SuperTrend_Up', 'SuperTrend_Down', 'Trend',\n",
      "       'Buy_Signal', 'Sell_Signal'],\n",
      "      dtype='object')\n"
     ]
    },
    {
     "name": "stderr",
     "output_type": "stream",
     "text": [
      "[*********************100%***********************]  1 of 1 completed\n",
      "[*********************100%***********************]  1 of 1 completed\n"
     ]
    },
    {
     "name": "stdout",
     "output_type": "stream",
     "text": [
      "Index(['Open', 'High', 'Low', 'Close', 'Adj Close', 'Volume'], dtype='object')\n",
      "Index(['Open', 'High', 'Low', 'Close', 'Adj Close', 'Volume', 'TR1', 'TR2',\n",
      "       'TR3', 'TR', 'ATR', 'SuperTrend_Up', 'SuperTrend_Down', 'Trend',\n",
      "       'Buy_Signal', 'Sell_Signal'],\n",
      "      dtype='object')\n",
      "Index(['Open', 'High', 'Low', 'Close', 'Adj Close', 'Volume'], dtype='object')\n"
     ]
    },
    {
     "name": "stderr",
     "output_type": "stream",
     "text": [
      "[*********************100%***********************]  1 of 1 completed"
     ]
    },
    {
     "name": "stdout",
     "output_type": "stream",
     "text": [
      "Index(['Open', 'High', 'Low', 'Close', 'Adj Close', 'Volume', 'TR1', 'TR2',\n",
      "       'TR3', 'TR', 'ATR', 'SuperTrend_Up', 'SuperTrend_Down', 'Trend',\n",
      "       'Buy_Signal', 'Sell_Signal'],\n",
      "      dtype='object')\n",
      "Index(['Open', 'High', 'Low', 'Close', 'Adj Close', 'Volume'], dtype='object')\n"
     ]
    },
    {
     "name": "stderr",
     "output_type": "stream",
     "text": [
      "\n"
     ]
    },
    {
     "name": "stdout",
     "output_type": "stream",
     "text": [
      "Index(['Open', 'High', 'Low', 'Close', 'Adj Close', 'Volume', 'TR1', 'TR2',\n",
      "       'TR3', 'TR', 'ATR', 'SuperTrend_Up', 'SuperTrend_Down', 'Trend',\n",
      "       'Buy_Signal', 'Sell_Signal'],\n",
      "      dtype='object')\n"
     ]
    },
    {
     "name": "stderr",
     "output_type": "stream",
     "text": [
      "[*********************100%***********************]  1 of 1 completed\n"
     ]
    },
    {
     "name": "stdout",
     "output_type": "stream",
     "text": [
      "Index(['Open', 'High', 'Low', 'Close', 'Adj Close', 'Volume'], dtype='object')\n",
      "Index(['Open', 'High', 'Low', 'Close', 'Adj Close', 'Volume', 'TR1', 'TR2',\n",
      "       'TR3', 'TR', 'ATR', 'SuperTrend_Up', 'SuperTrend_Down', 'Trend',\n",
      "       'Buy_Signal', 'Sell_Signal'],\n",
      "      dtype='object')\n"
     ]
    },
    {
     "name": "stderr",
     "output_type": "stream",
     "text": [
      "[*********************100%***********************]  1 of 1 completed\n",
      "[*********************100%***********************]  1 of 1 completed\n"
     ]
    },
    {
     "name": "stdout",
     "output_type": "stream",
     "text": [
      "Index(['Open', 'High', 'Low', 'Close', 'Adj Close', 'Volume'], dtype='object')\n",
      "Index(['Open', 'High', 'Low', 'Close', 'Adj Close', 'Volume', 'TR1', 'TR2',\n",
      "       'TR3', 'TR', 'ATR', 'SuperTrend_Up', 'SuperTrend_Down', 'Trend',\n",
      "       'Buy_Signal', 'Sell_Signal'],\n",
      "      dtype='object')\n",
      "Index(['Open', 'High', 'Low', 'Close', 'Adj Close', 'Volume'], dtype='object')\n"
     ]
    },
    {
     "name": "stderr",
     "output_type": "stream",
     "text": [
      "[*********************100%***********************]  1 of 1 completed\n"
     ]
    },
    {
     "name": "stdout",
     "output_type": "stream",
     "text": [
      "Index(['Open', 'High', 'Low', 'Close', 'Adj Close', 'Volume', 'TR1', 'TR2',\n",
      "       'TR3', 'TR', 'ATR', 'SuperTrend_Up', 'SuperTrend_Down', 'Trend',\n",
      "       'Buy_Signal', 'Sell_Signal'],\n",
      "      dtype='object')\n",
      "Index(['Open', 'High', 'Low', 'Close', 'Adj Close', 'Volume'], dtype='object')\n"
     ]
    },
    {
     "name": "stderr",
     "output_type": "stream",
     "text": [
      "[*********************100%***********************]  1 of 1 completed\n"
     ]
    },
    {
     "name": "stdout",
     "output_type": "stream",
     "text": [
      "Index(['Open', 'High', 'Low', 'Close', 'Adj Close', 'Volume', 'TR1', 'TR2',\n",
      "       'TR3', 'TR', 'ATR', 'SuperTrend_Up', 'SuperTrend_Down', 'Trend',\n",
      "       'Buy_Signal', 'Sell_Signal'],\n",
      "      dtype='object')\n",
      "Index(['Open', 'High', 'Low', 'Close', 'Adj Close', 'Volume'], dtype='object')\n",
      "Index(['Open', 'High', 'Low', 'Close', 'Adj Close', 'Volume', 'TR1', 'TR2',\n",
      "       'TR3', 'TR', 'ATR', 'SuperTrend_Up', 'SuperTrend_Down', 'Trend',\n",
      "       'Buy_Signal', 'Sell_Signal'],\n",
      "      dtype='object')\n"
     ]
    },
    {
     "name": "stderr",
     "output_type": "stream",
     "text": [
      "[*********************100%***********************]  1 of 1 completed\n",
      "[*********************100%***********************]  1 of 1 completed\n"
     ]
    },
    {
     "name": "stdout",
     "output_type": "stream",
     "text": [
      "Index(['Open', 'High', 'Low', 'Close', 'Adj Close', 'Volume'], dtype='object')\n",
      "Index(['Open', 'High', 'Low', 'Close', 'Adj Close', 'Volume', 'TR1', 'TR2',\n",
      "       'TR3', 'TR', 'ATR', 'SuperTrend_Up', 'SuperTrend_Down', 'Trend',\n",
      "       'Buy_Signal', 'Sell_Signal'],\n",
      "      dtype='object')\n",
      "Index(['Open', 'High', 'Low', 'Close', 'Adj Close', 'Volume'], dtype='object')\n"
     ]
    },
    {
     "name": "stderr",
     "output_type": "stream",
     "text": [
      "[*********************100%***********************]  1 of 1 completed\n"
     ]
    },
    {
     "name": "stdout",
     "output_type": "stream",
     "text": [
      "Index(['Open', 'High', 'Low', 'Close', 'Adj Close', 'Volume', 'TR1', 'TR2',\n",
      "       'TR3', 'TR', 'ATR', 'SuperTrend_Up', 'SuperTrend_Down', 'Trend',\n",
      "       'Buy_Signal', 'Sell_Signal'],\n",
      "      dtype='object')\n",
      "Index(['Open', 'High', 'Low', 'Close', 'Adj Close', 'Volume'], dtype='object')\n",
      "Index(['Open', 'High', 'Low', 'Close', 'Adj Close', 'Volume', 'TR1', 'TR2',\n",
      "       'TR3', 'TR', 'ATR', 'SuperTrend_Up', 'SuperTrend_Down', 'Trend',\n",
      "       'Buy_Signal', 'Sell_Signal'],\n",
      "      dtype='object')\n"
     ]
    },
    {
     "name": "stderr",
     "output_type": "stream",
     "text": [
      "[*********************100%***********************]  1 of 1 completed\n",
      "[*********************100%***********************]  1 of 1 completed\n"
     ]
    },
    {
     "name": "stdout",
     "output_type": "stream",
     "text": [
      "Index(['Open', 'High', 'Low', 'Close', 'Adj Close', 'Volume'], dtype='object')\n",
      "Index(['Open', 'High', 'Low', 'Close', 'Adj Close', 'Volume', 'TR1', 'TR2',\n",
      "       'TR3', 'TR', 'ATR', 'SuperTrend_Up', 'SuperTrend_Down', 'Trend',\n",
      "       'Buy_Signal', 'Sell_Signal'],\n",
      "      dtype='object')\n",
      "Index(['Open', 'High', 'Low', 'Close', 'Adj Close', 'Volume'], dtype='object')\n"
     ]
    },
    {
     "name": "stderr",
     "output_type": "stream",
     "text": [
      "[*********************100%***********************]  1 of 1 completed"
     ]
    },
    {
     "name": "stdout",
     "output_type": "stream",
     "text": [
      "Index(['Open', 'High', 'Low', 'Close', 'Adj Close', 'Volume', 'TR1', 'TR2',\n",
      "       'TR3', 'TR', 'ATR', 'SuperTrend_Up', 'SuperTrend_Down', 'Trend',\n",
      "       'Buy_Signal', 'Sell_Signal'],\n",
      "      dtype='object')\n",
      "Index(['Open', 'High', 'Low', 'Close', 'Adj Close', 'Volume'], dtype='object')\n"
     ]
    },
    {
     "name": "stderr",
     "output_type": "stream",
     "text": [
      "\n",
      "[*********************100%***********************]  1 of 1 completed\n"
     ]
    },
    {
     "name": "stdout",
     "output_type": "stream",
     "text": [
      "Index(['Open', 'High', 'Low', 'Close', 'Adj Close', 'Volume', 'TR1', 'TR2',\n",
      "       'TR3', 'TR', 'ATR', 'SuperTrend_Up', 'SuperTrend_Down', 'Trend',\n",
      "       'Buy_Signal', 'Sell_Signal'],\n",
      "      dtype='object')\n",
      "Index(['Open', 'High', 'Low', 'Close', 'Adj Close', 'Volume'], dtype='object')\n"
     ]
    },
    {
     "name": "stderr",
     "output_type": "stream",
     "text": [
      "[*********************100%***********************]  1 of 1 completed"
     ]
    },
    {
     "name": "stdout",
     "output_type": "stream",
     "text": [
      "Index(['Open', 'High', 'Low', 'Close', 'Adj Close', 'Volume', 'TR1', 'TR2',\n",
      "       'TR3', 'TR', 'ATR', 'SuperTrend_Up', 'SuperTrend_Down', 'Trend',\n",
      "       'Buy_Signal', 'Sell_Signal'],\n",
      "      dtype='object')\n",
      "Index(['Open', 'High', 'Low', 'Close', 'Adj Close', 'Volume'], dtype='object')\n"
     ]
    },
    {
     "name": "stderr",
     "output_type": "stream",
     "text": [
      "\n",
      "[*********************100%***********************]  1 of 1 completed"
     ]
    },
    {
     "name": "stdout",
     "output_type": "stream",
     "text": [
      "Index(['Open', 'High', 'Low', 'Close', 'Adj Close', 'Volume', 'TR1', 'TR2',\n",
      "       'TR3', 'TR', 'ATR', 'SuperTrend_Up', 'SuperTrend_Down', 'Trend',\n",
      "       'Buy_Signal', 'Sell_Signal'],\n",
      "      dtype='object')\n",
      "Index(['Open', 'High', 'Low', 'Close', 'Adj Close', 'Volume'], dtype='object')\n"
     ]
    },
    {
     "name": "stderr",
     "output_type": "stream",
     "text": [
      "\n",
      "[*********************100%***********************]  1 of 1 completed\n"
     ]
    },
    {
     "name": "stdout",
     "output_type": "stream",
     "text": [
      "Index(['Open', 'High', 'Low', 'Close', 'Adj Close', 'Volume', 'TR1', 'TR2',\n",
      "       'TR3', 'TR', 'ATR', 'SuperTrend_Up', 'SuperTrend_Down', 'Trend',\n",
      "       'Buy_Signal', 'Sell_Signal'],\n",
      "      dtype='object')\n",
      "Index(['Open', 'High', 'Low', 'Close', 'Adj Close', 'Volume'], dtype='object')\n"
     ]
    },
    {
     "name": "stderr",
     "output_type": "stream",
     "text": [
      "[*********************100%***********************]  1 of 1 completed"
     ]
    },
    {
     "name": "stdout",
     "output_type": "stream",
     "text": [
      "Index(['Open', 'High', 'Low', 'Close', 'Adj Close', 'Volume', 'TR1', 'TR2',\n",
      "       'TR3', 'TR', 'ATR', 'SuperTrend_Up', 'SuperTrend_Down', 'Trend',\n",
      "       'Buy_Signal', 'Sell_Signal'],\n",
      "      dtype='object')\n",
      "Index(['Open', 'High', 'Low', 'Close', 'Adj Close', 'Volume'], dtype='object')\n"
     ]
    },
    {
     "name": "stderr",
     "output_type": "stream",
     "text": [
      "\n",
      "[*********************100%***********************]  1 of 1 completed"
     ]
    },
    {
     "name": "stdout",
     "output_type": "stream",
     "text": [
      "Index(['Open', 'High', 'Low', 'Close', 'Adj Close', 'Volume', 'TR1', 'TR2',\n",
      "       'TR3', 'TR', 'ATR', 'SuperTrend_Up', 'SuperTrend_Down', 'Trend',\n",
      "       'Buy_Signal', 'Sell_Signal'],\n",
      "      dtype='object')\n",
      "Index(['Open', 'High', 'Low', 'Close', 'Adj Close', 'Volume'], dtype='object')\n"
     ]
    },
    {
     "name": "stderr",
     "output_type": "stream",
     "text": [
      "\n",
      "[*********************100%***********************]  1 of 1 completed\n"
     ]
    },
    {
     "name": "stdout",
     "output_type": "stream",
     "text": [
      "Index(['Open', 'High', 'Low', 'Close', 'Adj Close', 'Volume', 'TR1', 'TR2',\n",
      "       'TR3', 'TR', 'ATR', 'SuperTrend_Up', 'SuperTrend_Down', 'Trend',\n",
      "       'Buy_Signal', 'Sell_Signal'],\n",
      "      dtype='object')\n",
      "Index(['Open', 'High', 'Low', 'Close', 'Adj Close', 'Volume'], dtype='object')\n",
      "Index(['Open', 'High', 'Low', 'Close', 'Adj Close', 'Volume', 'TR1', 'TR2',\n",
      "       'TR3', 'TR', 'ATR', 'SuperTrend_Up', 'SuperTrend_Down', 'Trend',\n",
      "       'Buy_Signal', 'Sell_Signal'],\n",
      "      dtype='object')\n"
     ]
    },
    {
     "name": "stderr",
     "output_type": "stream",
     "text": [
      "[*********************100%***********************]  1 of 1 completed\n",
      "[*********************100%***********************]  1 of 1 completed\n"
     ]
    },
    {
     "name": "stdout",
     "output_type": "stream",
     "text": [
      "Index(['Open', 'High', 'Low', 'Close', 'Adj Close', 'Volume'], dtype='object')\n",
      "Index(['Open', 'High', 'Low', 'Close', 'Adj Close', 'Volume', 'TR1', 'TR2',\n",
      "       'TR3', 'TR', 'ATR', 'SuperTrend_Up', 'SuperTrend_Down', 'Trend',\n",
      "       'Buy_Signal', 'Sell_Signal'],\n",
      "      dtype='object')\n",
      "Index(['Open', 'High', 'Low', 'Close', 'Adj Close', 'Volume'], dtype='object')\n"
     ]
    },
    {
     "name": "stderr",
     "output_type": "stream",
     "text": [
      "[*********************100%***********************]  1 of 1 completed\n"
     ]
    },
    {
     "name": "stdout",
     "output_type": "stream",
     "text": [
      "Index(['Open', 'High', 'Low', 'Close', 'Adj Close', 'Volume', 'TR1', 'TR2',\n",
      "       'TR3', 'TR', 'ATR', 'SuperTrend_Up', 'SuperTrend_Down', 'Trend',\n",
      "       'Buy_Signal', 'Sell_Signal'],\n",
      "      dtype='object')\n",
      "Index(['Open', 'High', 'Low', 'Close', 'Adj Close', 'Volume'], dtype='object')\n",
      "Index(['Open', 'High', 'Low', 'Close', 'Adj Close', 'Volume', 'TR1', 'TR2',\n",
      "       'TR3', 'TR', 'ATR', 'SuperTrend_Up', 'SuperTrend_Down', 'Trend',\n",
      "       'Buy_Signal', 'Sell_Signal'],\n",
      "      dtype='object')\n"
     ]
    },
    {
     "name": "stderr",
     "output_type": "stream",
     "text": [
      "[*********************100%***********************]  1 of 1 completed\n",
      "[*********************100%***********************]  1 of 1 completed\n"
     ]
    },
    {
     "name": "stdout",
     "output_type": "stream",
     "text": [
      "Index(['Open', 'High', 'Low', 'Close', 'Adj Close', 'Volume'], dtype='object')\n",
      "Index(['Open', 'High', 'Low', 'Close', 'Adj Close', 'Volume', 'TR1', 'TR2',\n",
      "       'TR3', 'TR', 'ATR', 'SuperTrend_Up', 'SuperTrend_Down', 'Trend',\n",
      "       'Buy_Signal', 'Sell_Signal'],\n",
      "      dtype='object')\n",
      "Index(['Open', 'High', 'Low', 'Close', 'Adj Close', 'Volume'], dtype='object')\n"
     ]
    },
    {
     "name": "stderr",
     "output_type": "stream",
     "text": [
      "[*********************100%***********************]  1 of 1 completed"
     ]
    },
    {
     "name": "stdout",
     "output_type": "stream",
     "text": [
      "Index(['Open', 'High', 'Low', 'Close', 'Adj Close', 'Volume', 'TR1', 'TR2',\n",
      "       'TR3', 'TR', 'ATR', 'SuperTrend_Up', 'SuperTrend_Down', 'Trend',\n",
      "       'Buy_Signal', 'Sell_Signal'],\n",
      "      dtype='object')\n",
      "Index(['Open', 'High', 'Low', 'Close', 'Adj Close', 'Volume'], dtype='object')\n",
      "Index(['Open', 'High', 'Low', 'Close', 'Adj Close', 'Volume', 'TR1', 'TR2',\n",
      "       'TR3', 'TR', 'ATR', 'SuperTrend_Up', 'SuperTrend_Down', 'Trend',\n",
      "       'Buy_Signal', 'Sell_Signal'],\n",
      "      dtype='object')\n"
     ]
    },
    {
     "name": "stderr",
     "output_type": "stream",
     "text": [
      "\n",
      "[*********************100%***********************]  1 of 1 completed\n",
      "[*********************100%***********************]  1 of 1 completed\n"
     ]
    },
    {
     "name": "stdout",
     "output_type": "stream",
     "text": [
      "Index(['Open', 'High', 'Low', 'Close', 'Adj Close', 'Volume'], dtype='object')\n",
      "Index(['Open', 'High', 'Low', 'Close', 'Adj Close', 'Volume', 'TR1', 'TR2',\n",
      "       'TR3', 'TR', 'ATR', 'SuperTrend_Up', 'SuperTrend_Down', 'Trend',\n",
      "       'Buy_Signal', 'Sell_Signal'],\n",
      "      dtype='object')\n",
      "Index(['Open', 'High', 'Low', 'Close', 'Adj Close', 'Volume'], dtype='object')\n"
     ]
    },
    {
     "name": "stderr",
     "output_type": "stream",
     "text": [
      "[*********************100%***********************]  1 of 1 completed"
     ]
    },
    {
     "name": "stdout",
     "output_type": "stream",
     "text": [
      "Index(['Open', 'High', 'Low', 'Close', 'Adj Close', 'Volume', 'TR1', 'TR2',\n",
      "       'TR3', 'TR', 'ATR', 'SuperTrend_Up', 'SuperTrend_Down', 'Trend',\n",
      "       'Buy_Signal', 'Sell_Signal'],\n",
      "      dtype='object')\n",
      "Index(['Open', 'High', 'Low', 'Close', 'Adj Close', 'Volume'], dtype='object')\n"
     ]
    },
    {
     "name": "stderr",
     "output_type": "stream",
     "text": [
      "\n",
      "[*********************100%***********************]  1 of 1 completed\n"
     ]
    },
    {
     "name": "stdout",
     "output_type": "stream",
     "text": [
      "Index(['Open', 'High', 'Low', 'Close', 'Adj Close', 'Volume', 'TR1', 'TR2',\n",
      "       'TR3', 'TR', 'ATR', 'SuperTrend_Up', 'SuperTrend_Down', 'Trend',\n",
      "       'Buy_Signal', 'Sell_Signal'],\n",
      "      dtype='object')\n",
      "Index(['Open', 'High', 'Low', 'Close', 'Adj Close', 'Volume'], dtype='object')\n",
      "Index(['Open', 'High', 'Low', 'Close', 'Adj Close', 'Volume', 'TR1', 'TR2',\n",
      "       'TR3', 'TR', 'ATR', 'SuperTrend_Up', 'SuperTrend_Down', 'Trend',\n",
      "       'Buy_Signal', 'Sell_Signal'],\n",
      "      dtype='object')\n"
     ]
    },
    {
     "name": "stderr",
     "output_type": "stream",
     "text": [
      "[*********************100%***********************]  1 of 1 completed\n"
     ]
    },
    {
     "name": "stdout",
     "output_type": "stream",
     "text": [
      "Index(['Open', 'High', 'Low', 'Close', 'Adj Close', 'Volume'], dtype='object')\n",
      "Index(['Open', 'High', 'Low', 'Close', 'Adj Close', 'Volume', 'TR1', 'TR2',\n",
      "       'TR3', 'TR', 'ATR', 'SuperTrend_Up', 'SuperTrend_Down', 'Trend',\n",
      "       'Buy_Signal', 'Sell_Signal'],\n",
      "      dtype='object')\n"
     ]
    },
    {
     "name": "stderr",
     "output_type": "stream",
     "text": [
      "[*********************100%***********************]  1 of 1 completed\n",
      "[*********************100%***********************]  1 of 1 completed\n"
     ]
    },
    {
     "name": "stdout",
     "output_type": "stream",
     "text": [
      "Index(['Open', 'High', 'Low', 'Close', 'Adj Close', 'Volume'], dtype='object')\n",
      "Index(['Open', 'High', 'Low', 'Close', 'Adj Close', 'Volume', 'TR1', 'TR2',\n",
      "       'TR3', 'TR', 'ATR', 'SuperTrend_Up', 'SuperTrend_Down', 'Trend',\n",
      "       'Buy_Signal', 'Sell_Signal'],\n",
      "      dtype='object')\n",
      "Index(['Open', 'High', 'Low', 'Close', 'Adj Close', 'Volume'], dtype='object')\n"
     ]
    },
    {
     "name": "stderr",
     "output_type": "stream",
     "text": [
      "[*********************100%***********************]  1 of 1 completed\n"
     ]
    },
    {
     "name": "stdout",
     "output_type": "stream",
     "text": [
      "Index(['Open', 'High', 'Low', 'Close', 'Adj Close', 'Volume', 'TR1', 'TR2',\n",
      "       'TR3', 'TR', 'ATR', 'SuperTrend_Up', 'SuperTrend_Down', 'Trend',\n",
      "       'Buy_Signal', 'Sell_Signal'],\n",
      "      dtype='object')\n",
      "Index(['Open', 'High', 'Low', 'Close', 'Adj Close', 'Volume'], dtype='object')\n",
      "Index(['Open', 'High', 'Low', 'Close', 'Adj Close', 'Volume', 'TR1', 'TR2',\n",
      "       'TR3', 'TR', 'ATR', 'SuperTrend_Up', 'SuperTrend_Down', 'Trend',\n",
      "       'Buy_Signal', 'Sell_Signal'],\n",
      "      dtype='object')\n"
     ]
    },
    {
     "name": "stderr",
     "output_type": "stream",
     "text": [
      "[*********************100%***********************]  1 of 1 completed\n",
      "[*********************100%***********************]  1 of 1 completed\n"
     ]
    },
    {
     "name": "stdout",
     "output_type": "stream",
     "text": [
      "Index(['Open', 'High', 'Low', 'Close', 'Adj Close', 'Volume'], dtype='object')\n",
      "Index(['Open', 'High', 'Low', 'Close', 'Adj Close', 'Volume', 'TR1', 'TR2',\n",
      "       'TR3', 'TR', 'ATR', 'SuperTrend_Up', 'SuperTrend_Down', 'Trend',\n",
      "       'Buy_Signal', 'Sell_Signal'],\n",
      "      dtype='object')\n",
      "Index(['Open', 'High', 'Low', 'Close', 'Adj Close', 'Volume'], dtype='object')\n"
     ]
    },
    {
     "name": "stderr",
     "output_type": "stream",
     "text": [
      "[*********************100%***********************]  1 of 1 completed"
     ]
    },
    {
     "name": "stdout",
     "output_type": "stream",
     "text": [
      "Index(['Open', 'High', 'Low', 'Close', 'Adj Close', 'Volume', 'TR1', 'TR2',\n",
      "       'TR3', 'TR', 'ATR', 'SuperTrend_Up', 'SuperTrend_Down', 'Trend',\n",
      "       'Buy_Signal', 'Sell_Signal'],\n",
      "      dtype='object')\n",
      "Index(['Open', 'High', 'Low', 'Close', 'Adj Close', 'Volume'], dtype='object')\n"
     ]
    },
    {
     "name": "stderr",
     "output_type": "stream",
     "text": [
      "\n",
      "[*********************100%***********************]  1 of 1 completed"
     ]
    },
    {
     "name": "stdout",
     "output_type": "stream",
     "text": [
      "Index(['Open', 'High', 'Low', 'Close', 'Adj Close', 'Volume', 'TR1', 'TR2',\n",
      "       'TR3', 'TR', 'ATR', 'SuperTrend_Up', 'SuperTrend_Down', 'Trend',\n",
      "       'Buy_Signal', 'Sell_Signal'],\n",
      "      dtype='object')\n",
      "Index(['Open', 'High', 'Low', 'Close', 'Adj Close', 'Volume'], dtype='object')\n"
     ]
    },
    {
     "name": "stderr",
     "output_type": "stream",
     "text": [
      "\n",
      "[*********************100%***********************]  1 of 1 completed\n"
     ]
    },
    {
     "name": "stdout",
     "output_type": "stream",
     "text": [
      "Index(['Open', 'High', 'Low', 'Close', 'Adj Close', 'Volume', 'TR1', 'TR2',\n",
      "       'TR3', 'TR', 'ATR', 'SuperTrend_Up', 'SuperTrend_Down', 'Trend',\n",
      "       'Buy_Signal', 'Sell_Signal'],\n",
      "      dtype='object')\n",
      "Index(['Open', 'High', 'Low', 'Close', 'Adj Close', 'Volume'], dtype='object')\n",
      "Index(['Open', 'High', 'Low', 'Close', 'Adj Close', 'Volume', 'TR1', 'TR2',\n",
      "       'TR3', 'TR', 'ATR', 'SuperTrend_Up', 'SuperTrend_Down', 'Trend',\n",
      "       'Buy_Signal', 'Sell_Signal'],\n",
      "      dtype='object')\n"
     ]
    },
    {
     "name": "stderr",
     "output_type": "stream",
     "text": [
      "[*********************100%***********************]  1 of 1 completed\n",
      "[*********************100%***********************]  1 of 1 completed\n"
     ]
    },
    {
     "name": "stdout",
     "output_type": "stream",
     "text": [
      "Index(['Open', 'High', 'Low', 'Close', 'Adj Close', 'Volume'], dtype='object')\n",
      "Index(['Open', 'High', 'Low', 'Close', 'Adj Close', 'Volume', 'TR1', 'TR2',\n",
      "       'TR3', 'TR', 'ATR', 'SuperTrend_Up', 'SuperTrend_Down', 'Trend',\n",
      "       'Buy_Signal', 'Sell_Signal'],\n",
      "      dtype='object')\n",
      "Index(['Open', 'High', 'Low', 'Close', 'Adj Close', 'Volume'], dtype='object')\n"
     ]
    },
    {
     "name": "stderr",
     "output_type": "stream",
     "text": [
      "[*********************100%***********************]  1 of 1 completed\n"
     ]
    },
    {
     "name": "stdout",
     "output_type": "stream",
     "text": [
      "Index(['Open', 'High', 'Low', 'Close', 'Adj Close', 'Volume', 'TR1', 'TR2',\n",
      "       'TR3', 'TR', 'ATR', 'SuperTrend_Up', 'SuperTrend_Down', 'Trend',\n",
      "       'Buy_Signal', 'Sell_Signal'],\n",
      "      dtype='object')\n",
      "Index(['Open', 'High', 'Low', 'Close', 'Adj Close', 'Volume'], dtype='object')\n"
     ]
    },
    {
     "name": "stderr",
     "output_type": "stream",
     "text": [
      "[*********************100%***********************]  1 of 1 completed\n"
     ]
    },
    {
     "name": "stdout",
     "output_type": "stream",
     "text": [
      "Index(['Open', 'High', 'Low', 'Close', 'Adj Close', 'Volume', 'TR1', 'TR2',\n",
      "       'TR3', 'TR', 'ATR', 'SuperTrend_Up', 'SuperTrend_Down', 'Trend',\n",
      "       'Buy_Signal', 'Sell_Signal'],\n",
      "      dtype='object')\n",
      "Index(['Open', 'High', 'Low', 'Close', 'Adj Close', 'Volume'], dtype='object')\n"
     ]
    },
    {
     "name": "stderr",
     "output_type": "stream",
     "text": [
      "[*********************100%***********************]  1 of 1 completed"
     ]
    },
    {
     "name": "stdout",
     "output_type": "stream",
     "text": [
      "Index(['Open', 'High', 'Low', 'Close', 'Adj Close', 'Volume', 'TR1', 'TR2',\n",
      "       'TR3', 'TR', 'ATR', 'SuperTrend_Up', 'SuperTrend_Down', 'Trend',\n",
      "       'Buy_Signal', 'Sell_Signal'],\n",
      "      dtype='object')\n",
      "Index(['Open', 'High', 'Low', 'Close', 'Adj Close', 'Volume'], dtype='object')\n"
     ]
    },
    {
     "name": "stderr",
     "output_type": "stream",
     "text": [
      "\n",
      "[*********************100%***********************]  1 of 1 completed"
     ]
    },
    {
     "name": "stdout",
     "output_type": "stream",
     "text": [
      "Index(['Open', 'High', 'Low', 'Close', 'Adj Close', 'Volume', 'TR1', 'TR2',\n",
      "       'TR3', 'TR', 'ATR', 'SuperTrend_Up', 'SuperTrend_Down', 'Trend',\n",
      "       'Buy_Signal', 'Sell_Signal'],\n",
      "      dtype='object')\n",
      "Index(['Open', 'High', 'Low', 'Close', 'Adj Close', 'Volume'], dtype='object')\n"
     ]
    },
    {
     "name": "stderr",
     "output_type": "stream",
     "text": [
      "\n",
      "[*********************100%***********************]  1 of 1 completed\n",
      "\n",
      "1 Failed download:\n",
      "['UPB']: YFInvalidPeriodError(\"%ticker%: Period '1y' is invalid, must be one of ['1d', '5d', '1mo', '3mo', 'ytd', 'max']\")\n"
     ]
    },
    {
     "name": "stdout",
     "output_type": "stream",
     "text": [
      "Index(['Open', 'High', 'Low', 'Close', 'Adj Close', 'Volume', 'TR1', 'TR2',\n",
      "       'TR3', 'TR', 'ATR', 'SuperTrend_Up', 'SuperTrend_Down', 'Trend',\n",
      "       'Buy_Signal', 'Sell_Signal'],\n",
      "      dtype='object')\n",
      "Index(['Open', 'High', 'Low', 'Close', 'Adj Close', 'Volume'], dtype='object')\n",
      "Error processing UPB: iloc cannot enlarge its target object\n",
      "Stocks with price crossing over EMA-200 in the last 3 bars (5-minute interval):\n",
      "ENVX\n",
      "MNKD\n",
      "INSW\n",
      "DESP\n",
      "TLRY\n",
      "BBAI\n",
      "EH\n"
     ]
    }
   ],
   "source": [
    "import yfinance as yf\n",
    "import pandas as pd\n",
    "import numpy as np\n",
    "from datetime import datetime, timedelta\n",
    "import ta\n",
    "from datetime import datetime, timedelta\n",
    "\n",
    "def calculate_rma(df, length, column='Close'):\n",
    "    \"\"\"\n",
    "    Calculate the Relative Moving Average (RMA) for a given DataFrame.\n",
    "    \n",
    "    Parameters:\n",
    "    df (pandas.DataFrame): DataFrame with OHLCV data\n",
    "    length (int): The period for RMA calculation\n",
    "    column (str): The column to use for calculation (default is 'Close')\n",
    "    \n",
    "    Returns:\n",
    "    pandas.Series: RMA values\n",
    "    \"\"\"\n",
    "    alpha = 1 / length\n",
    "    \n",
    "    # Initialize the RMA series with NaN values\n",
    "    rma = pd.Series(index=df.index, dtype=float)\n",
    "    \n",
    "    # Calculate the first RMA value (same as SMA for the first 'length' periods)\n",
    "    rma.iloc[length-1] = df[column].iloc[:length].mean()\n",
    "    \n",
    "    # Calculate subsequent RMA values\n",
    "    for i in range(length, len(df)):\n",
    "        rma.iloc[i] = (df[column].iloc[i] * alpha) + (rma.iloc[i-1] * (1 - alpha))\n",
    "    return rma\n",
    "\n",
    "def calculate_atr(data, period=10):\n",
    "    \"\"\"\n",
    "    Calculate the Average True Range (ATR) using TradingView-like logic.\n",
    "    \"\"\"\n",
    "    # True Range (TR) calculations\n",
    "    data['TR1'] = data['High'] - data['Low']\n",
    "    data['TR2'] = abs(data['High'] - data['Close'].shift(1))\n",
    "    data['TR3'] = abs(data['Low'] - data['Close'].shift(1))\n",
    "    data['TR'] = data[['TR1', 'TR2', 'TR3']].max(axis=1)\n",
    "\n",
    "    # Average True Range (ATR) as Relative Moving Average (RMA) of TR\n",
    "    #data['ATR'] =  data['TR'].rolling(window=period).mean()  #calculate_rma(data, 'TR', period)\n",
    "    # Calculate RMA\n",
    "\n",
    "    data['ATR'] = calculate_rma(data, length = 10, column = 'TR')\n",
    "    #data['ATR'] =  calculate_rma(data, 'TR', period)\n",
    "    return data\n",
    "\n",
    "# 2. SuperTrend Calculation\n",
    "def calculate_supertrend(df, period=10, multiplier=3.0, change_atr=True):\n",
    "\n",
    "    print(df.columns)\n",
    "    # Calculate ATR\n",
    "    df = calculate_atr(df, period=period)\n",
    "    #print(\"ATR***\")\n",
    "    high = df['High']\n",
    "    low = df['Low']\n",
    "    close = df['Close']\n",
    "    atr = df['ATR']\n",
    "    #print(\"step3\")\n",
    "\n",
    "    # Calculate True Range\n",
    "    #tr1 = pd.DataFrame(high - low)\n",
    "    #tr2 = pd.DataFrame(abs(high - close.shift(1)))\n",
    "    #tr3 = pd.DataFrame(abs(low - close.shift(1)))\n",
    "    #frames = [tr1, tr2, tr3]\n",
    "    #tr = pd.concat(frames, axis=1, join='inner').max(axis=1)\n",
    "    \n",
    "    # Calculate ATR\n",
    "    #if change_atr:\n",
    "    #    atr = tr.ewm(alpha=1/period, min_periods=period).mean()\n",
    "    #else:\n",
    "    #    atr = tr.rolling(window=period).mean()\n",
    "    \n",
    "    # Calculate SuperTrend\n",
    "    hl2 = (high + low) / 2\n",
    "    \n",
    "    # Basic bands\n",
    "    final_upperband = hl2 - (multiplier * atr)\n",
    "    final_lowerband = hl2 + (multiplier * atr)\n",
    "\n",
    "    #print(\"step4\")\n",
    "    # Initialize Supertrend columns\n",
    "    supertrend = pd.DataFrame(index=df.index)\n",
    "    supertrend['up'] = final_upperband\n",
    "    supertrend['down'] = final_lowerband\n",
    "    supertrend['trend'] = 1\n",
    "    \n",
    "    # Calculate SuperTrend\n",
    "    for i in range(1, len(df.index)):\n",
    "        curr = df.index[i]\n",
    "        prev = df.index[i-1]\n",
    "        \n",
    "        # Up trend\n",
    "        if close[curr] > supertrend.loc[prev, 'up']:\n",
    "            supertrend.loc[curr, 'up'] = max(supertrend.loc[prev, 'up'], final_upperband[curr])\n",
    "        else:\n",
    "            supertrend.loc[curr, 'up'] = final_upperband[curr]\n",
    "            \n",
    "        # Down trend\n",
    "        if close[curr] < supertrend.loc[prev, 'down']:\n",
    "            supertrend.loc[curr, 'down'] = min(supertrend.loc[prev, 'down'], final_lowerband[curr])\n",
    "        else:\n",
    "            supertrend.loc[curr, 'down'] = final_lowerband[curr]\n",
    "            \n",
    "        # Trend\n",
    "        if close[curr] > supertrend.loc[prev, 'down']:\n",
    "            supertrend.loc[curr, 'trend'] = 1\n",
    "        elif close[curr] < supertrend.loc[prev, 'up']:\n",
    "            supertrend.loc[curr, 'trend'] = -1\n",
    "        else:\n",
    "            supertrend.loc[curr, 'trend'] = supertrend.loc[prev, 'trend']\n",
    "            \n",
    "    # Generate signals\n",
    "    supertrend['buy_signal'] = (supertrend['trend'] == 1) & (supertrend['trend'].shift(1) == -1)\n",
    "    supertrend['sell_signal'] = (supertrend['trend'] == -1) & (supertrend['trend'].shift(1) == 1)\n",
    "    \n",
    "    return supertrend\n",
    "\n",
    "def calculateQQE(rsiLength, smoothingFactor, qqeFactor, source):\n",
    "    wildersLength = rsiLength * 2 - 1\n",
    "\n",
    "    delta = source.diff()\n",
    "    up = delta.clip(lower=0)\n",
    "    down = -delta.clip(upper=0)\n",
    "    up_avg = up.ewm(alpha=1/rsiLength, adjust=False).mean()\n",
    "    down_avg = down.ewm(alpha=1/rsiLength, adjust=False).mean()\n",
    "    rs = up_avg / down_avg\n",
    "    rsi = 100 - (100 / (1 + rs))\n",
    "    \n",
    "    smoothedRsi = rsi.ewm(span=smoothingFactor, adjust=False).mean()\n",
    "\n",
    "    atrRsi = (smoothedRsi - smoothedRsi.shift(1)).abs()\n",
    "    smoothedAtrRsi = atrRsi.ewm(span=wildersLength, adjust=False).mean()\n",
    "    dynamicAtrRsi = smoothedAtrRsi * qqeFactor\n",
    "\n",
    "    longBand = pd.Series(index=source.index)\n",
    "    shortBand = pd.Series(index=source.index)\n",
    "    trendDirection = pd.Series(index=source.index, dtype='int')\n",
    "\n",
    "    longBand.iloc[0] = smoothedRsi.iloc[0]\n",
    "    shortBand.iloc[0] = smoothedRsi.iloc[0]\n",
    "    trendDirection.iloc[0] = 0\n",
    "\n",
    "    for i in range(1, len(source)):\n",
    "        atrDelta = dynamicAtrRsi.iloc[i]\n",
    "        newLongBand = smoothedRsi.iloc[i] - atrDelta\n",
    "        newShortBand = smoothedRsi.iloc[i] + atrDelta\n",
    "\n",
    "        prevLongBand = longBand.iloc[i - 1]\n",
    "        prevShortBand = shortBand.iloc[i - 1]\n",
    "        prevSmoothedRsi = smoothedRsi.iloc[i - 1]\n",
    "\n",
    "        if prevSmoothedRsi > prevLongBand and smoothedRsi.iloc[i] > prevLongBand:\n",
    "            longBand.iloc[i] = max(prevLongBand, newLongBand)\n",
    "        else:\n",
    "            longBand.iloc[i] = newLongBand\n",
    "\n",
    "        if prevSmoothedRsi < prevShortBand and smoothedRsi.iloc[i] < prevShortBand:\n",
    "            shortBand.iloc[i] = min(prevShortBand, newShortBand)\n",
    "        else:\n",
    "            shortBand.iloc[i] = newShortBand\n",
    "\n",
    "        if smoothedRsi.iloc[i] > prevShortBand and prevSmoothedRsi <= prevShortBand:\n",
    "            trendDirection.iloc[i] = 1\n",
    "        elif smoothedRsi.iloc[i] < prevLongBand and prevSmoothedRsi >= prevLongBand:\n",
    "            trendDirection.iloc[i] = -1\n",
    "        else:\n",
    "            trendDirection.iloc[i] = trendDirection.iloc[i - 1]\n",
    "\n",
    "    qqeTrendLine = pd.Series(index=source.index)\n",
    "    for i in range(len(source)):\n",
    "        if trendDirection.iloc[i] == 1:\n",
    "            qqeTrendLine.iloc[i] = longBand.iloc[i]\n",
    "        else:\n",
    "            qqeTrendLine.iloc[i] = shortBand.iloc[i]\n",
    "\n",
    "    return qqeTrendLine, smoothedRsi\n",
    "\n",
    "def qqe_mod(data):\n",
    "\n",
    "    # Define QQE Indicator Inputs\n",
    "    rsiLengthPrimary = 6\n",
    "    rsiSmoothingPrimary = 5\n",
    "    qqeFactorPrimary = 3.0\n",
    "    thresholdPrimary = 3.0\n",
    "    sourcePrimary = data['Close']\n",
    "\n",
    "    rsiLengthSecondary = 6\n",
    "    rsiSmoothingSecondary = 5\n",
    "    qqeFactorSecondary = 1.61\n",
    "    thresholdSecondary = 3.0\n",
    "    sourceSecondary = data['Close']\n",
    "\n",
    "    bollingerLength = 50\n",
    "    bollingerMultiplier = 0.35\n",
    "\n",
    "    # Main Calculations\n",
    "    primaryQQETrendLine, primaryRSI = calculateQQE(rsiLengthPrimary, rsiSmoothingPrimary, qqeFactorPrimary, sourcePrimary)\n",
    "    secondaryQQETrendLine, secondaryRSI = calculateQQE(rsiLengthSecondary, rsiSmoothingSecondary, qqeFactorSecondary, sourceSecondary)\n",
    "    \n",
    "    primaryQQETrendLineAdj = primaryQQETrendLine - 50\n",
    "    bollingerBasis = primaryQQETrendLineAdj.rolling(window=bollingerLength).mean()\n",
    "    bollingerDeviation = bollingerMultiplier * primaryQQETrendLineAdj.rolling(window=bollingerLength).std()\n",
    "    bollingerUpper = bollingerBasis + bollingerDeviation\n",
    "    bollingerLower = bollingerBasis - bollingerDeviation\n",
    "    \n",
    "    primaryRSIAdj = primaryRSI - 50\n",
    "    secondaryRSIAdj = secondaryRSI - 50\n",
    "\n",
    "    # Add new columns to the DataFrame\n",
    "    data['Primary RSI'] = primaryRSIAdj\n",
    "    data['Secondary RSI'] = secondaryRSIAdj\n",
    "    data['Bollinger Upper'] = bollingerUpper\n",
    "    data['Bollinger Lower'] = bollingerLower\n",
    "\n",
    "    # Add signal column\n",
    "    data['qqe_Signal'] = np.where((secondaryRSIAdj > thresholdSecondary) & (primaryRSIAdj > bollingerUpper), 'Up',\n",
    "                              np.where((secondaryRSIAdj < -thresholdSecondary) & (primaryRSIAdj < bollingerLower), 'Down', None))\n",
    "\n",
    "    #data.drop(['Bollinger Upper','Bollinger Lower','Primary RSI','Secondary RSI'])\n",
    "    data = data.drop(columns=['Bollinger Upper','Bollinger Lower','Primary RSI','Secondary RSI']) \n",
    "    return data\n",
    "\n",
    "def fetch_sp500_tickers():\n",
    "    url = \"https://en.wikipedia.org/wiki/List_of_S%26P_500_companies\"\n",
    "    table = pd.read_html(url)[0]\n",
    "    return table['Symbol'].tolist()\n",
    "\n",
    "def calculate_ema(data, period):\n",
    "    return data['Close'].ewm(span=period, adjust=False).mean()\n",
    "\n",
    "def check_crossover(data):\n",
    "    ema200 = calculate_ema(data, 200)\n",
    "    last_3_bars = data.tail(3)\n",
    "    crossover = (last_3_bars['Close'].iloc[0] <= ema200.iloc[-3]) and \\\n",
    "                (last_3_bars['Close'].iloc[-1] > ema200.iloc[-1])\n",
    "    return crossover\n",
    "\n",
    "def scan_stocks(tickers):\n",
    "    end_time = datetime.now()\n",
    "    start_time = end_time - timedelta(days=5)\n",
    "    \n",
    "    crossover_stocks = []\n",
    "    \n",
    "    for ticker in tickers:\n",
    "        try:\n",
    "            #stock = yf.Ticker(ticker)\n",
    "            #data =  yf.download(tickers=ticker, period='1y', interval='1d') #stock.history(start=start_time, end=end_time, interval=\"5m\")\n",
    "            data =  yf.download(tickers=ticker, period='1y', interval='1d') #stock.history(start=start_time, end=end_time, interval=\"5m\")\n",
    "            \n",
    "            df = data\n",
    "            st = calculate_supertrend(\n",
    "                data,\n",
    "                period=10,          # ATR Period\n",
    "                multiplier=3.0,     # ATR Multiplier\n",
    "                change_atr=True     # Use EMA for ATR calculation\n",
    "            )\n",
    "        \n",
    "            # Merge with original data\n",
    "            df['SuperTrend_Up'] = np.where(st['trend'] == 1, st['up'], np.nan)\n",
    "            df['SuperTrend_Down'] = np.where(st['trend'] == -1, st['down'], np.nan)\n",
    "            df['Trend'] = st['trend']\n",
    "            df['Buy_Signal'] = st['buy_signal']\n",
    "            df['Sell_Signal'] = st['sell_signal']\n",
    "        \n",
    "            print(df.columns)\n",
    "            df['ema50'] = df['Close'].ewm(span=50, adjust=False).mean()\n",
    "            df['ema100'] = df['Close'].ewm(span=100, adjust=False).mean()\n",
    "            df['ema200'] = df['Close'].ewm(span=200, adjust=False).mean()\n",
    "            #df[['maDf','maAcc','inChannel']] = ema_slope(df)\n",
    "        \n",
    "            df = qqe_mod(df)\n",
    "            # Calculate the absolute and percentage gap between EMA50 and EMA200            \n",
    "\n",
    "            row = df.tail(3)\n",
    "           \n",
    "            #if len(df) >= 200 and  ((row['Trend'] == 1) and (row['qqe_Signal'] == 'Up')) :  #( row['Buy_Signal'] == True)\n",
    "            #if len(df) >= 200 and  ((row['Trend'] == 1) and (row['Buy_Signal'] == True)) :  #( row['Buy_Signal'] == True)\n",
    "\n",
    "            if len(df) >= 200 and  ((row['Trend'].iloc[-1] == 1 and row['Buy_Signal'].iloc[-1] == True) or (row['Trend'].iloc[-2] == 1 and row['Buy_Signal'].iloc[-2] == True) or (row['Trend'].iloc[-3] == 1 and row['Buy_Signal'].iloc[-3] == True)   ) :  #( row['Buy_Signal'] == True\n",
    "                crossover_stocks.append(ticker)\n",
    "        except Exception as e:\n",
    "            print(f\"Error processing {ticker}: {str(e)}\")\n",
    "    \n",
    "    return crossover_stocks\n",
    "\n",
    "if __name__ == \"__main__\":\n",
    "    #sp500_tickers = fetch_sp500_tickers()\n",
    "    crossover_stocks = scan_stocks(tickers)\n",
    "    \n",
    "    print(\"Stocks with price crossing over EMA-200 in the last 3 bars (5-minute interval):\")\n",
    "    for stock in crossover_stocks:\n",
    "        print(stock)"
   ]
  },
  {
   "cell_type": "code",
   "execution_count": null,
   "id": "9d9aa115-eee0-42b7-adb0-30c1334a26ab",
   "metadata": {},
   "outputs": [],
   "source": []
  },
  {
   "cell_type": "code",
   "execution_count": 19,
   "id": "6f7d8c15-b5e8-49cf-89b6-5eb5b37b5a71",
   "metadata": {},
   "outputs": [],
   "source": [
    "import yfinance as yf\n",
    "\n",
    "# Create a Ticker object for AAPL\n",
    "aapl = yf.Ticker(\"AAPL\")\n",
    "\n",
    "# Download weekly data\n",
    "weekly_data = aapl.history(period=\"2y\", interval=\"1wk\")\n",
    "\n"
   ]
  },
  {
   "cell_type": "code",
   "execution_count": 31,
   "id": "d54d79a7-abae-4057-90f4-eaeaa6c65e61",
   "metadata": {},
   "outputs": [
    {
     "data": {
      "text/html": [
       "<div>\n",
       "<style scoped>\n",
       "    .dataframe tbody tr th:only-of-type {\n",
       "        vertical-align: middle;\n",
       "    }\n",
       "\n",
       "    .dataframe tbody tr th {\n",
       "        vertical-align: top;\n",
       "    }\n",
       "\n",
       "    .dataframe thead th {\n",
       "        text-align: right;\n",
       "    }\n",
       "</style>\n",
       "<table border=\"1\" class=\"dataframe\">\n",
       "  <thead>\n",
       "    <tr style=\"text-align: right;\">\n",
       "      <th></th>\n",
       "      <th>Open</th>\n",
       "      <th>High</th>\n",
       "      <th>Low</th>\n",
       "      <th>Close</th>\n",
       "      <th>Volume</th>\n",
       "      <th>Dividends</th>\n",
       "      <th>Stock Splits</th>\n",
       "    </tr>\n",
       "    <tr>\n",
       "      <th>Date</th>\n",
       "      <th></th>\n",
       "      <th></th>\n",
       "      <th></th>\n",
       "      <th></th>\n",
       "      <th></th>\n",
       "      <th></th>\n",
       "      <th></th>\n",
       "    </tr>\n",
       "  </thead>\n",
       "  <tbody>\n",
       "    <tr>\n",
       "      <th>2022-12-26 00:00:00-05:00</th>\n",
       "      <td>130.012819</td>\n",
       "      <td>130.042506</td>\n",
       "      <td>124.560156</td>\n",
       "      <td>128.577896</td>\n",
       "      <td>307184100</td>\n",
       "      <td>0.0</td>\n",
       "      <td>0.0</td>\n",
       "    </tr>\n",
       "    <tr>\n",
       "      <th>2023-01-02 00:00:00-05:00</th>\n",
       "      <td>128.924238</td>\n",
       "      <td>129.537781</td>\n",
       "      <td>122.877821</td>\n",
       "      <td>128.271103</td>\n",
       "      <td>369948500</td>\n",
       "      <td>0.0</td>\n",
       "      <td>0.0</td>\n",
       "    </tr>\n",
       "    <tr>\n",
       "      <th>2023-01-09 00:00:00-05:00</th>\n",
       "      <td>129.112271</td>\n",
       "      <td>133.515959</td>\n",
       "      <td>126.786720</td>\n",
       "      <td>133.357620</td>\n",
       "      <td>333335200</td>\n",
       "      <td>0.0</td>\n",
       "      <td>0.0</td>\n",
       "    </tr>\n",
       "    <tr>\n",
       "      <th>2023-01-16 00:00:00-05:00</th>\n",
       "      <td>133.426899</td>\n",
       "      <td>137.167562</td>\n",
       "      <td>132.377932</td>\n",
       "      <td>136.435257</td>\n",
       "      <td>271823400</td>\n",
       "      <td>0.0</td>\n",
       "      <td>0.0</td>\n",
       "    </tr>\n",
       "    <tr>\n",
       "      <th>2023-01-23 00:00:00-05:00</th>\n",
       "      <td>136.682639</td>\n",
       "      <td>145.697836</td>\n",
       "      <td>136.464928</td>\n",
       "      <td>144.411362</td>\n",
       "      <td>338655600</td>\n",
       "      <td>0.0</td>\n",
       "      <td>0.0</td>\n",
       "    </tr>\n",
       "    <tr>\n",
       "      <th>...</th>\n",
       "      <td>...</td>\n",
       "      <td>...</td>\n",
       "      <td>...</td>\n",
       "      <td>...</td>\n",
       "      <td>...</td>\n",
       "      <td>...</td>\n",
       "      <td>...</td>\n",
       "    </tr>\n",
       "    <tr>\n",
       "      <th>2024-11-25 00:00:00-05:00</th>\n",
       "      <td>231.460007</td>\n",
       "      <td>237.809998</td>\n",
       "      <td>229.740005</td>\n",
       "      <td>237.330002</td>\n",
       "      <td>198118800</td>\n",
       "      <td>0.0</td>\n",
       "      <td>0.0</td>\n",
       "    </tr>\n",
       "    <tr>\n",
       "      <th>2024-12-02 00:00:00-05:00</th>\n",
       "      <td>237.270004</td>\n",
       "      <td>244.630005</td>\n",
       "      <td>237.160004</td>\n",
       "      <td>242.839996</td>\n",
       "      <td>208286500</td>\n",
       "      <td>0.0</td>\n",
       "      <td>0.0</td>\n",
       "    </tr>\n",
       "    <tr>\n",
       "      <th>2024-12-09 00:00:00-05:00</th>\n",
       "      <td>241.830002</td>\n",
       "      <td>250.800003</td>\n",
       "      <td>241.750000</td>\n",
       "      <td>248.130005</td>\n",
       "      <td>192702600</td>\n",
       "      <td>0.0</td>\n",
       "      <td>0.0</td>\n",
       "    </tr>\n",
       "    <tr>\n",
       "      <th>2024-12-16 00:00:00-05:00</th>\n",
       "      <td>247.990005</td>\n",
       "      <td>255.000000</td>\n",
       "      <td>245.690002</td>\n",
       "      <td>254.490005</td>\n",
       "      <td>368202900</td>\n",
       "      <td>0.0</td>\n",
       "      <td>0.0</td>\n",
       "    </tr>\n",
       "    <tr>\n",
       "      <th>2024-12-23 00:00:00-05:00</th>\n",
       "      <td>254.770004</td>\n",
       "      <td>258.209991</td>\n",
       "      <td>253.449997</td>\n",
       "      <td>258.200012</td>\n",
       "      <td>85058506</td>\n",
       "      <td>0.0</td>\n",
       "      <td>0.0</td>\n",
       "    </tr>\n",
       "  </tbody>\n",
       "</table>\n",
       "<p>105 rows × 7 columns</p>\n",
       "</div>"
      ],
      "text/plain": [
       "                                 Open        High         Low       Close  \\\n",
       "Date                                                                        \n",
       "2022-12-26 00:00:00-05:00  130.012819  130.042506  124.560156  128.577896   \n",
       "2023-01-02 00:00:00-05:00  128.924238  129.537781  122.877821  128.271103   \n",
       "2023-01-09 00:00:00-05:00  129.112271  133.515959  126.786720  133.357620   \n",
       "2023-01-16 00:00:00-05:00  133.426899  137.167562  132.377932  136.435257   \n",
       "2023-01-23 00:00:00-05:00  136.682639  145.697836  136.464928  144.411362   \n",
       "...                               ...         ...         ...         ...   \n",
       "2024-11-25 00:00:00-05:00  231.460007  237.809998  229.740005  237.330002   \n",
       "2024-12-02 00:00:00-05:00  237.270004  244.630005  237.160004  242.839996   \n",
       "2024-12-09 00:00:00-05:00  241.830002  250.800003  241.750000  248.130005   \n",
       "2024-12-16 00:00:00-05:00  247.990005  255.000000  245.690002  254.490005   \n",
       "2024-12-23 00:00:00-05:00  254.770004  258.209991  253.449997  258.200012   \n",
       "\n",
       "                              Volume  Dividends  Stock Splits  \n",
       "Date                                                           \n",
       "2022-12-26 00:00:00-05:00  307184100        0.0           0.0  \n",
       "2023-01-02 00:00:00-05:00  369948500        0.0           0.0  \n",
       "2023-01-09 00:00:00-05:00  333335200        0.0           0.0  \n",
       "2023-01-16 00:00:00-05:00  271823400        0.0           0.0  \n",
       "2023-01-23 00:00:00-05:00  338655600        0.0           0.0  \n",
       "...                              ...        ...           ...  \n",
       "2024-11-25 00:00:00-05:00  198118800        0.0           0.0  \n",
       "2024-12-02 00:00:00-05:00  208286500        0.0           0.0  \n",
       "2024-12-09 00:00:00-05:00  192702600        0.0           0.0  \n",
       "2024-12-16 00:00:00-05:00  368202900        0.0           0.0  \n",
       "2024-12-23 00:00:00-05:00   85058506        0.0           0.0  \n",
       "\n",
       "[105 rows x 7 columns]"
      ]
     },
     "execution_count": 31,
     "metadata": {},
     "output_type": "execute_result"
    }
   ],
   "source": [
    "weekly_data"
   ]
  },
  {
   "cell_type": "code",
   "execution_count": null,
   "id": "2a7cf721-7be4-44eb-8b1c-d3d99439ec5b",
   "metadata": {},
   "outputs": [],
   "source": []
  }
 ],
 "metadata": {
  "kernelspec": {
   "display_name": "Python 3 (ipykernel)",
   "language": "python",
   "name": "python3"
  },
  "language_info": {
   "codemirror_mode": {
    "name": "ipython",
    "version": 3
   },
   "file_extension": ".py",
   "mimetype": "text/x-python",
   "name": "python",
   "nbconvert_exporter": "python",
   "pygments_lexer": "ipython3",
   "version": "3.12.2"
  }
 },
 "nbformat": 4,
 "nbformat_minor": 5
}
